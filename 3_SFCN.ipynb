{
 "cells": [
  {
   "cell_type": "markdown",
   "source": [
    "# Notebook to test [SFCN model](https://github.com/ha-ha-ha-han/UKBiobank_deep_pretrain) for brain age prediction\n",
    "\n",
    "## Currently using a sample ukbb subject "
   ],
   "metadata": {}
  },
  {
   "cell_type": "code",
   "execution_count": 1,
   "source": [
    "import numpy as np\n",
    "import pandas as pd\n",
    "import seaborn as sns\n",
    "from models.sfcn import *\n",
    "from models import dp_loss as dpl\n",
    "from models import dp_utils as dpu\n",
    "\n",
    "import nibabel as nib\n",
    "\n",
    "import torch\n",
    "import torch.nn.functional as F\n",
    "import matplotlib.pyplot as plt"
   ],
   "outputs": [],
   "metadata": {}
  },
  {
   "cell_type": "markdown",
   "source": [
    "## Paths"
   ],
   "metadata": {}
  },
  {
   "cell_type": "code",
   "execution_count": 2,
   "source": [
    "data_dir = \"/home/nikhil/projects/brain_changes/data/ukbb/\"\n",
    "    \n",
    "# This is to be modified with the path of saved weights\n",
    "p_ = 'models/run_20190719_00_epoch_best_mae.p'"
   ],
   "outputs": [],
   "metadata": {}
  },
  {
   "cell_type": "markdown",
   "source": [
    "## Load Model"
   ],
   "metadata": {}
  },
  {
   "cell_type": "code",
   "execution_count": 3,
   "source": [
    "model = SFCN()\n",
    "model = torch.nn.DataParallel(model)\n",
    "\n",
    "if torch.cuda.is_available():\n",
    "    map_location=lambda storage, loc: storage.cuda()\n",
    "else:\n",
    "    map_location='cpu'\n",
    "    \n",
    "model.load_state_dict(torch.load(p_, map_location=torch.device('cpu')))\n",
    "# checkpoint = torch.load(p_, map_location=map_location)"
   ],
   "outputs": [
    {
     "output_type": "execute_result",
     "data": {
      "text/plain": [
       "<All keys matched successfully>"
      ]
     },
     "metadata": {},
     "execution_count": 3
    }
   ],
   "metadata": {}
  },
  {
   "cell_type": "markdown",
   "source": [
    "## Load sample data\n",
    "### Either random or UKBB sample subject\n",
    "\n",
    "### eid\tsex\tbirth_year\tT1-ses2\tT1-ses3\tethnicity\tage_at_ses2\tage_at_ses3\tage_at_recruitment\n",
    "\t\t\t\t\t\t\t\t\n",
    "- 1004084\t1.0\t1947.0\t20252_2_0\t20252_3_0\t1001.0\t70.0\t72.0\t60.0\n",
    "- 1010063\t0.0\t1964.0\t20252_2_0\t20252_3_0\t1001.0\t53.0\t55.0\t45.\n",
    "\n"
   ],
   "metadata": {}
  },
  {
   "cell_type": "code",
   "execution_count": 4,
   "source": [
    "use_random_scan = False\n",
    "subject_age_dict = {\"sub-1010063\": 53, \n",
    "                    \"sub-1004084\": 70}\n",
    "\n",
    "\n",
    "if use_random_scan: \n",
    "    print(\"Generating a random scan...\")\n",
    "    data = np.ones([182, 218, 182]).astype(np.float)\n",
    "    #data = np.random.rand(182, 218, 182)\n",
    "    label = np.array([71.3,]) # Assuming the random subject is 71.3-year-old.\n",
    "\n",
    "else:\n",
    "    # Sample subject needs to be in the MNI space\n",
    "    subject_id = \"sub-1004084\" #\"sub-1010063\" #\"sub-1004084\"\n",
    "    scan_session = \"ses-2\"\n",
    "\n",
    "    print(f\"Using a sample scan from ukbb: {subject_id}\")\n",
    "    subject_dir = f\"{data_dir}imaging/ukbb_test_subject/{subject_id}/{scan_session}/non-bids/T1/\"\n",
    "    T1_mni = f\"{subject_dir}T1_brain_to_MNI.nii.gz\"\n",
    "\n",
    "    ukbb_follow_up_csv = f\"{data_dir}tabular/tab_follow_up.csv\"\n",
    "    ukbb_metadata = pd.read_csv(ukbb_follow_up_csv)\n",
    "\n",
    "    data = nib.load(T1_mni).get_fdata()\n",
    "    print(f\"image shape: {data.shape}\")\n",
    "    print(f\"image mean: {np.mean(data.ravel())}\")\n",
    "\n",
    "    # Age at scanning\n",
    "    age = subject_age_dict[subject_id]\n",
    "    label = np.array([age,])\n",
    "\n",
    "\n",
    "# Transforming the age to soft label (probability distribution)\n",
    "# bin_range = [42,82]\n",
    "bin_range = [50,90]\n",
    "bin_step = 1\n",
    "sigma = 1\n",
    "y, bc = dpu.num2vect(label, bin_range, bin_step, sigma)\n",
    "y = torch.tensor(y, dtype=torch.float32)\n",
    "print(f'Label shape: {y.shape}')"
   ],
   "outputs": [
    {
     "output_type": "stream",
     "name": "stdout",
     "text": [
      "Using a sample scan from ukbb: sub-1004084\n",
      "image shape: (182, 218, 182)\n",
      "image mean: 225.7059078259174\n",
      "Label shape: torch.Size([1, 40])\n"
     ]
    }
   ],
   "metadata": {}
  },
  {
   "cell_type": "code",
   "execution_count": 5,
   "source": [
    "save_cropped_img = False\n",
    "\n",
    "# Preprocessing\n",
    "data = data/data.mean()\n",
    "data = dpu.crop_center(data, (160, 192, 160))\n",
    "\n",
    "if save_cropped_img:\n",
    "    affine = nib.load(T1_mni).affine\n",
    "    cropped_T1 = nib.Nifti1Image(np.squeeze(data), affine)\n",
    "    save_path = f'{subject_dir}cropped_image.nii'\n",
    "    nib.save(cropped_T1, save_path)\n",
    "    print(f\"Saving cropped image here: {save_path}\")\n",
    "\n",
    "# Move the data from numpy to torch tensor on GPU\n",
    "sp = (1,1)+data.shape\n",
    "data = data.reshape(sp)\n",
    "input_data = torch.tensor(data, dtype=torch.float32)\n",
    "print(f'Input data shape: {input_data.shape}')\n",
    "print(f'dtype: {input_data.dtype}')\n",
    "\n",
    "# Evaluation\n",
    "model.eval() # Don't forget this. BatchNorm will be affected if not in eval mode.\n",
    "with torch.no_grad():\n",
    "    output = model.module(input_data)\n",
    "\n",
    "# Output, loss, visualisation\n",
    "x = output[0].reshape([1, -1])\n",
    "print(f'Output shape: {x.shape}')\n",
    "loss = dpl.my_KLDivLoss(x, y).numpy()\n",
    "\n",
    "# Prediction, Visualisation and Summary\n",
    "x = x.numpy().reshape(-1)\n",
    "y = y.numpy().reshape(-1)\n",
    "\n",
    "prob = np.exp(x)\n",
    "pred = prob@bc\n",
    "print(f\"pred: {pred}, label = {label}\")"
   ],
   "outputs": [
    {
     "output_type": "stream",
     "name": "stdout",
     "text": [
      "Input data shape: torch.Size([1, 1, 160, 192, 160])\n",
      "dtype: torch.float32\n",
      "Output shape: torch.Size([1, 40])\n",
      "pred: 74.83462088598753, label = [70]\n"
     ]
    }
   ],
   "metadata": {}
  },
  {
   "cell_type": "markdown",
   "source": [
    "## Plots"
   ],
   "metadata": {}
  },
  {
   "cell_type": "code",
   "execution_count": 7,
   "source": [
    "plt.bar(bc, y)\n",
    "plt.title('Soft label')\n",
    "plt.show()\n",
    "\n",
    "plt.bar(bc, prob)\n",
    "plt.title(f'Prediction: age={pred:.2f}\\nloss={loss}')\n",
    "plt.show()"
   ],
   "outputs": [
    {
     "output_type": "display_data",
     "data": {
      "text/plain": [
       "<Figure size 432x288 with 1 Axes>"
      ],
      "image/png": "[encoded data removed]"
     },
     "metadata": {
      "needs_background": "light"
     }
    },
    {
     "output_type": "display_data",
     "data": {
      "text/plain": [
       "<Figure size 432x288 with 1 Axes>"
      ],
      "image/png": "[encoded data removed]"
     },
     "metadata": {
      "needs_background": "light"
     }
    }
   ],
   "metadata": {}
  },
  {
   "cell_type": "code",
   "execution_count": null,
   "source": [],
   "outputs": [],
   "metadata": {}
  }
 ],
 "metadata": {
  "orig_nbformat": 4,
  "language_info": {
   "name": "python",
   "version": "3.7.0",
   "mimetype": "text/x-python",
   "codemirror_mode": {
    "name": "ipython",
    "version": 3
   },
   "pygments_lexer": "ipython3",
   "nbconvert_exporter": "python",
   "file_extension": ".py"
  },
  "kernelspec": {
   "name": "python3",
   "display_name": "Python 3.7.0 64-bit ('green_compute': venv)"
  },
  "interpreter": {
   "hash": "96e4927380308772faf387ce1ad6de9eaed4a7d7aadcf2622a8269a7d5f191c8"
  }
 },
 "nbformat": 4,
 "nbformat_minor": 2
}