{
 "cells": [
  {
   "cell_type": "markdown",
   "metadata": {},
   "source": [
    "## Notebook to test out freesufer stats output without using freesurfer utilities"
   ]
  },
  {
   "cell_type": "code",
   "execution_count": 13,
   "metadata": {},
   "outputs": [],
   "source": [
    "import pandas as pd\n",
    "from freesurfer_stats import CorticalParcellationStats"
   ]
  },
  {
   "cell_type": "code",
   "execution_count": 75,
   "metadata": {},
   "outputs": [],
   "source": [
    "ukbb_dkt_fields = \"/home/nikhil/projects/brain_changes/brain-diff/metadata/UKBB_FS_DKT_Fields.csv\"\n",
    "UKBB_dkt_ct_fields = \"/home/nikhil/projects/brain_changes/brain-diff/metadata/UKBB_DKT_CT_Fields.csv\"\n",
    "\n",
    "fs_output_dir = \"/home/nikhil/projects/QPN_processing/test_data/fmriprep/output/freesurfer-6.0.1/\"\n"
   ]
  },
  {
   "cell_type": "code",
   "execution_count": 121,
   "metadata": {},
   "outputs": [
    {
     "name": "stdout",
     "output_type": "stream",
     "text": [
      "Saving stat measures here: .//DKTatlas_average_thickness\n"
     ]
    }
   ],
   "source": [
    "stat_file = \"aparc.DKTatlas.stats\"\n",
    "stat_measure = \"average_thickness_mm\" \n",
    "save_dir = './'\n",
    "\n",
    "UKBB_dkt_ct_fields_df = pd.read_csv(UKBB_dkt_ct_fields)\n",
    "\n",
    "hemispheres = [\"lh\", \"rh\"]\n",
    "\n",
    "subject_id_list = [\"sub-PD01369D713546\",\"sub-NIMHANS001\"]\n",
    "\n",
    "hemi_stat_measures_dict = {}\n",
    "for hemi in hemispheres:\n",
    "    stat_measure_df = pd.DataFrame()\n",
    "    for subject_id in subject_id_list:\n",
    "        fs_stats_dir = f\"{fs_output_dir}{subject_id}/stats/\"\n",
    "        stats = CorticalParcellationStats.read(f\"{fs_stats_dir}{hemi}.{stat_file}\").structural_measurements\n",
    "        \n",
    "        cols = [\"subject_id\"] + list(stats[\"structure_name\"].values)\n",
    "        vals = [subject_id] + list(stats[stat_measure].values)\n",
    "        \n",
    "        df = pd.DataFrame(columns=cols)\n",
    "        df.loc[0] = vals\n",
    "        stat_measure_df = pd.concat([stat_measure_df, df], axis=0)\n",
    "\n",
    "    # replace columns names with ukbb field IDs\n",
    "    field_df = UKBB_dkt_ct_fields_df[UKBB_dkt_ct_fields_df[\"hemi\"]==hemi][[\"Field ID\",\"roi\"]]\n",
    "    roi_field_id_dict = dict(zip(field_df[\"roi\"], field_df[\"Field ID\"]))\n",
    "    stat_measure_df = stat_measure_df.rename(columns=roi_field_id_dict)\n",
    "    \n",
    "    hemi_stat_measures_dict[hemi] = stat_measure_df\n",
    "\n",
    "# merge left and right dfs\n",
    "stat_measure_LR_df = pd.merge(hemi_stat_measures_dict[\"lh\"],hemi_stat_measures_dict[\"rh\"], on=\"subject_id\")\n",
    "\n",
    "save_file = f\"{stat_file.split('.')[1]}_{stat_measure.rsplit('_',1)[0]}.csv\"\n",
    "\n",
    "print(f\"Saving stat measures here: {save_dir}/{save_file}\")\n",
    "stat_measure_LR_df.to_csv(f\"{save_dir}/{save_file}\")\n"
   ]
  },
  {
   "cell_type": "code",
   "execution_count": 120,
   "metadata": {},
   "outputs": [
    {
     "data": {
      "text/plain": [
       "'DKTatlas_average_thickness'"
      ]
     },
     "execution_count": 120,
     "metadata": {},
     "output_type": "execute_result"
    }
   ],
   "source": [
    "stat_file = \"aparc.DKTatlas.stats\"\n",
    "stat_measure = \"average_thickness_mm\" \n",
    "\n",
    "\n",
    "save_file"
   ]
  },
  {
   "cell_type": "markdown",
   "metadata": {},
   "source": [
    "## Read UKBB fields \n",
    "- This is based on UKBB showcase\n",
    "- Only doing once and saving fieldIDs-ROIs csv"
   ]
  },
  {
   "cell_type": "code",
   "execution_count": 71,
   "metadata": {},
   "outputs": [
    {
     "data": {
      "text/html": [
       "<div>\n",
       "<style scoped>\n",
       "    .dataframe tbody tr th:only-of-type {\n",
       "        vertical-align: middle;\n",
       "    }\n",
       "\n",
       "    .dataframe tbody tr th {\n",
       "        vertical-align: top;\n",
       "    }\n",
       "\n",
       "    .dataframe thead th {\n",
       "        text-align: right;\n",
       "    }\n",
       "</style>\n",
       "<table border=\"1\" class=\"dataframe\">\n",
       "  <thead>\n",
       "    <tr style=\"text-align: right;\">\n",
       "      <th></th>\n",
       "      <th>Field ID</th>\n",
       "      <th>Description</th>\n",
       "    </tr>\n",
       "  </thead>\n",
       "  <tbody>\n",
       "    <tr>\n",
       "      <th>0</th>\n",
       "      <td>27143</td>\n",
       "      <td>Area of caudalanteriorcingulate (left hemisphere)</td>\n",
       "    </tr>\n",
       "    <tr>\n",
       "      <th>1</th>\n",
       "      <td>27236</td>\n",
       "      <td>Area of caudalanteriorcingulate (right hemisph...</td>\n",
       "    </tr>\n",
       "    <tr>\n",
       "      <th>2</th>\n",
       "      <td>27144</td>\n",
       "      <td>Area of caudalmiddlefrontal (left hemisphere)</td>\n",
       "    </tr>\n",
       "    <tr>\n",
       "      <th>3</th>\n",
       "      <td>27237</td>\n",
       "      <td>Area of caudalmiddlefrontal (right hemisphere)</td>\n",
       "    </tr>\n",
       "    <tr>\n",
       "      <th>4</th>\n",
       "      <td>27145</td>\n",
       "      <td>Area of cuneus (left hemisphere)</td>\n",
       "    </tr>\n",
       "  </tbody>\n",
       "</table>\n",
       "</div>"
      ],
      "text/plain": [
       "   Field ID                                        Description\n",
       "0     27143  Area of caudalanteriorcingulate (left hemisphere)\n",
       "1     27236  Area of caudalanteriorcingulate (right hemisph...\n",
       "2     27144      Area of caudalmiddlefrontal (left hemisphere)\n",
       "3     27237     Area of caudalmiddlefrontal (right hemisphere)\n",
       "4     27145                   Area of cuneus (left hemisphere)"
      ]
     },
     "execution_count": 71,
     "metadata": {},
     "output_type": "execute_result"
    }
   ],
   "source": [
    "ukbb_dkt_fields_df = pd.read_csv(ukbb_dkt_fields)\n",
    "ukbb_dkt_fields_df.head()"
   ]
  },
  {
   "cell_type": "markdown",
   "metadata": {},
   "source": [
    "### Grab rows with specific stat measure of interest"
   ]
  },
  {
   "cell_type": "code",
   "execution_count": 72,
   "metadata": {},
   "outputs": [
    {
     "name": "stdout",
     "output_type": "stream",
     "text": [
      "number of fields with Mean thickness: 62\n"
     ]
    }
   ],
   "source": [
    "stat_measure = \"Mean thickness\" \n",
    "ukbb_dkt_measure_df = ukbb_dkt_fields_df[ukbb_dkt_fields_df[\"Description\"].str.startswith(stat_measure)].copy()\n",
    "ukbb_dkt_measure_df[\"Description\"] = ukbb_dkt_measure_df[\"Description\"].str.replace(\"Mean thickness\",\"Mean_thickness\")\n",
    "print(f\"number of fields with {stat_measure}: {len(ukbb_dkt_measure_df)}\")"
   ]
  },
  {
   "cell_type": "code",
   "execution_count": 73,
   "metadata": {},
   "outputs": [
    {
     "data": {
      "text/html": [
       "<div>\n",
       "<style scoped>\n",
       "    .dataframe tbody tr th:only-of-type {\n",
       "        vertical-align: middle;\n",
       "    }\n",
       "\n",
       "    .dataframe tbody tr th {\n",
       "        vertical-align: top;\n",
       "    }\n",
       "\n",
       "    .dataframe thead th {\n",
       "        text-align: right;\n",
       "    }\n",
       "</style>\n",
       "<table border=\"1\" class=\"dataframe\">\n",
       "  <thead>\n",
       "    <tr style=\"text-align: right;\">\n",
       "      <th></th>\n",
       "      <th>Field ID</th>\n",
       "      <th>Description</th>\n",
       "      <th>metric</th>\n",
       "      <th>roi</th>\n",
       "      <th>hemi</th>\n",
       "    </tr>\n",
       "  </thead>\n",
       "  <tbody>\n",
       "    <tr>\n",
       "      <th>62</th>\n",
       "      <td>27174</td>\n",
       "      <td>Mean_thickness of caudalanteriorcingulate (lef...</td>\n",
       "      <td>Mean_thickness</td>\n",
       "      <td>caudalanteriorcingulate</td>\n",
       "      <td>lh</td>\n",
       "    </tr>\n",
       "    <tr>\n",
       "      <th>63</th>\n",
       "      <td>27267</td>\n",
       "      <td>Mean_thickness of caudalanteriorcingulate (rig...</td>\n",
       "      <td>Mean_thickness</td>\n",
       "      <td>caudalanteriorcingulate</td>\n",
       "      <td>rh</td>\n",
       "    </tr>\n",
       "    <tr>\n",
       "      <th>64</th>\n",
       "      <td>27175</td>\n",
       "      <td>Mean_thickness of caudalmiddlefrontal (left he...</td>\n",
       "      <td>Mean_thickness</td>\n",
       "      <td>caudalmiddlefrontal</td>\n",
       "      <td>lh</td>\n",
       "    </tr>\n",
       "    <tr>\n",
       "      <th>65</th>\n",
       "      <td>27268</td>\n",
       "      <td>Mean_thickness of caudalmiddlefrontal (right h...</td>\n",
       "      <td>Mean_thickness</td>\n",
       "      <td>caudalmiddlefrontal</td>\n",
       "      <td>rh</td>\n",
       "    </tr>\n",
       "    <tr>\n",
       "      <th>66</th>\n",
       "      <td>27176</td>\n",
       "      <td>Mean_thickness of cuneus (left hemisphere)</td>\n",
       "      <td>Mean_thickness</td>\n",
       "      <td>cuneus</td>\n",
       "      <td>lh</td>\n",
       "    </tr>\n",
       "  </tbody>\n",
       "</table>\n",
       "</div>"
      ],
      "text/plain": [
       "    Field ID                                        Description  \\\n",
       "62     27174  Mean_thickness of caudalanteriorcingulate (lef...   \n",
       "63     27267  Mean_thickness of caudalanteriorcingulate (rig...   \n",
       "64     27175  Mean_thickness of caudalmiddlefrontal (left he...   \n",
       "65     27268  Mean_thickness of caudalmiddlefrontal (right h...   \n",
       "66     27176         Mean_thickness of cuneus (left hemisphere)   \n",
       "\n",
       "            metric                      roi hemi  \n",
       "62  Mean_thickness  caudalanteriorcingulate   lh  \n",
       "63  Mean_thickness  caudalanteriorcingulate   rh  \n",
       "64  Mean_thickness      caudalmiddlefrontal   lh  \n",
       "65  Mean_thickness      caudalmiddlefrontal   rh  \n",
       "66  Mean_thickness                   cuneus   lh  "
      ]
     },
     "execution_count": 73,
     "metadata": {},
     "output_type": "execute_result"
    }
   ],
   "source": [
    "ukbb_dkt_measure_df[[\"metric\",\"roi\",\"hemi\"]] = ukbb_dkt_measure_df[\"Description\"].str.split(\" \", expand=True)[[0,2,3]]\n",
    "ukbb_dkt_measure_df[\"hemi\"] = ukbb_dkt_measure_df[\"hemi\"].replace({\"(left\":\"lh\", \"(right\":\"rh\"})\n",
    "ukbb_dkt_measure_df.head()"
   ]
  },
  {
   "cell_type": "code",
   "execution_count": 74,
   "metadata": {},
   "outputs": [],
   "source": [
    "# UKBB_dkt_ct_fields = \"/home/nikhil/projects/brain_changes/brain-diff/metadata/UKBB_DKT_CT_Fields.csv\"\n",
    "# ukbb_dkt_measure_df.to_csv(UKBB_dkt_ct_fields)"
   ]
  },
  {
   "cell_type": "code",
   "execution_count": null,
   "metadata": {},
   "outputs": [],
   "source": []
  }
 ],
 "metadata": {
  "interpreter": {
   "hash": "999c495fe9dc36b558f9181c52eb411f8d79bcfd8fb93141da57ede7d0ce5d9c"
  },
  "kernelspec": {
   "display_name": "Python 3.7.0 ('green_compute')",
   "language": "python",
   "name": "python3"
  },
  "language_info": {
   "codemirror_mode": {
    "name": "ipython",
    "version": 3
   },
   "file_extension": ".py",
   "mimetype": "text/x-python",
   "name": "python",
   "nbconvert_exporter": "python",
   "pygments_lexer": "ipython3",
   "version": "3.7.0"
  },
  "orig_nbformat": 4
 },
 "nbformat": 4,
 "nbformat_minor": 2
}
