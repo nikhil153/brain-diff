{
 "cells": [
  {
   "cell_type": "markdown",
   "metadata": {},
   "source": [
    "# Baseline results: Single visit models  \n",
    "\n",
    "### train on train subset of ses2 data from subjects with two visits. Test on ses2 and ses3 scans from test_metadata subjects. "
   ]
  },
  {
   "cell_type": "code",
   "execution_count": 1,
   "metadata": {},
   "outputs": [
    {
     "name": "stderr",
     "output_type": "stream",
     "text": [
      "/home/nikhil/projects/green_comp_neuro/green_compute/lib/python3.7/site-packages/torch/cuda/__init__.py:82: UserWarning: CUDA initialization: The NVIDIA driver on your system is too old (found version 9010). Please update your GPU driver by downloading and installing a new version from the URL: http://www.nvidia.com/Download/index.aspx Alternatively, go to: https://pytorch.org to install a PyTorch version that has been compiled with your version of the CUDA driver. (Triggered internally at  ../c10/cuda/CUDAFunctions.cpp:112.)\n",
      "  return torch._C._cuda_getDeviceCount() > 0\n"
     ]
    }
   ],
   "source": [
    "import sys\n",
    "import numpy as np\n",
    "import pandas as pd\n",
    "from sklearn.linear_model import Ridge\n",
    "from sklearn.ensemble import RandomForestRegressor\n",
    "\n",
    "import seaborn as sns\n",
    "import matplotlib.pyplot as plt\n",
    "\n",
    "sys.path.append(\"../\")\n",
    "from src.perf_utils import *"
   ]
  },
  {
   "cell_type": "code",
   "execution_count": 2,
   "metadata": {},
   "outputs": [],
   "source": [
    "data_dir = \"/home/nikhil/projects/brain_changes/data/\"\n",
    "exp_setup_dir = f\"{data_dir}exp_setup\"\n",
    "\n",
    "ukbb_dir = f\"{exp_setup_dir}/ukbb/\"\n",
    "adni_dir = f\"{exp_setup_dir}/adni/\"\n",
    "\n",
    "# UKB Paths\n",
    "ukbb_demographics_csv = f\"{ukbb_dir}ukbb_exp_data_demographics.csv\" \n",
    "ukbb_DKT_csv = f\"{ukbb_dir}ukbb_exp_data_DKT.csv\" \n",
    "ukbb_exp_setup_csv = f\"{ukbb_dir}ukbb_exp_setup_shortterm.csv\"\n",
    "\n",
    "# ADNI Paths\n",
    "adni_demographics_csv = f\"{adni_dir}adni_exp_data_demographics.csv\" \n",
    "adni_DKT_csv = f\"{adni_dir}adni_exp_data_DKT.csv\" \n",
    "\n",
    "# DKT fields and labels\n",
    "ukbb_dkt_fields = f\"{data_dir}/ukbb/region_field_ids/UKBB_FS_DKT_Fields.csv\"\n",
    "ukbb_dkt_ct_fields = f\"{data_dir}/ukbb/region_field_ids/UKBB_DKT_CT_Fields.csv\"\n",
    "\n",
    "# ASEG fields and labels\n",
    "ukbb_aseg_fields = f\"{data_dir}/ukbb/region_field_ids/UKBB_FS_ASEG_Fields.csv\"\n",
    "ukbb_aseg_vol_fields = f\"{data_dir}/ukbb/region_field_ids/UKBB_ASEG_vol_Fields.csv\""
   ]
  },
  {
   "cell_type": "markdown",
   "metadata": {},
   "source": [
    "### UKB short-term data\n",
    "#### Labels\n",
    "    - \"age_at_ses2\" --> age rounded in years \n",
    "    - \"age_at_ses2 (calc)\" --> floating point age calculated from years and months\n",
    "\n",
    "#### Setups (input (dkt) --> output (age))\n",
    "    - BL --> BL \n",
    "    - BL + FU --> BL\n",
    "    - BL + FU --> BL + FU\n",
    "\n"
   ]
  },
  {
   "cell_type": "markdown",
   "metadata": {},
   "source": [
    "#### Global configs"
   ]
  },
  {
   "cell_type": "code",
   "execution_count": 3,
   "metadata": {},
   "outputs": [],
   "source": [
    "\n",
    "age_ses2_col = \"age_at_ses2 (calc)\" # \"age_at_ses2\" or \"age_at_ses2 (calc)\"\n",
    "age_ses3_col = \"age_at_ses3 (calc)\" # \"age_at_ses3\" or \"age_at_ses3 (calc)\"\n",
    "\n",
    "use_sex_col = False # Doesn't help much\n",
    "\n",
    "DKT_fields_df = pd.read_csv(ukbb_dkt_ct_fields)\n",
    "DKT_fields_sorted = list(DKT_fields_df.sort_values([\"hemi\",\"roi\"])[\"Field ID\"].astype(str).values)\n"
   ]
  },
  {
   "cell_type": "markdown",
   "metadata": {},
   "source": [
    "### visit configs for the experiments"
   ]
  },
  {
   "cell_type": "code",
   "execution_count": 4,
   "metadata": {},
   "outputs": [],
   "source": [
    "# Setup\n",
    "exp_setup_dict = {\n",
    "    \"exp: BL-->BL\": {\"input\":[\"ses-2\"],\n",
    "                     \"output\":[age_ses2_col]},\n",
    "    \"exp: BL+FU-->BL\": {\"input\":[\"ses-2\",\"ses-3\"],\n",
    "                        \"output\":[age_ses2_col]},\n",
    "    \"exp: BL+FU-->BL+FU\": {\"input\":[\"ses-2\",\"ses-3\"],\n",
    "                        \"output\":[age_ses2_col,age_ses3_col]},                                             \n",
    "}\n",
    "\n",
    "n_jobs = 4\n",
    "model_dict = {\n",
    "            \"Ridge\": Ridge(), \n",
    "            \"RF\": RandomForestRegressor(n_jobs=n_jobs, random_state=1)\n",
    "            }"
   ]
  },
  {
   "cell_type": "markdown",
   "metadata": {},
   "source": [
    "### Load data and run models"
   ]
  },
  {
   "cell_type": "code",
   "execution_count": 5,
   "metadata": {},
   "outputs": [
    {
     "name": "stdout",
     "output_type": "stream",
     "text": [
      "n_train: 3071, n_val: 342\n",
      "\n",
      "exp name: exp: BL-->BL\n",
      "shapes X_CV: (3071, 62), y_CV: (3071,)\n",
      "shapes  X_val: (342, 62), y_val: (342,)\n",
      "train shape: (3071, 67), val shape: (342, 67)\n",
      "model: Ridge, val mae: 5.083\tcorrelation: 0.531\n",
      "model: RF, val mae: 5.436\tcorrelation: 0.445\n",
      "\n",
      "exp name: exp: BL+FU-->BL\n",
      "shapes X_CV: (3071, 124), y_CV: (3071,)\n",
      "shapes  X_val: (342, 124), y_val: (342,)\n",
      "train shape: (3071, 131), val shape: (342, 131)\n",
      "model: Ridge, val mae: 4.826\tcorrelation: 0.575\n",
      "model: RF, val mae: 5.302\tcorrelation: 0.486\n",
      "\n",
      "exp name: exp: BL+FU-->BL+FU\n",
      "shapes X_CV: (3071, 124), y_CV: (3071, 2)\n",
      "shapes  X_val: (342, 124), y_val: (342, 2)\n",
      "train shape: (3071, 132), val shape: (342, 132)\n",
      "mutli-task model\n",
      "model: Ridge, val mae: 4.826,4.847\tcorrelation: 0.575,0.571\n",
      "mutli-task model\n",
      "model: RF, val mae: 5.291,5.312\tcorrelation: 0.485,0.481\n"
     ]
    }
   ],
   "source": [
    "ukbb_exp_setup_df = pd.read_csv(ukbb_exp_setup_csv)\n",
    "train_ids = ukbb_exp_setup_df[ukbb_exp_setup_df[\"CV_subset\"] == \"train\"][\"participant_id\"].values\n",
    "val_ids = ukbb_exp_setup_df[ukbb_exp_setup_df[\"CV_subset\"] == \"val\"][\"participant_id\"].values\n",
    "print(f\"n_train: {len(train_ids)}, n_val: {len(val_ids)}\")\n",
    "\n",
    "exp_perf_df = pd.DataFrame()\n",
    "for exp_name, exp_setup in exp_setup_dict.items():\n",
    "    print(f\"\\nexp name: {exp_name}\")\n",
    "    age_cols = exp_setup[\"output\"]\n",
    "\n",
    "    # Slice demographic cols\n",
    "    demo_cols = [\"participant_id\",\"sex\"] + age_cols\n",
    "    train_demographics_df = ukbb_exp_setup_df[ukbb_exp_setup_df[\"CV_subset\"] == \"train\"][demo_cols]\n",
    "    train_demographics_df = train_demographics_df.rename(columns={\"participant_id\":\"subject_id\"})\n",
    "    val_demographics_df = ukbb_exp_setup_df[ukbb_exp_setup_df[\"CV_subset\"] == \"val\"][demo_cols]\n",
    "    val_demographics_df = val_demographics_df.rename(columns={\"participant_id\":\"subject_id\"})\n",
    "\n",
    "    # Read DKT\n",
    "    DKT_df = pd.read_csv(ukbb_DKT_csv)\n",
    "    train_ses2_DKT_df = DKT_df[(DKT_df[\"subject_id\"].isin(train_ids)) & (DKT_df[\"session\"] == \"ses-2\")]\n",
    "    val_ses2_DKT_df = DKT_df[(DKT_df[\"subject_id\"].isin(val_ids)) & (DKT_df[\"session\"] == \"ses-2\")]                                \n",
    "\n",
    "    train_ses3_DKT_df = DKT_df[(DKT_df[\"subject_id\"].isin(train_ids)) & (DKT_df[\"session\"] == \"ses-3\")]\n",
    "    val_ses3_DKT_df = DKT_df[(DKT_df[\"subject_id\"].isin(val_ids)) & (DKT_df[\"session\"] == \"ses-3\")] \n",
    "\n",
    "    if exp_name == \"exp: BL-->BL\":\n",
    "        train_DKT_df = train_ses2_DKT_df\n",
    "        val_DKT_df = val_ses2_DKT_df\n",
    "        feature_cols = DKT_fields_sorted\n",
    "    else:\n",
    "        train_DKT_df = pd.merge(train_ses2_DKT_df, train_ses3_DKT_df, on=\"subject_id\")\n",
    "        val_DKT_df = pd.merge(val_ses2_DKT_df, val_ses3_DKT_df, on=\"subject_id\")\n",
    "        feature_cols = [f\"{dkt_field}_x\" for dkt_field in DKT_fields_sorted] + [f\"{dkt_field}_y\" for dkt_field in DKT_fields_sorted] \n",
    "\n",
    "    if use_sex_col:\n",
    "        feature_cols = feature_cols + [\"sex\"]\n",
    "        print(\"Using sex column as input\")\n",
    "        \n",
    "    # merge with demographic df\n",
    "    train_df = pd.merge(train_DKT_df, train_demographics_df, on=\"subject_id\")\n",
    "    val_df = pd.merge(val_DKT_df, val_demographics_df, on=\"subject_id\")\n",
    "\n",
    "    X_train = train_df[feature_cols].values\n",
    "    y_train = np.squeeze(train_df[age_cols].values)\n",
    "\n",
    "    print(f\"shapes X_CV: {X_train.shape}, y_CV: {y_train.shape}\")\n",
    "\n",
    "    X_val = val_df[feature_cols].values\n",
    "    y_val = np.squeeze(val_df[age_cols].values)\n",
    "\n",
    "    print(f\"shapes  X_val: {X_val.shape}, y_val: {y_val.shape}\")\n",
    "\n",
    "    # print(f\"train shape: {train_df.shape}, val shape: {val_df.shape}\")\n",
    "\n",
    "    model_pref_df = get_model_perf(model_dict,X_train, y_train, X_val, y_val)\n",
    "    model_pref_df[\"exp_name\"] = exp_name\n",
    "\n",
    "    exp_perf_df = exp_perf_df.append(model_pref_df)"
   ]
  },
  {
   "cell_type": "markdown",
   "metadata": {},
   "source": [
    "## Plots"
   ]
  },
  {
   "cell_type": "code",
   "execution_count": 6,
   "metadata": {},
   "outputs": [
    {
     "data": {
      "image/png": "[encoded data removed]",
      "text/plain": [
       "<Figure size 856.825x360 with 1 Axes>"
      ]
     },
     "metadata": {},
     "output_type": "display_data"
    }
   ],
   "source": [
    "plot_df = exp_perf_df.copy()\n",
    "sns.set(font_scale=2)\n",
    "with sns.axes_style(\"whitegrid\"):\n",
    "    # fig, ax = plt.subplots(figsize=(20,10))\n",
    "    g = sns.catplot(x=\"ses2_abs_err\",y=\"exp_name\", hue=\"model\", kind=\"bar\", data=plot_df, aspect=2)"
   ]
  },
  {
   "cell_type": "markdown",
   "metadata": {},
   "source": [
    "# features: ses-2 \n",
    "    # without sex col\n",
    "    # model: Ridge, val mae: 5.083, correlation: 0.531\n",
    "    # model: RF, val mae: 5.436, correlation: 0.445\n",
    "\n",
    "    # with sex col\n",
    "    # model: Ridge, val mae: 5.085, correlation: 0.531\n",
    "    # model: RF, val mae: 5.458, correlation: 0.436\n",
    "\n",
    "# features: ses-2 and 3 \n",
    "    # without sex col\n",
    "    # model: Ridge, val mae: 4.826, correlation: 0.575\n",
    "\n",
    "    # with sex col\n",
    "    # model: Ridge, val mae: 4.820, correlation: 0.574"
   ]
  },
  {
   "cell_type": "markdown",
   "metadata": {},
   "source": []
  }
 ],
 "metadata": {
  "interpreter": {
   "hash": "e5f8cee7ddba11edeefb1347c6536a4ac2b361bd4eba89a8b32d7cb85bbef9ea"
  },
  "kernelspec": {
   "display_name": "Python 3.7.9 64-bit ('green_compute': conda)",
   "name": "python3"
  },
  "language_info": {
   "codemirror_mode": {
    "name": "ipython",
    "version": 3
   },
   "file_extension": ".py",
   "mimetype": "text/x-python",
   "name": "python",
   "nbconvert_exporter": "python",
   "pygments_lexer": "ipython3",
   "version": "3.7.0"
  },
  "orig_nbformat": 4
 },
 "nbformat": 4,
 "nbformat_minor": 2
}
