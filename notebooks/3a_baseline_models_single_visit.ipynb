{
 "cells": [
  {
   "cell_type": "markdown",
   "metadata": {},
   "source": [
    "# Baseline results: Single visit models  \n",
    "\n",
    "### train on train subset of ses2 data from subjects with two visits. Test on ses2 and ses3 scans from test_metadata subjects. "
   ]
  },
  {
   "cell_type": "code",
   "execution_count": 2,
   "metadata": {},
   "outputs": [
    {
     "name": "stderr",
     "output_type": "stream",
     "text": [
      "/home/nikhil/projects/green_comp_neuro/green_compute/lib/python3.7/site-packages/torch/cuda/__init__.py:82: UserWarning: CUDA initialization: The NVIDIA driver on your system is too old (found version 9010). Please update your GPU driver by downloading and installing a new version from the URL: http://www.nvidia.com/Download/index.aspx Alternatively, go to: https://pytorch.org to install a PyTorch version that has been compiled with your version of the CUDA driver. (Triggered internally at  ../c10/cuda/CUDAFunctions.cpp:112.)\n",
      "  return torch._C._cuda_getDeviceCount() > 0\n"
     ]
    }
   ],
   "source": [
    "import sys\n",
    "import numpy as np\n",
    "import pandas as pd\n",
    "from sklearn.linear_model import Ridge\n",
    "from sklearn.ensemble import RandomForestRegressor\n",
    "\n",
    "import seaborn as sns\n",
    "import matplotlib.pyplot as plt\n",
    "\n",
    "sys.path.append(\"../\")\n",
    "from src.utils import *"
   ]
  },
  {
   "cell_type": "code",
   "execution_count": 3,
   "metadata": {},
   "outputs": [],
   "source": [
    "data_dir = \"/home/nikhil/projects/brain_changes/data/\"\n",
    "exp_setup_dir = f\"{data_dir}exp_setup\"\n",
    "\n",
    "ukbb_dir = f\"{exp_setup_dir}/ukbb/\"\n",
    "adni_dir = f\"{exp_setup_dir}/adni/\"\n",
    "\n",
    "# UKB Paths\n",
    "ukbb_demographics_csv = f\"{ukbb_dir}ukbb_exp_data_demographics.csv\" \n",
    "ukbb_DKT_csv = f\"{ukbb_dir}ukbb_exp_data_DKT.csv\" \n",
    "ukbb_exp_setup_csv = f\"{ukbb_dir}ukbb_exp_setup_shortterm.csv\"\n",
    "\n",
    "# ADNI Paths\n",
    "adni_demographics_csv = f\"{adni_dir}adni_exp_data_demographics.csv\" \n",
    "adni_DKT_csv = f\"{adni_dir}adni_exp_data_DKT.csv\" \n",
    "\n",
    "# DKT fields and labels\n",
    "ukbb_dkt_fields = f\"{data_dir}/ukbb/region_field_ids/UKBB_FS_DKT_Fields.csv\"\n",
    "ukbb_dkt_ct_fields = f\"{data_dir}/ukbb/region_field_ids/UKBB_DKT_CT_Fields.csv\"\n",
    "\n",
    "# ASEG fields and labels\n",
    "ukbb_aseg_fields = f\"{data_dir}/ukbb/region_field_ids/UKBB_FS_ASEG_Fields.csv\"\n",
    "ukbb_aseg_vol_fields = f\"{data_dir}/ukbb/region_field_ids/UKBB_ASEG_vol_Fields.csv\""
   ]
  },
  {
   "cell_type": "markdown",
   "metadata": {},
   "source": [
    "### UKB short-term data\n",
    "- labels: \"age_at_ses2\" --> age rounded in years \n",
    "- labels: \"age_at_ses2 (calc)\" --> floating point age calculated from years and months\n"
   ]
  },
  {
   "cell_type": "code",
   "execution_count": 16,
   "metadata": {},
   "outputs": [],
   "source": [
    "# Global configs\n",
    "session = \"ses-2\" # \"ses-2\" \"both\"\n",
    "age_col = \"age_at_ses2 (calc)\" # \"age_at_ses2\" or \"age_at_ses2 (calc)\"\n",
    "\n",
    "use_sex_col = False # Doesn't help much\n",
    "\n",
    "DKT_fields_df = pd.read_csv(ukbb_dkt_ct_fields)\n",
    "DKT_fields_sorted = list(DKT_fields_df.sort_values([\"hemi\",\"roi\"])[\"Field ID\"].astype(str).values)\n"
   ]
  },
  {
   "cell_type": "code",
   "execution_count": 17,
   "metadata": {},
   "outputs": [
    {
     "name": "stdout",
     "output_type": "stream",
     "text": [
      "n_train: 3071, n_val: 342\n",
      "Using sex column as input\n",
      "shapes X_CV: (3071, 63), y_CV: (3071,)\n",
      "shapes  X_val: (342, 63), y_val: (342,)\n",
      "train shape: (3071, 67), val shape: (342, 67)\n"
     ]
    }
   ],
   "source": [
    "ukbb_exp_setup_df = pd.read_csv(ukbb_exp_setup_csv)\n",
    "train_ids = ukbb_exp_setup_df[ukbb_exp_setup_df[\"CV_subset\"] == \"train\"][\"participant_id\"].values\n",
    "val_ids = ukbb_exp_setup_df[ukbb_exp_setup_df[\"CV_subset\"] == \"val\"][\"participant_id\"].values\n",
    "print(f\"n_train: {len(train_ids)}, n_val: {len(val_ids)}\")\n",
    "\n",
    "# Slice demographic cols\n",
    "demo_cols = [\"participant_id\",\"sex\",age_col]\n",
    "train_demographics_df = ukbb_exp_setup_df[ukbb_exp_setup_df[\"CV_subset\"] == \"train\"][demo_cols]\n",
    "train_demographics_df = train_demographics_df.rename(columns={\"participant_id\":\"subject_id\"})\n",
    "val_demographics_df = ukbb_exp_setup_df[ukbb_exp_setup_df[\"CV_subset\"] == \"val\"][demo_cols]\n",
    "val_demographics_df = val_demographics_df.rename(columns={\"participant_id\":\"subject_id\"})\n",
    "\n",
    "# Read DKT\n",
    "DKT_df = pd.read_csv(ukbb_DKT_csv)\n",
    "train_ses2_DKT_df = DKT_df[(DKT_df[\"subject_id\"].isin(train_ids)) & (DKT_df[\"session\"] == \"ses-2\")]\n",
    "val_ses2_DKT_df = DKT_df[(DKT_df[\"subject_id\"].isin(val_ids)) & (DKT_df[\"session\"] == \"ses-2\")]                                \n",
    "\n",
    "train_ses3_DKT_df = DKT_df[(DKT_df[\"subject_id\"].isin(train_ids)) & (DKT_df[\"session\"] == \"ses-3\")]\n",
    "val_ses3_DKT_df = DKT_df[(DKT_df[\"subject_id\"].isin(val_ids)) & (DKT_df[\"session\"] == \"ses-3\")] \n",
    "\n",
    "if session == \"ses-2\":\n",
    "    train_DKT_df = train_ses2_DKT_df\n",
    "    val_DKT_df = val_ses2_DKT_df\n",
    "    feature_cols = DKT_fields_sorted\n",
    "else:\n",
    "    train_DKT_df = pd.merge(train_ses2_DKT_df, train_ses3_DKT_df, on=\"subject_id\")\n",
    "    val_DKT_df = pd.merge(val_ses2_DKT_df, val_ses3_DKT_df, on=\"subject_id\")\n",
    "    feature_cols = [f\"{dkt_field}_x\" for dkt_field in DKT_fields_sorted] + [f\"{dkt_field}_y\" for dkt_field in DKT_fields_sorted] \n",
    "\n",
    "if use_sex_col:\n",
    "    feature_cols = feature_cols + [\"sex\"]\n",
    "    print(\"Using sex column as input\")\n",
    "    \n",
    "# merge with demographic df\n",
    "train_df = pd.merge(train_DKT_df, train_demographics_df, on=\"subject_id\")\n",
    "val_df = pd.merge(val_DKT_df, val_demographics_df, on=\"subject_id\")\n",
    "\n",
    "X_train = train_df[feature_cols].values\n",
    "y_train = train_df[age_col].values\n",
    "\n",
    "print(f\"shapes X_CV: {X_train.shape}, y_CV: {y_train.shape}\")\n",
    "\n",
    "X_val = val_df[feature_cols].values\n",
    "y_val = val_df[age_col].values\n",
    "\n",
    "print(f\"shapes  X_val: {X_val.shape}, y_val: {y_val.shape}\")\n",
    "\n",
    "print(f\"train shape: {train_df.shape}, val shape: {val_df.shape}\")"
   ]
  },
  {
   "cell_type": "markdown",
   "metadata": {},
   "source": [
    "### Train models"
   ]
  },
  {
   "cell_type": "code",
   "execution_count": 19,
   "metadata": {},
   "outputs": [
    {
     "name": "stdout",
     "output_type": "stream",
     "text": [
      "model: Ridge, val mae: 5.085, correlation: 0.531\n",
      "model: RF, val mae: 5.458, correlation: 0.436\n"
     ]
    }
   ],
   "source": [
    "n_jobs = 4\n",
    "\n",
    "model_dict = {\n",
    "            \"Ridge\": Ridge(), \n",
    "            \"RF\": RandomForestRegressor(n_jobs=n_jobs, random_state=1)\n",
    "            }\n",
    "\n",
    "perf_df = pd.DataFrame()\n",
    "for model_name, model_instance in model_dict.items():        \n",
    "    CV_scores, y_pred, test_loss1, test_loss2, test_r1, test_r2 = get_brain_age_perf(X_train, y_train, X_val, y_val, model_instance)\n",
    "    \n",
    "    df = pd.DataFrame()\n",
    "\n",
    "    df[age_col] = y_val\n",
    "    df[f\"brainage_at_{session}\"] = y_pred\n",
    "    df[\"test_sq_err\"] = test_loss1\n",
    "    df[\"test_abs_err\"] = np.abs(y_pred - y_val)\n",
    "    df[\"test_r1\"] = test_r1\n",
    "    df[\"model\"] = model_name\n",
    "\n",
    "    val_mae = df[\"test_abs_err\"].mean()\n",
    "    print(f\"model: {model_name}, val mae: {val_mae:4.3f}, correlation: {test_r1:4.3f}\")\n",
    "\n",
    "    perf_df = perf_df.append(df)"
   ]
  },
  {
   "cell_type": "markdown",
   "metadata": {},
   "source": [
    "# features: ses-2 \n",
    "    # without sex col\n",
    "    # model: Ridge, val mae: 5.083, correlation: 0.531\n",
    "    # model: RF, val mae: 5.436, correlation: 0.445\n",
    "\n",
    "    # with sex col\n",
    "    # model: Ridge, val mae: 5.085, correlation: 0.531\n",
    "    # model: RF, val mae: 5.458, correlation: 0.436\n",
    "\n",
    "# features: ses-2 and 3 \n",
    "    # without sex col\n",
    "    # model: Ridge, val mae: 4.826, correlation: 0.575\n",
    "\n",
    "    # with sex col\n",
    "    # model: Ridge, val mae: 4.820, correlation: 0.574"
   ]
  },
  {
   "cell_type": "markdown",
   "metadata": {},
   "source": []
  }
 ],
 "metadata": {
  "interpreter": {
   "hash": "e5f8cee7ddba11edeefb1347c6536a4ac2b361bd4eba89a8b32d7cb85bbef9ea"
  },
  "kernelspec": {
   "display_name": "Python 3.7.9 64-bit ('green_compute': conda)",
   "name": "python3"
  },
  "language_info": {
   "codemirror_mode": {
    "name": "ipython",
    "version": 3
   },
   "file_extension": ".py",
   "mimetype": "text/x-python",
   "name": "python",
   "nbconvert_exporter": "python",
   "pygments_lexer": "ipython3",
   "version": "3.7.0"
  },
  "orig_nbformat": 4
 },
 "nbformat": 4,
 "nbformat_minor": 2
}
