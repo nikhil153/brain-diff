{
 "cells": [
  {
   "cell_type": "markdown",
   "metadata": {},
   "source": [
    "## Notebook to test out freesufer stats output without using freesurfer utilities"
   ]
  },
  {
   "cell_type": "code",
   "execution_count": 1,
   "metadata": {},
   "outputs": [],
   "source": [
    "import pandas as pd\n",
    "import numpy as np\n",
    "from freesurfer_stats import CorticalParcellationStats\n",
    "import os\n",
    "import glob\n",
    "import matplotlib.pyplot as plt\n",
    "import seaborn as sns"
   ]
  },
  {
   "cell_type": "code",
   "execution_count": 2,
   "metadata": {},
   "outputs": [],
   "source": [
    "metadata_dir = \"/home/nikhil/projects/brain_changes/brain-diff/metadata/\"\n",
    "\n",
    "# DKT\n",
    "ukbb_dkt_fields = f\"{metadata_dir}UKBB_FS_DKT_Fields.csv\"\n",
    "ukbb_dkt_ct_fields = f\"{metadata_dir}UKBB_DKT_CT_Fields.csv\"\n",
    "\n",
    "# ASEG\n",
    "ukbb_aseg_fields = f\"{metadata_dir}UKBB_FS_ASEG_Fields.csv\"\n",
    "ukbb_aseg_vol_fields = f\"{metadata_dir}UKBB_ASEG_vol_Fields.csv\"\n",
    "\n",
    "\n",
    "fs_output_dir = \"/home/nikhil/projects/QPN_processing/test_data/fmriprep/output/freesurfer-6.0.1/\""
   ]
  },
  {
   "cell_type": "markdown",
   "metadata": {},
   "source": [
    "### Read DKT CT stats"
   ]
  },
  {
   "cell_type": "code",
   "execution_count": 3,
   "metadata": {},
   "outputs": [
    {
     "name": "stdout",
     "output_type": "stream",
     "text": [
      "Saving stat measures here: .//DKTatlas_average_thickness.csv\n"
     ]
    }
   ],
   "source": [
    "stat_file = \"aparc.DKTatlas.stats\"\n",
    "stat_measure = \"average_thickness_mm\" \n",
    "save_dir = './'\n",
    "\n",
    "\n",
    "ukbb_dkt_ct_fields_df = pd.read_csv(ukbb_dkt_ct_fields)\n",
    "\n",
    "hemispheres = [\"lh\", \"rh\"]\n",
    "roi_ct_field_df_dict = {}\n",
    "\n",
    "subject_id_list = [\"sub-PD01369D713546\",\"sub-NIMHANS001\"]\n",
    "\n",
    "hemi_stat_measures_dict = {}\n",
    "for hemi in hemispheres:\n",
    "    stat_measure_df = pd.DataFrame()\n",
    "    for subject_id in subject_id_list:\n",
    "        fs_stats_dir = f\"{fs_output_dir}{subject_id}/stats/\"\n",
    "        stats = CorticalParcellationStats.read(f\"{fs_stats_dir}{hemi}.{stat_file}\").structural_measurements\n",
    "        \n",
    "        cols = [\"subject_id\"] + list(stats[\"structure_name\"].values)\n",
    "        vals = [subject_id] + list(stats[stat_measure].values)\n",
    "        \n",
    "        df = pd.DataFrame(columns=cols)\n",
    "        df.loc[0] = vals\n",
    "        stat_measure_df = pd.concat([stat_measure_df, df], axis=0)\n",
    "\n",
    "    # replace columns names with ukbb field IDs\n",
    "    roi_ct_field_df = ukbb_dkt_ct_fields_df[ukbb_dkt_ct_fields_df[\"hemi\"]==hemi][[\"Field ID\",\"roi\"]]\n",
    "    roi_ct_field_df[\"hemi\"] = hemi\n",
    "    roi_ct_field_id_dict = dict(zip(roi_ct_field_df[\"roi\"], roi_ct_field_df[\"Field ID\"]))\n",
    "    stat_measure_df = stat_measure_df.rename(columns=roi_ct_field_id_dict)\n",
    "    \n",
    "    hemi_stat_measures_dict[hemi] = stat_measure_df\n",
    "\n",
    "    roi_ct_field_df_dict[hemi] = roi_ct_field_df\n",
    "\n",
    "# merge left and right dfs\n",
    "stat_measure_LR_df = pd.merge(hemi_stat_measures_dict[\"lh\"],hemi_stat_measures_dict[\"rh\"], on=\"subject_id\")\n",
    "\n",
    "save_file = f\"{stat_file.split('.')[1]}_{stat_measure.rsplit('_',1)[0]}.csv\"\n",
    "\n",
    "print(f\"Saving stat measures here: {save_dir}/{save_file}\")\n",
    "stat_measure_LR_df.to_csv(f\"{save_dir}/{save_file}\")\n"
   ]
  },
  {
   "cell_type": "markdown",
   "metadata": {},
   "source": [
    "### Read ASEG vol stats"
   ]
  },
  {
   "cell_type": "code",
   "execution_count": 4,
   "metadata": {},
   "outputs": [],
   "source": [
    "def parse_aseg(aseg_file, stat_measure):\n",
    "    aseg_data = np.loadtxt(aseg_file, dtype=\"i1,i1,i4,f4,S32,f4,f4,f4,f4,f4\")\n",
    "\n",
    "    aseg_df = pd.DataFrame(data=aseg_data)\n",
    "    aseg_df = aseg_df[[\"f4\",\"f3\"]].rename(columns={\"f3\":stat_measure, \"f4\":\"hemi_ROI\"})\n",
    "    aseg_df[\"hemi_ROI\"] = aseg_df[\"hemi_ROI\"].str.decode('utf-8') \n",
    "\n",
    "    print(f\"number of ROIs in aseg file: {len(aseg_df)}\")\n",
    "\n",
    "    return aseg_df\n"
   ]
  },
  {
   "cell_type": "code",
   "execution_count": 5,
   "metadata": {},
   "outputs": [
    {
     "name": "stdout",
     "output_type": "stream",
     "text": [
      "number of ROIs in aseg file: 45\n",
      "number of ROIs in aseg file: 45\n",
      "Number of aseg vol ROIs after UKBB merge: 36\n",
      "Saving stat measures here: .//aseg_subcortical_volumes.csv\n"
     ]
    }
   ],
   "source": [
    "stat_file = \"aseg.stats\"\n",
    "stat_measure = \"Volume_mm3\"\n",
    "\n",
    "stat_measure_df = pd.DataFrame()\n",
    "for subject_id in subject_id_list:\n",
    "    fs_stats_dir = f\"{fs_output_dir}{subject_id}/stats/\"\n",
    "    aseg_file = f\"{fs_stats_dir}{stat_file}\"\n",
    "    stats = parse_aseg(aseg_file,stat_measure)\n",
    "    \n",
    "    cols = [\"subject_id\"] + list(stats[\"hemi_ROI\"].values)\n",
    "    vals = [subject_id] + list(stats[stat_measure].values)\n",
    "    \n",
    "    df = pd.DataFrame(columns=cols)\n",
    "    df.loc[0] = vals\n",
    "    stat_measure_df = pd.concat([stat_measure_df, df], axis=0)\n",
    "\n",
    "# Grab UKBB field ids lookup table\n",
    "ukbb_aseg_vol_fields_df = pd.read_csv(ukbb_aseg_vol_fields)\n",
    "\n",
    "roi_vol_field_df = ukbb_aseg_vol_fields_df[ukbb_aseg_vol_fields_df[\"hemi_ROI\"].isin(stat_measure_df.columns)]\n",
    "common_rois = list(roi_vol_field_df[\"hemi_ROI\"].values)\n",
    "roi_vol_field_id_dict = dict(zip(roi_vol_field_df[\"hemi_ROI\"], roi_vol_field_df[\"Field ID\"]))\n",
    "\n",
    "print(f\"Number of aseg vol ROIs after UKBB merge: {len(roi_vol_field_id_dict)}\")\n",
    "\n",
    "# Rename ROIs with ukbb ids (remove the ROIs which don't have ukbb ids)\n",
    "stat_measure_df = stat_measure_df[[\"subject_id\"] + common_rois].copy()\n",
    "stat_measure_df = stat_measure_df.rename(columns=roi_vol_field_id_dict)\n",
    "\n",
    "save_file = f\"aseg_subcortical_volumes.csv\"\n",
    "\n",
    "print(f\"Saving stat measures here: {save_dir}/{save_file}\")\n",
    "stat_measure_df.to_csv(f\"{save_dir}/{save_file}\")\n"
   ]
  },
  {
   "cell_type": "markdown",
   "metadata": {},
   "source": [
    "### DKT + ASEG columns --> UKBB ID list\n",
    "- This is list of input variable for UKBB and ADNI comparison"
   ]
  },
  {
   "cell_type": "code",
   "execution_count": 6,
   "metadata": {},
   "outputs": [
    {
     "data": {
      "text/html": [
       "<div>\n",
       "<style scoped>\n",
       "    .dataframe tbody tr th:only-of-type {\n",
       "        vertical-align: middle;\n",
       "    }\n",
       "\n",
       "    .dataframe tbody tr th {\n",
       "        vertical-align: top;\n",
       "    }\n",
       "\n",
       "    .dataframe thead th {\n",
       "        text-align: right;\n",
       "    }\n",
       "</style>\n",
       "<table border=\"1\" class=\"dataframe\">\n",
       "  <thead>\n",
       "    <tr style=\"text-align: right;\">\n",
       "      <th></th>\n",
       "      <th>Field ID</th>\n",
       "      <th>hemi_ROI</th>\n",
       "      <th>stat</th>\n",
       "    </tr>\n",
       "  </thead>\n",
       "  <tbody>\n",
       "    <tr>\n",
       "      <th>0</th>\n",
       "      <td>27174</td>\n",
       "      <td>lh-caudalanteriorcingulate</td>\n",
       "      <td>DKT</td>\n",
       "    </tr>\n",
       "    <tr>\n",
       "      <th>2</th>\n",
       "      <td>27175</td>\n",
       "      <td>lh-caudalmiddlefrontal</td>\n",
       "      <td>DKT</td>\n",
       "    </tr>\n",
       "    <tr>\n",
       "      <th>4</th>\n",
       "      <td>27176</td>\n",
       "      <td>lh-cuneus</td>\n",
       "      <td>DKT</td>\n",
       "    </tr>\n",
       "    <tr>\n",
       "      <th>6</th>\n",
       "      <td>27177</td>\n",
       "      <td>lh-entorhinal</td>\n",
       "      <td>DKT</td>\n",
       "    </tr>\n",
       "    <tr>\n",
       "      <th>8</th>\n",
       "      <td>27178</td>\n",
       "      <td>lh-fusiform</td>\n",
       "      <td>DKT</td>\n",
       "    </tr>\n",
       "  </tbody>\n",
       "</table>\n",
       "</div>"
      ],
      "text/plain": [
       "   Field ID                    hemi_ROI stat\n",
       "0     27174  lh-caudalanteriorcingulate  DKT\n",
       "2     27175      lh-caudalmiddlefrontal  DKT\n",
       "4     27176                   lh-cuneus  DKT\n",
       "6     27177               lh-entorhinal  DKT\n",
       "8     27178                 lh-fusiform  DKT"
      ]
     },
     "execution_count": 6,
     "metadata": {},
     "output_type": "execute_result"
    }
   ],
   "source": [
    "# aseg_ukbb_ids_df = roi_vol_field_df[[\"Field ID\",\"hemi_ROI\"]].copy()\n",
    "# aseg_ukbb_ids_df[\"stat\"] = \"aseg\"\n",
    "\n",
    "# dkt_ukbb_ids_df = pd.concat([roi_ct_field_df_dict[\"lh\"],roi_ct_field_df_dict[\"rh\"]],axis=0)\n",
    "# dkt_ukbb_ids_df[\"hemi_ROI\"] = dkt_ukbb_ids_df[\"hemi\"] + \"-\" + dkt_ukbb_ids_df[\"roi\"]\n",
    "# dkt_ukbb_ids_df[\"stat\"] = \"DKT\"\n",
    "\n",
    "# brainage_fs_ukbb_field_ids_df = pd.concat([dkt_ukbb_ids_df[[\"Field ID\",\"hemi_ROI\",\"stat\"]], \n",
    "#                                             aseg_ukbb_ids_df[[\"Field ID\",\"hemi_ROI\",\"stat\"]]],axis=0)\n",
    "\n",
    "\n",
    "# brainage_fs_ukbb_field_ids_df.to_csv(f\"{metadata_dir}/brainage_fs_ukbb_field_ids.csv\")\n",
    "\n",
    "# brainage_fs_ukbb_field_ids_df.head()"
   ]
  },
  {
   "cell_type": "markdown",
   "metadata": {},
   "source": [
    "## Plot CT after collating stats\n",
    "\n",
    "Desikan-Killiany-Tourville Atlas\n",
    "Cortical Regions. Frontal pole, temporal pole, and “banks of the superior temporal sulcus” regions were removed as per the DKT protocol, "
   ]
  },
  {
   "cell_type": "code",
   "execution_count": null,
   "metadata": {},
   "outputs": [],
   "source": [
    "FS_stats_dir = \"/home/nikhil/projects/brain_changes/brain-diff/fmriprep/stats/\"\n",
    "\n",
    "BL_CT_file = f\"{FS_stats_dir}bl/DKTatlas_average_thickness.csv\"\n",
    "BL_ASEG_file = f\"{FS_stats_dir}bl/aseg_subcortical_volumes.csv\"\n",
    "FU_CT_file = f\"{FS_stats_dir}m24/DKTatlas_average_thickness.csv\"\n",
    "FU_ASEG_file = f\"{FS_stats_dir}m24/aseg_subcortical_volumes.csv\"\n",
    "\n",
    "BL_CT_df = pd.read_csv(BL_CT_file).drop(columns=[\"Unnamed: 0\"]).set_index(\"subject_id\")\n",
    "BL_ASEG_df = pd.read_csv(BL_ASEG_file).drop(columns=[\"Unnamed: 0\"]).set_index(\"subject_id\")\n",
    "FU_CT_df = pd.read_csv(FU_CT_file).drop(columns=[\"Unnamed: 0\"]).set_index(\"subject_id\")\n",
    "FU_ASEG_df = pd.read_csv(FU_ASEG_file).drop(columns=[\"Unnamed: 0\"]).set_index(\"subject_id\")\n",
    "\n",
    "\n",
    "print(f\"Number of BL, CT subjects: {len(BL_CT_df)}, number of ROIs: 2 x {len(BL_CT_df.columns)/2}\")\n",
    "print(f\"Number of BL, ASEG subjects: {len(BL_ASEG_df)}, number of ROIs: {len(BL_ASEG_df.columns)}\")\n",
    "\n",
    "print(f\"Number of FU, CT subjects: {len(FU_CT_df)}, number of ROIs: 2 x {len(FU_CT_df.columns)/2}\")\n",
    "print(f\"Number of FU, ASEG subjects: {len(FU_ASEG_df)}, number of ROIs: {len(FU_ASEG_df.columns)}\")\n",
    "\n",
    "BL_subjects = set(BL_CT_df.index) & set(BL_ASEG_df.index)\n",
    "FU_subjects = set(FU_CT_df.index) & set(FU_ASEG_df.index)\n",
    "\n",
    "BL_and_FU_subjects = BL_subjects & FU_subjects\n",
    "\n",
    "print(f\"Number unique subjects with CT and ASEG features\\n BL:{len(BL_subjects)}, \\\n",
    "FU:{len(FU_subjects)}, BLandFU:{len(BL_and_FU_subjects)}\")"
   ]
  },
  {
   "cell_type": "code",
   "execution_count": null,
   "metadata": {},
   "outputs": [],
   "source": []
  },
  {
   "cell_type": "markdown",
   "metadata": {},
   "source": [
    "## Read UKBB fields \n",
    "- This is based on UKBB showcase\n",
    "- Only doing once and saving fieldIDs-ROIs csv"
   ]
  },
  {
   "cell_type": "markdown",
   "metadata": {},
   "source": [
    "### DKT CT "
   ]
  },
  {
   "cell_type": "code",
   "execution_count": null,
   "metadata": {},
   "outputs": [],
   "source": [
    "ukbb_dkt_fields_df = pd.read_csv(ukbb_dkt_fields)\n",
    "ukbb_dkt_fields_df.head()"
   ]
  },
  {
   "cell_type": "markdown",
   "metadata": {},
   "source": [
    "### Grab rows with specific stat measure of interest"
   ]
  },
  {
   "cell_type": "code",
   "execution_count": null,
   "metadata": {},
   "outputs": [],
   "source": [
    "stat_measure = \"Mean thickness\" \n",
    "ukbb_dkt_measure_df = ukbb_dkt_fields_df[ukbb_dkt_fields_df[\"Description\"].str.startswith(stat_measure)].copy()\n",
    "ukbb_dkt_measure_df[\"Description\"] = ukbb_dkt_measure_df[\"Description\"].str.replace(\"Mean thickness\",\"Mean_thickness\")\n",
    "print(f\"number of fields with {stat_measure}: {len(ukbb_dkt_measure_df)}\")\n",
    "\n",
    "ukbb_dkt_measure_df[[\"metric\",\"roi\",\"hemi\"]] = ukbb_dkt_measure_df[\"Description\"].str.split(\" \", expand=True)[[0,2,3]]\n",
    "ukbb_dkt_measure_df[\"hemi\"] = ukbb_dkt_measure_df[\"hemi\"].replace({\"(left\":\"lh\", \"(right\":\"rh\"})\n",
    "ukbb_dkt_measure_df.head()"
   ]
  },
  {
   "cell_type": "code",
   "execution_count": null,
   "metadata": {},
   "outputs": [],
   "source": [
    "## Save \n",
    "# UKBB_dkt_ct_fields = \"/home/nikhil/projects/brain_changes/brain-diff/metadata/UKBB_DKT_CT_Fields.csv\"\n",
    "# ukbb_dkt_measure_df.to_csv(UKBB_dkt_ct_fields)"
   ]
  },
  {
   "cell_type": "markdown",
   "metadata": {},
   "source": [
    "### ASEG Vols"
   ]
  },
  {
   "cell_type": "code",
   "execution_count": null,
   "metadata": {},
   "outputs": [],
   "source": [
    "ukbb_aseg_fields_df = pd.read_csv(ukbb_aseg_fields)\n",
    "print(f\"Number of fields: {len(ukbb_aseg_fields_df)}\")\n",
    "ukbb_aseg_fields_df.head()"
   ]
  },
  {
   "cell_type": "markdown",
   "metadata": {},
   "source": [
    "### Grab rows with specific stat measure of interest"
   ]
  },
  {
   "cell_type": "code",
   "execution_count": null,
   "metadata": {},
   "outputs": [],
   "source": [
    "stat_measure = \"Volume of\" \n",
    "ukbb_aseg_fields_df = ukbb_aseg_fields_df[ukbb_aseg_fields_df[\"Description\"].str.startswith(stat_measure)].copy()\n",
    "ukbb_aseg_fields_df[\"Description\"] = ukbb_aseg_fields_df[\"Description\"].str.replace(\"Mean thickness\",\"Mean_thickness\")\n",
    "print(f\"number of fields with {stat_measure}: {len(ukbb_aseg_fields_df)}\")\n",
    "\n",
    "ukbb_aseg_fields_df.head()"
   ]
  },
  {
   "cell_type": "code",
   "execution_count": null,
   "metadata": {},
   "outputs": [],
   "source": [
    "ukbb_aseg_fields_df[[\"metric\",\"roi\",\"hemi\"]] = ukbb_aseg_fields_df[\"Description\"].str.split(\" \", expand=True)[[0,2,3]]\n",
    "ukbb_aseg_fields_df[\"hemi\"] = ukbb_aseg_fields_df[\"hemi\"].replace({\"(left\":\"Left-\", \"(right\":\"Right-\", \"(whole\":\"\"})\n",
    "ukbb_aseg_fields_df[\"hemi_ROI\"] = ukbb_aseg_fields_df[\"hemi\"] + ukbb_aseg_fields_df[\"roi\"]\n",
    "ukbb_aseg_fields_df.head()"
   ]
  },
  {
   "cell_type": "code",
   "execution_count": null,
   "metadata": {},
   "outputs": [],
   "source": [
    "# # Save \n",
    "# ukbb_aseg_vol_fields = \"/home/nikhil/projects/brain_changes/brain-diff/metadata/UKBB_ASEG_vol_Fields.csv\"\n",
    "# ukbb_aseg_fields_df.to_csv(ukbb_aseg_vol_fields)"
   ]
  },
  {
   "cell_type": "code",
   "execution_count": null,
   "metadata": {},
   "outputs": [],
   "source": []
  }
 ],
 "metadata": {
  "interpreter": {
   "hash": "999c495fe9dc36b558f9181c52eb411f8d79bcfd8fb93141da57ede7d0ce5d9c"
  },
  "kernelspec": {
   "display_name": "Python 3.7.0 ('green_compute')",
   "language": "python",
   "name": "python3"
  },
  "language_info": {
   "codemirror_mode": {
    "name": "ipython",
    "version": 3
   },
   "file_extension": ".py",
   "mimetype": "text/x-python",
   "name": "python",
   "nbconvert_exporter": "python",
   "pygments_lexer": "ipython3",
   "version": "3.7.0"
  },
  "orig_nbformat": 4
 },
 "nbformat": 4,
 "nbformat_minor": 2
}
