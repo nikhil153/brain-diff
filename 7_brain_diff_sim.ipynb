{
 "cells": [
  {
   "cell_type": "markdown",
   "source": [
    "## LSN theoratical toy example\n",
    "### Quadratic brain ROI trajectories with age\n",
    "\n",
    "### 1. Additive initial factor: subject variability\n",
    "### 2. Additive time shift: ROI variability\n"
   ],
   "metadata": {}
  },
  {
   "cell_type": "code",
   "execution_count": 1,
   "source": [
    "import numpy as np\n",
    "import pandas as pd\n",
    "from datetime import datetime\n",
    "\n",
    "from scipy import stats\n",
    "from sklearn.model_selection import train_test_split\n",
    "from sklearn import datasets, linear_model\n",
    "from sklearn.model_selection import cross_val_score\n",
    "\n",
    "from sklearn.pipeline import Pipeline\n",
    "from sklearn.preprocessing import PolynomialFeatures\n",
    "from sklearn.linear_model import LinearRegression\n",
    "from sklearn.ensemble import GradientBoostingRegressor\n",
    "from sklearn.ensemble import RandomForestRegressor\n",
    "\n",
    "import torch\n",
    "import torch.nn as nn\n",
    "import torch.optim as optim\n",
    "from torch.utils.data import Dataset, DataLoader\n",
    "\n",
    "import matplotlib.pyplot as plt\n",
    "import seaborn as sns\n",
    "\n",
    "from simul import *\n",
    "\n",
    "device = torch.device(\"cuda:0\" if torch.cuda.is_available() else \"cpu\")\n",
    "if torch.cuda.is_available():\n",
    "    map_location=lambda storage, loc: storage.cuda()\n",
    "else:\n",
    "    map_location='cpu'\n",
    "                    \n"
   ],
   "outputs": [],
   "metadata": {}
  },
  {
   "cell_type": "markdown",
   "source": [
    "## Brain trajectories\n",
    "### ROI variability: Additive time shift: ROI variability"
   ],
   "metadata": {}
  },
  {
   "cell_type": "code",
   "execution_count": 2,
   "source": [
    "n_timepoints = 100\n",
    "intercept = 5\n",
    "poly_order = 2\n",
    "\n",
    "traj1_time_shift = 50\n",
    "traj2_time_shift = 60\n",
    "\n",
    "traj1 = get_brain_trajectory(n_timepoints,intercept,traj1_time_shift,poly_order)\n",
    "traj2 = get_brain_trajectory(n_timepoints,intercept,traj2_time_shift,poly_order)\n",
    "\n",
    "t = np.arange(n_timepoints)\n",
    "plt.plot(t,traj1, label=\"roi-1\")\n",
    "plt.plot(t,traj2, label=\"roi-2\")\n",
    "plt.xlabel(\"age\")\n",
    "plt.ylabel(\"thickness\")\n",
    "plt.legend()"
   ],
   "outputs": [
    {
     "output_type": "execute_result",
     "data": {
      "text/plain": [
       "<matplotlib.legend.Legend at 0x7f80347ff3c8>"
      ]
     },
     "metadata": {},
     "execution_count": 2
    },
    {
     "output_type": "display_data",
     "data": {
      "text/plain": [
       "<Figure size 432x288 with 1 Axes>"
      ],
      "image/png": "[encoded data removed]"
     },
     "metadata": {
      "needs_background": "light"
     }
    }
   ],
   "metadata": {}
  },
  {
   "cell_type": "markdown",
   "source": [
    "## Generate subject-specific random samples \n",
    "### Additive initial factor: subject variability"
   ],
   "metadata": {}
  },
  {
   "cell_type": "code",
   "execution_count": null,
   "source": [
    "# same init factor for each ROI\n",
    "n_samples = 10\n",
    "\n",
    "roi_1 = get_traj_samples(traj1, n_samples)\n",
    "roi_2 = get_traj_samples(traj2, n_samples)\n",
    "\n",
    "palette = 'husl'\n",
    "sns.set(font_scale=1)\n",
    "\n",
    "fig, axes = plt.subplots(1,2,figsize=(15,5),sharex=True,sharey=True)\n",
    "with sns.axes_style(\"whitegrid\"):    \n",
    "    ax = axes[0]\n",
    "    g = sns.heatmap(roi_1, ax=ax)\n",
    "    g.set_xlabel(\"age\")\n",
    "    g.set_ylabel(\"sample id\")\n",
    "    g.set_title(\"ROI-1\")\n",
    "    ax = axes[1]\n",
    "    g = sns.heatmap(roi_2, ax=ax)\n",
    "    g.set_title(\"ROI-2\")\n",
    "    g.set_xlabel(\"age\")"
   ],
   "outputs": [],
   "metadata": {}
  },
  {
   "cell_type": "markdown",
   "source": [
    "## Run entire toy example"
   ],
   "metadata": {}
  },
  {
   "cell_type": "code",
   "execution_count": 3,
   "source": [
    "# Traj params (Fixed)\n",
    "\n",
    "intercept = 5\n",
    "poly_order = 2\n",
    "roi_maturity_min = 25\n",
    "roi_maturity_max = 75\n",
    "n_timepoints = 100\n",
    "\n",
    "followup_list = [2,10]\n",
    "\n",
    "verbose = False\n",
    "n_jobs = 4\n",
    "\n",
    "perf_df = pd.DataFrame(columns=[\"model\", \"n_samples\", \"n_regions\", \"followup_interval\", \"CV_score\",\"test_MAE\",\"test_r\"])\n",
    "\n",
    "for followup_interval in followup_list:\n",
    "    for n_samples in [100,1000,10000]:\n",
    "        for n_regions in [10,100,1000]: \n",
    "            # Region values are shifted in time\n",
    "            time_shift_list = np.linspace(start=roi_maturity_min,stop=roi_maturity_max,num=n_regions)\n",
    "\n",
    "            # Get traj(s): subject values are shifted in intercept\n",
    "            traj_list = [get_brain_trajectory(n_timepoints,intercept,time_shift,poly_order) for time_shift in time_shift_list]\n",
    "\n",
    "            # Model configs\n",
    "            model_dict = {\n",
    "                \"LR\": LinearRegression(n_jobs=n_jobs), \n",
    "                \"RF\": RandomForestRegressor(n_jobs=n_jobs, random_state=1), \n",
    "                # \"GB\": GradientBoostingRegressor(random_state=1)\n",
    "                \"LSN\": None\n",
    "            }\n",
    "\n",
    "            # Get roi samples\n",
    "            roi_list = [get_traj_samples(traj, n_samples) for traj in traj_list]\n",
    "\n",
    "            # Get cross-sectional time data (sample with replacement)\n",
    "            y_baseline, X_baseline, X_followup = get_cross_sectional_samples(roi_list, followup_interval=followup_interval)\n",
    "\n",
    "            # normalize y\n",
    "            y_followup = y_baseline + followup_interval\n",
    "            \n",
    "            y_baseline = y_baseline/100\n",
    "            y_followup = y_followup/100\n",
    "\n",
    "            if followup_interval > 0:\n",
    "                X = np.hstack([X_baseline,X_followup])\n",
    "                y = np.vstack([y_baseline,y_followup]).T\n",
    "            else:\n",
    "                X = X_baseline\n",
    "                y = y_baseline\n",
    "                \n",
    "            # Split for CV and held-out test set\n",
    "            n_CV = int(0.75 * n_samples)\n",
    "            \n",
    "            X_CV = X[:n_CV]\n",
    "            X_test = X[n_CV:]\n",
    "\n",
    "            y_CV = y[:n_CV]\n",
    "            y_test = y[n_CV:]\n",
    "\n",
    "            if verbose:\n",
    "                print(f\"CV data shapes, X:{X_CV.shape}, y:{y_CV.shape}\")\n",
    "                print(f\"CV data means, X: {np.mean(X_CV):3.2f}, y:{np.mean(y_CV):3.2f}\")\n",
    "\n",
    "                print(f\"test data shapes, X:{X_test.shape}, y:{y_test.shape}\")\n",
    "                print(f\"test data means, X: {np.mean(X_test):3.2f}, y:{np.mean(y_test):3.2f}\")\n",
    "\n",
    "            # Run Models\n",
    "            for model_name, model_instance in model_dict.items():\n",
    "                print(f\"\\nSim config: n_samples: {n_samples}, n_regions= {n_regions}, followup: {followup_interval}, model: {model_name}\")\n",
    "                if model_name == \"LSN\":\n",
    "                    # train\n",
    "                    batch_size = 25\n",
    "                    hidden_size = 100\n",
    "                    \n",
    "                    train_dataset = SimDataset(X_baseline[:n_CV], X_followup[:n_CV], y_baseline[:n_CV], y_followup[:n_CV])\n",
    "                    train_dataloader = DataLoader(train_dataset, batch_size=batch_size, shuffle=True)\n",
    "                \n",
    "                    model = LSN(X_baseline.shape[1],hidden_size=hidden_size) # alternative toy model: LSN()\n",
    "\n",
    "                    model = torch.nn.DataParallel(model)\n",
    "                        \n",
    "                    optimizer = optim.SGD(model.parameters(), lr=0.01, momentum=0.9)\n",
    "                    criterion = nn.MSELoss()\n",
    "                    n_epochs = 500\n",
    "\n",
    "                    model, batch_loss_df, epoch_loss_df = train(model,train_dataloader,optimizer,criterion,n_epochs)\n",
    "                    \n",
    "                    # test\n",
    "                    test_dataset = SimDataset(X_baseline[n_CV:], X_followup[n_CV:], y_baseline[n_CV:], y_followup[n_CV:])\n",
    "                    test_dataloader = DataLoader(test_dataset, batch_size=1, shuffle=False)\n",
    "\n",
    "                    model.eval()                    \n",
    "                    batch_pred_list, loss1_list, loss2_list = test(model, test_dataloader)\n",
    "                    batch_pred_array = np.vstack(np.squeeze(batch_pred_list))\n",
    "                    \n",
    "                    r1 = stats.pearsonr(batch_pred_array[:,0],y_baseline[n_CV:])[0]\n",
    "                    r2 = stats.pearsonr(batch_pred_array[:,1],y_followup[n_CV:])[0]\n",
    "                    # test_r = 0.5*(r1+r2)\n",
    "                    \n",
    "                    df = pd.DataFrame()\n",
    "                    df[\"test_MAE1\"] = loss1_list\n",
    "                    df[\"test_MAE2\"] = loss2_list\n",
    "                    df[\"test_r1\"] = test_r1\n",
    "                    df[\"test_r2\"] = test_r2\n",
    "                    df[\"CV_score\"] = epoch_loss_df[\"epoch_loss\"].values[-1]\n",
    "                    df[\"model\"] = model_name\n",
    "                    df[\"n_samples\"] = n_samples\n",
    "                    df[\"n_regions\"] = n_regions\n",
    "                    df[\"followup_interval\"] = followup_interval                   \n",
    "                    \n",
    "                    perf_df = perf_df.append(df)\n",
    "\n",
    "                else:\n",
    "                    CV_scores, test_MAE1, test_MAE2, test_r1, test_r2 = get_brain_age_perf(X_CV, y_CV, X_test, y_test, model_instance)\n",
    "                \n",
    "                    df = pd.DataFrame()\n",
    "                    df[\"CV_score\"] = CV_scores\n",
    "                    df[\"model\"] = model_name\n",
    "                    df[\"n_samples\"] = n_samples\n",
    "                    df[\"n_regions\"] = n_regions\n",
    "                    df[\"followup_interval\"] = followup_interval\n",
    "                    df[\"test_MAE1\"] = test_MAE1\n",
    "                    df[\"test_r1\"] = test_r1\n",
    "                    df[\"test_MAE2\"] = test_MAE2\n",
    "                    df[\"test_r2\"] = test_r2\n",
    "                    perf_df = perf_df.append(df)"
   ],
   "outputs": [
    {
     "output_type": "stream",
     "name": "stdout",
     "text": [
      "\n",
      "Sim config: n_samples: 100, n_regions= 10, followup: 2, model: LR\n",
      "\n",
      "Sim config: n_samples: 100, n_regions= 10, followup: 2, model: RF\n",
      "\n",
      "Sim config: n_samples: 100, n_regions= 10, followup: 2, model: LSN\n",
      "epoch 499 loss: 0.0215\n",
      "\n",
      "Sim config: n_samples: 100, n_regions= 100, followup: 2, model: LR\n",
      "\n",
      "Sim config: n_samples: 100, n_regions= 100, followup: 2, model: RF\n",
      "\n",
      "Sim config: n_samples: 100, n_regions= 100, followup: 2, model: LSN\n",
      "epoch 499 loss: 0.0017\n",
      "\n",
      "Sim config: n_samples: 100, n_regions= 1000, followup: 2, model: LR\n",
      "\n",
      "Sim config: n_samples: 100, n_regions= 1000, followup: 2, model: RF\n",
      "\n",
      "Sim config: n_samples: 100, n_regions= 1000, followup: 2, model: LSN\n",
      "epoch 499 loss: 0.0000\n",
      "\n",
      "Sim config: n_samples: 1000, n_regions= 10, followup: 2, model: LR\n",
      "\n",
      "Sim config: n_samples: 1000, n_regions= 10, followup: 2, model: RF\n"
     ]
    }
   ],
   "metadata": {}
  },
  {
   "cell_type": "code",
   "execution_count": 3,
   "source": [
    "perf_df.head()"
   ],
   "outputs": [
    {
     "output_type": "execute_result",
     "data": {
      "text/plain": [
       "  model n_samples n_regions followup_interval  CV_score test_MAE test_r  \\\n",
       "0    LR       100       100                 2 -0.016295      NaN    NaN   \n",
       "1    LR       100       100                 2 -0.018781      NaN    NaN   \n",
       "2    LR       100       100                 2 -0.014312      NaN    NaN   \n",
       "3    LR       100       100                 2 -0.011789      NaN    NaN   \n",
       "4    LR       100       100                 2 -0.015582      NaN    NaN   \n",
       "\n",
       "   test_MAE1  test_r1  test_MAE2  test_r2  \n",
       "0   0.098194      1.0   0.154906      1.0  \n",
       "1   0.098194      1.0   0.154906      1.0  \n",
       "2   0.098194      1.0   0.154906      1.0  \n",
       "3   0.098194      1.0   0.154906      1.0  \n",
       "4   0.098194      1.0   0.154906      1.0  "
      ],
      "text/html": [
       "<div>\n",
       "<style scoped>\n",
       "    .dataframe tbody tr th:only-of-type {\n",
       "        vertical-align: middle;\n",
       "    }\n",
       "\n",
       "    .dataframe tbody tr th {\n",
       "        vertical-align: top;\n",
       "    }\n",
       "\n",
       "    .dataframe thead th {\n",
       "        text-align: right;\n",
       "    }\n",
       "</style>\n",
       "<table border=\"1\" class=\"dataframe\">\n",
       "  <thead>\n",
       "    <tr style=\"text-align: right;\">\n",
       "      <th></th>\n",
       "      <th>model</th>\n",
       "      <th>n_samples</th>\n",
       "      <th>n_regions</th>\n",
       "      <th>followup_interval</th>\n",
       "      <th>CV_score</th>\n",
       "      <th>test_MAE</th>\n",
       "      <th>test_r</th>\n",
       "      <th>test_MAE1</th>\n",
       "      <th>test_r1</th>\n",
       "      <th>test_MAE2</th>\n",
       "      <th>test_r2</th>\n",
       "    </tr>\n",
       "  </thead>\n",
       "  <tbody>\n",
       "    <tr>\n",
       "      <th>0</th>\n",
       "      <td>LR</td>\n",
       "      <td>100</td>\n",
       "      <td>100</td>\n",
       "      <td>2</td>\n",
       "      <td>-0.016295</td>\n",
       "      <td>NaN</td>\n",
       "      <td>NaN</td>\n",
       "      <td>0.098194</td>\n",
       "      <td>1.0</td>\n",
       "      <td>0.154906</td>\n",
       "      <td>1.0</td>\n",
       "    </tr>\n",
       "    <tr>\n",
       "      <th>1</th>\n",
       "      <td>LR</td>\n",
       "      <td>100</td>\n",
       "      <td>100</td>\n",
       "      <td>2</td>\n",
       "      <td>-0.018781</td>\n",
       "      <td>NaN</td>\n",
       "      <td>NaN</td>\n",
       "      <td>0.098194</td>\n",
       "      <td>1.0</td>\n",
       "      <td>0.154906</td>\n",
       "      <td>1.0</td>\n",
       "    </tr>\n",
       "    <tr>\n",
       "      <th>2</th>\n",
       "      <td>LR</td>\n",
       "      <td>100</td>\n",
       "      <td>100</td>\n",
       "      <td>2</td>\n",
       "      <td>-0.014312</td>\n",
       "      <td>NaN</td>\n",
       "      <td>NaN</td>\n",
       "      <td>0.098194</td>\n",
       "      <td>1.0</td>\n",
       "      <td>0.154906</td>\n",
       "      <td>1.0</td>\n",
       "    </tr>\n",
       "    <tr>\n",
       "      <th>3</th>\n",
       "      <td>LR</td>\n",
       "      <td>100</td>\n",
       "      <td>100</td>\n",
       "      <td>2</td>\n",
       "      <td>-0.011789</td>\n",
       "      <td>NaN</td>\n",
       "      <td>NaN</td>\n",
       "      <td>0.098194</td>\n",
       "      <td>1.0</td>\n",
       "      <td>0.154906</td>\n",
       "      <td>1.0</td>\n",
       "    </tr>\n",
       "    <tr>\n",
       "      <th>4</th>\n",
       "      <td>LR</td>\n",
       "      <td>100</td>\n",
       "      <td>100</td>\n",
       "      <td>2</td>\n",
       "      <td>-0.015582</td>\n",
       "      <td>NaN</td>\n",
       "      <td>NaN</td>\n",
       "      <td>0.098194</td>\n",
       "      <td>1.0</td>\n",
       "      <td>0.154906</td>\n",
       "      <td>1.0</td>\n",
       "    </tr>\n",
       "  </tbody>\n",
       "</table>\n",
       "</div>"
      ]
     },
     "metadata": {},
     "execution_count": 3
    }
   ],
   "metadata": {}
  },
  {
   "cell_type": "code",
   "execution_count": 5,
   "source": [
    "plot_df = perf_df.copy()\n",
    "with sns.axes_style(\"whitegrid\"):\n",
    "    g = sns.catplot(y=\"test_MAE1\",x=\"n_samples\",hue=\"model\",col=\"n_regions\", kind=\"point\", data=plot_df, aspect=1)"
   ],
   "outputs": [
    {
     "output_type": "display_data",
     "data": {
      "text/plain": [
       "<Figure size 415.375x360 with 1 Axes>"
      ],
      "image/png": "[encoded data removed]"
     },
     "metadata": {}
    }
   ],
   "metadata": {}
  },
  {
   "cell_type": "code",
   "execution_count": 12,
   "source": [
    "perf_df.to_csv(\"results/simulation/brain_diff_sim_twinmodels_run_1.csv\")\n",
    "\n",
    "# LSN_df = pd.read_csv(\"results/simulation/brain_diff_sim_LSN_run_1.csv\")\n",
    "# base_df = pd.read_csv(\"results/simulation/brain_diff_sim_basemodels_run_2.csv\")\n",
    "# LSN_df = perf_df.copy()"
   ],
   "outputs": [],
   "metadata": {}
  },
  {
   "cell_type": "markdown",
   "source": [
    "## Plots"
   ],
   "metadata": {}
  },
  {
   "cell_type": "code",
   "execution_count": 16,
   "source": [
    "palette = 'husl'\n",
    "sns.set(font_scale=1)\n",
    "\n",
    "plot_df = base_df.append(LSN_df).copy()\n",
    "# my_models = plot_df[\"model\"].unique()\n",
    "# plot_df['model'] = plot_df['model'].replace({my_models[2]: \"LSN\", my_models[3]: \"LSN\", my_models[4]: \"LSN\"})\n",
    "\n",
    "plot_df[\"test_MAE\"] = 100*plot_df[\"test_MAE\"]\n",
    "with sns.axes_style(\"whitegrid\"):\n",
    "    g = sns.catplot(y=\"test_MAE\",x=\"n_samples\",hue=\"model\",col=\"n_regions\", kind=\"point\", data=plot_df, aspect=1)\n",
    "\n"
   ],
   "outputs": [
    {
     "output_type": "display_data",
     "data": {
      "text/plain": [
       "<Figure size 1381.73x360 with 3 Axes>"
      ],
      "image/png": "[encoded data removed]"
     },
     "metadata": {}
    }
   ],
   "metadata": {}
  },
  {
   "cell_type": "code",
   "execution_count": null,
   "source": [],
   "outputs": [],
   "metadata": {}
  }
 ],
 "metadata": {
  "orig_nbformat": 4,
  "language_info": {
   "name": "python",
   "version": "3.7.0",
   "mimetype": "text/x-python",
   "codemirror_mode": {
    "name": "ipython",
    "version": 3
   },
   "pygments_lexer": "ipython3",
   "nbconvert_exporter": "python",
   "file_extension": ".py"
  },
  "kernelspec": {
   "name": "python3",
   "display_name": "Python 3.7.0 64-bit ('green_compute': venv)"
  },
  "interpreter": {
   "hash": "96e4927380308772faf387ce1ad6de9eaed4a7d7aadcf2622a8269a7d5f191c8"
  }
 },
 "nbformat": 4,
 "nbformat_minor": 2
}