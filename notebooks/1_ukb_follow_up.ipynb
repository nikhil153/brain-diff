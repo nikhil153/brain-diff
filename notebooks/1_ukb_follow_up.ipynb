{
 "cells": [
  {
   "cell_type": "code",
   "execution_count": 1,
   "metadata": {},
   "outputs": [],
   "source": [
    "import numpy as np\n",
    "import pandas as pd\n",
    "import seaborn as sns\n",
    "import matplotlib.pyplot as plt"
   ]
  },
  {
   "cell_type": "markdown",
   "metadata": {},
   "source": [
    "## Tabular data update\n",
    "Based on comparing ukb46307, ukb49190, ukb50467, ukb51581, **ukb46307** still has the most subjects (year: 2020)"
   ]
  },
  {
   "cell_type": "code",
   "execution_count": 9,
   "metadata": {},
   "outputs": [],
   "source": [
    "## Tabular Data\n",
    "project_dir = \"../\"\n",
    "data_dir = \"/home/nikhil/projects/brain_changes/data/ukbb/\"\n",
    "\n",
    "ukbb_tab_version = \"ukb49190\" #older version: \"ukb46307.csv\"\n",
    "ukbb_tab_csv = f\"{data_dir}tabular/{ukbb_tab_version}.csv\" \n",
    "ukbb_demograph_csv = f\"{data_dir}tabular/{ukbb_tab_version}_demographics.csv\" \n",
    "ukbb_ses2and3_demograph_csv = f\"{data_dir}tabular/{ukbb_tab_version}_ses2and3_demographics.csv\" \n",
    "\n",
    "# Neurohub list\n",
    "neurohub_ses2_subject_ids = f\"{data_dir}subject_ids/ukbb_brain-age_ses-2_subject_ids.txt\"\n",
    "neurohub_ses3_subject_ids = f\"{data_dir}subject_ids/ukbb_brain-age_ses-3_subject_ids.txt\"\n",
    "\n",
    "# derivatives\n",
    "ukbb_freesurfer_csv = f\"{data_dir}derivatives/freesurfer_agg/{ukbb_tab_version}_DKT_aseg.csv\"\n",
    "ukbb_fmriprep_subject_ids = f\"{data_dir}subject_ids/ukbb_fmriprep_subject_ids.txt\"\n"
   ]
  },
  {
   "cell_type": "markdown",
   "metadata": {},
   "source": [
    "## Select few columns (cannot read entire CSV in memory)"
   ]
  },
  {
   "cell_type": "code",
   "execution_count": null,
   "metadata": {},
   "outputs": [],
   "source": [
    "read_neurohub_manifest = True\n",
    "save_ukbb_demograph = False\n",
    "select_subjects_with_followup = True\n",
    "save_ukbb_followup_subset = True\n",
    "\n",
    "if read_neurohub_manifest:\n",
    "    column_codes = {\n",
    "        \"eid\":\"eid\", \n",
    "        \"31-0.0\":\"sex\",\n",
    "        \"34-0.0\":\"birth_year\",\n",
    "        \"21022-0.0\": \"age_at_recruitment\",\n",
    "        \"21003-2.0\": \"age_at_ses2\",\n",
    "        \"21003-3.0\": \"age_at_ses3\",\n",
    "        \"21000-0.0\":\"ethnicity\", \n",
    "        \"20252-2.0\":\"T1-ses2\",\n",
    "        \"20252-3.0\":\"T1-ses3\",\n",
    "        \"53-2.0\":\"imaging date-ses2\",\n",
    "        \"53-3.0\":\"imaging date-ses3\"}\n",
    "\n",
    "    ukbb_tab_df = pd.read_csv(ukbb_tab_csv, index_col=[\"eid\"], usecols=column_codes.keys())\n",
    "\n",
    "    ukbb_tab_df = ukbb_tab_df.rename(columns=column_codes)\n",
    "\n",
    "    if save_ukbb_demograph:\n",
    "        ukbb_tab_df.to_csv(ukbb_demograph_csv)\n",
    "\n",
    "\n",
    "    if select_subjects_with_followup:\n",
    "        # Make sure subjects have imaging data from ses2 and ses3\n",
    "        ukbb_tab_df = ukbb_tab_df[(~ukbb_tab_df[\"T1-ses2\"].isna()) & (~ukbb_tab_df[\"T1-ses3\"].isna())]\n",
    "\n",
    "        print(f'Number of available follow up subjects: {len(ukbb_tab_df)}')\n",
    "\n",
    "    ## Save ukbb follow-up data csv to save time reading entire tabular data csv \n",
    "    if save_ukbb_followup_subset: \n",
    "        ukbb_tab_df.to_csv(ukbb_ses2and3_demograph_csv)\n",
    "\n",
    "else:\n",
    "    ukbb_tab_followup_df = pd.read_csv(ukbb_ses2and3_demograph_csv)\n"
   ]
  },
  {
   "cell_type": "code",
   "execution_count": 16,
   "metadata": {},
   "outputs": [
    {
     "name": "stdout",
     "output_type": "stream",
     "text": [
      "Sample sizes, ses2: 3208, ses3: 3208, ses2and3: 3208\n",
      "N, fmriprep_ids: 1427, ids_to_be_processed: 1781, ids_extra: 0\n"
     ]
    }
   ],
   "source": [
    "neurohub_ses2_ids = pd.read_csv(neurohub_ses2_subject_ids, header=None)[0].values\n",
    "neurohub_ses3_ids = pd.read_csv(neurohub_ses3_subject_ids, header=None)[0].values\n",
    "\n",
    "neurohub_ses2and3_ids = set(neurohub_ses2_ids) & set(neurohub_ses3_ids)\n",
    "\n",
    "print(f\"Sample sizes, ses2: {len(set(neurohub_ses2_ids))}, ses3: {len(set(neurohub_ses3_ids))}, ses2and3: {len(neurohub_ses2and3_ids)}\")\n",
    "\n",
    "# Currently processed fmriprep subject ids:\n",
    "fmriprep_ids = pd.read_csv(ukbb_fmriprep_subject_ids, header=None)[0].values\n",
    "fmriprep_ids = [int(i.split(\"-\")[1]) for i in fmriprep_ids]\n",
    "ids_to_be_processed = neurohub_ses2and3_ids - set(fmriprep_ids) \n",
    "ids_extra = set(fmriprep_ids) - neurohub_ses2and3_ids\n",
    "\n",
    "print(f\"N, fmriprep_ids: {len(fmriprep_ids)}, ids_to_be_processed: {len(ids_to_be_processed)}, ids_extra: {len(ids_extra)}\")\n"
   ]
  },
  {
   "cell_type": "code",
   "execution_count": 19,
   "metadata": {},
   "outputs": [],
   "source": [
    "# ids_to_be_processed = list(ids_to_be_processed)\n",
    "# ids_to_be_processed_file = f\"{data_dir}subject_ids/ukbb_fmriprep_to_process_subject_ids.txt\"\n",
    "\n",
    "# with open(ids_to_be_processed_file, 'w') as f:\n",
    "#     for line in ids_to_be_processed:\n",
    "#         f.write(f\"{line}\\n\")"
   ]
  },
  {
   "cell_type": "markdown",
   "metadata": {},
   "source": [
    "## plots"
   ]
  },
  {
   "cell_type": "code",
   "execution_count": null,
   "metadata": {},
   "outputs": [],
   "source": [
    "plot_df = ukbb_tab_followup_df.copy()\n",
    "plot_df[\"age_at_ses2\"] = plot_df[\"age_at_ses2\"].astype(int)\n",
    "plot_df[\"age_at_ses3\"] = plot_df[\"age_at_ses3\"].astype(int)\n",
    "plot_df[\"age_diff\"] = plot_df[\"age_at_ses3\"] - plot_df[\"age_at_ses2\"]\n",
    "palette = 'husl'\n",
    "sns.set(font_scale=1.5)\n",
    "with sns.axes_style(\"(sorry my genetic knowledge is very limited) whitegrid\"):\n",
    "    g = sns.catplot(x=\"age_at_ses2\", hue=\"age_diff\", kind='count',\n",
    "    aspect=4, height=5, palette = palette, data=plot_df)\n"
   ]
  },
  {
   "cell_type": "markdown",
   "metadata": {},
   "source": []
  },
  {
   "cell_type": "code",
   "execution_count": null,
   "metadata": {},
   "outputs": [],
   "source": [
    "plot_df[\"age_diff\"].value_counts()"
   ]
  },
  {
   "cell_type": "code",
   "execution_count": null,
   "metadata": {},
   "outputs": [],
   "source": []
  }
 ],
 "metadata": {
  "interpreter": {
   "hash": "e5f8cee7ddba11edeefb1347c6536a4ac2b361bd4eba89a8b32d7cb85bbef9ea"
  },
  "kernelspec": {
   "display_name": "Python 3.7.9 64-bit ('green_compute': conda)",
   "name": "python3"
  },
  "language_info": {
   "codemirror_mode": {
    "name": "ipython",
    "version": 3
   },
   "file_extension": ".py",
   "mimetype": "text/x-python",
   "name": "python",
   "nbconvert_exporter": "python",
   "pygments_lexer": "ipython3",
   "version": "3.7.9"
  },
  "orig_nbformat": 4
 },
 "nbformat": 4,
 "nbformat_minor": 2
}
