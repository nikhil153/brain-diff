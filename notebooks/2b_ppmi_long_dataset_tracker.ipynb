{
 "cells": [
  {
   "cell_type": "markdown",
   "metadata": {},
   "source": [
    "## PPMI longitudinal dataset\n",
    "\n",
    "#### Vincet notes:\n",
    "  1. Normal visits:\n",
    "     'Screening->0',\n",
    "     'Baseline->1',\n",
    "     'Month 12->5',\n",
    "     'Month 24->7',\n",
    "     'Month 36->9',\n",
    "     'Month 48->11',\n",
    "\n",
    "  2. Abnornal visits:\n",
    "     'Premature Withdrawal->30',\n",
    "     'Symptomatic Therapy->21',\n",
    "     'Unscheduled Visit 01->90',\n",
    "     'Unscheduled Visit 02->91'"
   ]
  },
  {
   "cell_type": "code",
   "execution_count": null,
   "metadata": {},
   "outputs": [],
   "source": []
  }
 ],
 "metadata": {
  "language_info": {
   "name": "python"
  },
  "orig_nbformat": 4
 },
 "nbformat": 4,
 "nbformat_minor": 2
}
