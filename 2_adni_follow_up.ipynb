{
 "cells": [
  {
   "cell_type": "code",
   "execution_count": 1,
   "source": [
    "import numpy as np\n",
    "import pandas as pd\n",
    "import vaex\n",
    "import seaborn as sns"
   ],
   "outputs": [],
   "metadata": {}
  },
  {
   "cell_type": "code",
   "execution_count": 2,
   "source": [
    "## Tabular Data\n",
    "data_dir = \"/home/nikhil/projects/brain_changes/data/adni/\"\n",
    "\n",
    "tab_csv = f\"{data_dir}/tabular/ADNI123_long_aug_2021.csv\"\n"
   ],
   "outputs": [],
   "metadata": {}
  },
  {
   "cell_type": "markdown",
   "source": [
    "## Image and subject ID dataframe"
   ],
   "metadata": {}
  },
  {
   "cell_type": "code",
   "execution_count": 38,
   "source": [
    "tab_data = pd.read_csv(tab_csv)\n",
    "tab_data.head()"
   ],
   "outputs": [
    {
     "output_type": "execute_result",
     "data": {
      "text/plain": [
       "  Image Data ID     Subject Group Sex  Age  Visit Modality Description  \\\n",
       "0       I673862  941_S_5193   SMC   F   74     30      MRI      MPRAGE   \n",
       "1       I673841  941_S_5124   SMC   F   79     30      MRI      MPRAGE   \n",
       "2       I420755  941_S_5124   SMC   F   78     28      MRI      MPRAGE   \n",
       "3       I431036  941_S_4764  EMCI   F   85     30      MRI      MPRAGE   \n",
       "4       I376064  941_S_4764  EMCI   F   84     28      MRI      MPRAGE   \n",
       "\n",
       "       Type   Acq Date Format Downloaded  \n",
       "0  Original  4/02/2015    DCM        NaN  \n",
       "1  Original  4/08/2015    DCM        NaN  \n",
       "2  Original  4/21/2014    DCM        NaN  \n",
       "3  Original  6/16/2014    DCM        NaN  \n",
       "4  Original  6/10/2013    DCM        NaN  "
      ],
      "text/html": [
       "<div>\n",
       "<style scoped>\n",
       "    .dataframe tbody tr th:only-of-type {\n",
       "        vertical-align: middle;\n",
       "    }\n",
       "\n",
       "    .dataframe tbody tr th {\n",
       "        vertical-align: top;\n",
       "    }\n",
       "\n",
       "    .dataframe thead th {\n",
       "        text-align: right;\n",
       "    }\n",
       "</style>\n",
       "<table border=\"1\" class=\"dataframe\">\n",
       "  <thead>\n",
       "    <tr style=\"text-align: right;\">\n",
       "      <th></th>\n",
       "      <th>Image Data ID</th>\n",
       "      <th>Subject</th>\n",
       "      <th>Group</th>\n",
       "      <th>Sex</th>\n",
       "      <th>Age</th>\n",
       "      <th>Visit</th>\n",
       "      <th>Modality</th>\n",
       "      <th>Description</th>\n",
       "      <th>Type</th>\n",
       "      <th>Acq Date</th>\n",
       "      <th>Format</th>\n",
       "      <th>Downloaded</th>\n",
       "    </tr>\n",
       "  </thead>\n",
       "  <tbody>\n",
       "    <tr>\n",
       "      <th>0</th>\n",
       "      <td>I673862</td>\n",
       "      <td>941_S_5193</td>\n",
       "      <td>SMC</td>\n",
       "      <td>F</td>\n",
       "      <td>74</td>\n",
       "      <td>30</td>\n",
       "      <td>MRI</td>\n",
       "      <td>MPRAGE</td>\n",
       "      <td>Original</td>\n",
       "      <td>4/02/2015</td>\n",
       "      <td>DCM</td>\n",
       "      <td>NaN</td>\n",
       "    </tr>\n",
       "    <tr>\n",
       "      <th>1</th>\n",
       "      <td>I673841</td>\n",
       "      <td>941_S_5124</td>\n",
       "      <td>SMC</td>\n",
       "      <td>F</td>\n",
       "      <td>79</td>\n",
       "      <td>30</td>\n",
       "      <td>MRI</td>\n",
       "      <td>MPRAGE</td>\n",
       "      <td>Original</td>\n",
       "      <td>4/08/2015</td>\n",
       "      <td>DCM</td>\n",
       "      <td>NaN</td>\n",
       "    </tr>\n",
       "    <tr>\n",
       "      <th>2</th>\n",
       "      <td>I420755</td>\n",
       "      <td>941_S_5124</td>\n",
       "      <td>SMC</td>\n",
       "      <td>F</td>\n",
       "      <td>78</td>\n",
       "      <td>28</td>\n",
       "      <td>MRI</td>\n",
       "      <td>MPRAGE</td>\n",
       "      <td>Original</td>\n",
       "      <td>4/21/2014</td>\n",
       "      <td>DCM</td>\n",
       "      <td>NaN</td>\n",
       "    </tr>\n",
       "    <tr>\n",
       "      <th>3</th>\n",
       "      <td>I431036</td>\n",
       "      <td>941_S_4764</td>\n",
       "      <td>EMCI</td>\n",
       "      <td>F</td>\n",
       "      <td>85</td>\n",
       "      <td>30</td>\n",
       "      <td>MRI</td>\n",
       "      <td>MPRAGE</td>\n",
       "      <td>Original</td>\n",
       "      <td>6/16/2014</td>\n",
       "      <td>DCM</td>\n",
       "      <td>NaN</td>\n",
       "    </tr>\n",
       "    <tr>\n",
       "      <th>4</th>\n",
       "      <td>I376064</td>\n",
       "      <td>941_S_4764</td>\n",
       "      <td>EMCI</td>\n",
       "      <td>F</td>\n",
       "      <td>84</td>\n",
       "      <td>28</td>\n",
       "      <td>MRI</td>\n",
       "      <td>MPRAGE</td>\n",
       "      <td>Original</td>\n",
       "      <td>6/10/2013</td>\n",
       "      <td>DCM</td>\n",
       "      <td>NaN</td>\n",
       "    </tr>\n",
       "  </tbody>\n",
       "</table>\n",
       "</div>"
      ]
     },
     "metadata": {},
     "execution_count": 38
    }
   ],
   "metadata": {}
  },
  {
   "cell_type": "markdown",
   "source": [
    "## Count follow-up subjects"
   ],
   "metadata": {}
  },
  {
   "cell_type": "code",
   "execution_count": 42,
   "source": [
    "# Remove duplicate scans based on subject_id and Acq data\n",
    "tab_data = tab_data.drop_duplicates(subset=[\"Subject\",\"Acq Date\"],keep=\"last\")\n",
    "\n",
    "subject_ids = tab_data[\"Subject\"].unique()\n",
    "print(f\"n_subjects: {len(subject_ids)}\")\n",
    "\n",
    "scan_count_df = pd.DataFrame(tab_data[\"Subject\"].value_counts())\n",
    "scan_count_df.columns = [\"n_scans\"]\n",
    "\n",
    "subject_ids_follow_up = scan_count_df[scan_count_df[\"n_scans\"]>1]\n",
    "n_follow_up_scans = len(subject_ids_follow_up)\n",
    "print(f\"number os subject with follow-up scans: {n_follow_up_scans}\")\n"
   ],
   "outputs": [
    {
     "output_type": "stream",
     "name": "stdout",
     "text": [
      "n_subjects: 1057\n",
      "number os subject with follow-up scans: 878\n"
     ]
    }
   ],
   "metadata": {}
  },
  {
   "cell_type": "markdown",
   "source": [
    "## Plot scan distributions"
   ],
   "metadata": {}
  },
  {
   "cell_type": "code",
   "execution_count": 43,
   "source": [
    "sns.histplot(scan_counts[\"n_scans\"])"
   ],
   "outputs": [
    {
     "output_type": "execute_result",
     "data": {
      "text/plain": [
       "<matplotlib.axes._subplots.AxesSubplot at 0x7fb7383cbac8>"
      ]
     },
     "metadata": {},
     "execution_count": 43
    },
    {
     "output_type": "display_data",
     "data": {
      "text/plain": [
       "<Figure size 432x288 with 1 Axes>"
      ],
      "image/png": "[encoded data removed]"
     },
     "metadata": {
      "needs_background": "light"
     }
    }
   ],
   "metadata": {}
  },
  {
   "cell_type": "markdown",
   "source": [
    "## Age distribution"
   ],
   "metadata": {}
  },
  {
   "cell_type": "code",
   "execution_count": 54,
   "source": [
    "# Remove duplicate images based on identical subject ID and age\n",
    "follow_up_data = tab_data[tab_data[\"Subject\"].isin(subject_ids_follow_up.index)]\n",
    "follow_up_data = follow_up_data.sort_values([\"Subject\",\"Age\",\"Image Data ID\"])\n",
    "\n",
    "age_data_first_df = follow_up_data.drop_duplicates(subset=['Subject'],keep=\"first\")\n",
    "age_data_last_df = follow_up_data.drop_duplicates(subset=['Subject'],keep=\"last\")\n",
    "scan_max_age_diff = age_data_last_df[\"Age\"].values - age_data_first_df[\"Age\"].values\n",
    "age_data_df = age_data_first_df.copy()\n",
    "age_data_df[\"max_age_diff\"] = scan_max_age_diff\n",
    "age_data_df.head()"
   ],
   "outputs": [
    {
     "output_type": "execute_result",
     "data": {
      "text/plain": [
       "     Image Data ID     Subject Group Sex  Age  Visit Modality Description  \\\n",
       "3570        I30119  002_S_0413    CN   F   77      3      MRI      MPRAGE   \n",
       "3561        I32918  002_S_0559    CN   M   80      3      MRI      MPRAGE   \n",
       "3556        I71857  002_S_0729   MCI   F   66      4      MRI      MPRAGE   \n",
       "3547        I53479  002_S_0954   MCI   F   70      3      MRI      MPRAGE   \n",
       "3545        I57072  002_S_1018    AD   F   71      3      MRI      MPRAGE   \n",
       "\n",
       "          Type    Acq Date Format Downloaded  max_age_diff  \n",
       "3570  Original  11/15/2006    DCM        NaN             8  \n",
       "3561  Original  12/12/2006    DCM        NaN             2  \n",
       "3556  Original   9/05/2007    DCM        NaN             6  \n",
       "3547  Original   5/03/2007    DCM        NaN             1  \n",
       "3545  Original   6/14/2007    DCM        NaN             2  "
      ],
      "text/html": [
       "<div>\n",
       "<style scoped>\n",
       "    .dataframe tbody tr th:only-of-type {\n",
       "        vertical-align: middle;\n",
       "    }\n",
       "\n",
       "    .dataframe tbody tr th {\n",
       "        vertical-align: top;\n",
       "    }\n",
       "\n",
       "    .dataframe thead th {\n",
       "        text-align: right;\n",
       "    }\n",
       "</style>\n",
       "<table border=\"1\" class=\"dataframe\">\n",
       "  <thead>\n",
       "    <tr style=\"text-align: right;\">\n",
       "      <th></th>\n",
       "      <th>Image Data ID</th>\n",
       "      <th>Subject</th>\n",
       "      <th>Group</th>\n",
       "      <th>Sex</th>\n",
       "      <th>Age</th>\n",
       "      <th>Visit</th>\n",
       "      <th>Modality</th>\n",
       "      <th>Description</th>\n",
       "      <th>Type</th>\n",
       "      <th>Acq Date</th>\n",
       "      <th>Format</th>\n",
       "      <th>Downloaded</th>\n",
       "      <th>max_age_diff</th>\n",
       "    </tr>\n",
       "  </thead>\n",
       "  <tbody>\n",
       "    <tr>\n",
       "      <th>3570</th>\n",
       "      <td>I30119</td>\n",
       "      <td>002_S_0413</td>\n",
       "      <td>CN</td>\n",
       "      <td>F</td>\n",
       "      <td>77</td>\n",
       "      <td>3</td>\n",
       "      <td>MRI</td>\n",
       "      <td>MPRAGE</td>\n",
       "      <td>Original</td>\n",
       "      <td>11/15/2006</td>\n",
       "      <td>DCM</td>\n",
       "      <td>NaN</td>\n",
       "      <td>8</td>\n",
       "    </tr>\n",
       "    <tr>\n",
       "      <th>3561</th>\n",
       "      <td>I32918</td>\n",
       "      <td>002_S_0559</td>\n",
       "      <td>CN</td>\n",
       "      <td>M</td>\n",
       "      <td>80</td>\n",
       "      <td>3</td>\n",
       "      <td>MRI</td>\n",
       "      <td>MPRAGE</td>\n",
       "      <td>Original</td>\n",
       "      <td>12/12/2006</td>\n",
       "      <td>DCM</td>\n",
       "      <td>NaN</td>\n",
       "      <td>2</td>\n",
       "    </tr>\n",
       "    <tr>\n",
       "      <th>3556</th>\n",
       "      <td>I71857</td>\n",
       "      <td>002_S_0729</td>\n",
       "      <td>MCI</td>\n",
       "      <td>F</td>\n",
       "      <td>66</td>\n",
       "      <td>4</td>\n",
       "      <td>MRI</td>\n",
       "      <td>MPRAGE</td>\n",
       "      <td>Original</td>\n",
       "      <td>9/05/2007</td>\n",
       "      <td>DCM</td>\n",
       "      <td>NaN</td>\n",
       "      <td>6</td>\n",
       "    </tr>\n",
       "    <tr>\n",
       "      <th>3547</th>\n",
       "      <td>I53479</td>\n",
       "      <td>002_S_0954</td>\n",
       "      <td>MCI</td>\n",
       "      <td>F</td>\n",
       "      <td>70</td>\n",
       "      <td>3</td>\n",
       "      <td>MRI</td>\n",
       "      <td>MPRAGE</td>\n",
       "      <td>Original</td>\n",
       "      <td>5/03/2007</td>\n",
       "      <td>DCM</td>\n",
       "      <td>NaN</td>\n",
       "      <td>1</td>\n",
       "    </tr>\n",
       "    <tr>\n",
       "      <th>3545</th>\n",
       "      <td>I57072</td>\n",
       "      <td>002_S_1018</td>\n",
       "      <td>AD</td>\n",
       "      <td>F</td>\n",
       "      <td>71</td>\n",
       "      <td>3</td>\n",
       "      <td>MRI</td>\n",
       "      <td>MPRAGE</td>\n",
       "      <td>Original</td>\n",
       "      <td>6/14/2007</td>\n",
       "      <td>DCM</td>\n",
       "      <td>NaN</td>\n",
       "      <td>2</td>\n",
       "    </tr>\n",
       "  </tbody>\n",
       "</table>\n",
       "</div>"
      ]
     },
     "metadata": {},
     "execution_count": 54
    }
   ],
   "metadata": {}
  },
  {
   "cell_type": "code",
   "execution_count": 47,
   "source": [
    "sns.histplot(age_data_df[\"Age\"])"
   ],
   "outputs": [
    {
     "output_type": "execute_result",
     "data": {
      "text/plain": [
       "<matplotlib.axes._subplots.AxesSubplot at 0x7fb73d468400>"
      ]
     },
     "metadata": {},
     "execution_count": 47
    },
    {
     "output_type": "display_data",
     "data": {
      "text/plain": [
       "<Figure size 432x288 with 1 Axes>"
      ],
      "image/png": "[encoded data removed]"
     },
     "metadata": {
      "needs_background": "light"
     }
    }
   ],
   "metadata": {}
  },
  {
   "cell_type": "code",
   "execution_count": 56,
   "source": [
    "sns.scatterplot(x=age_data_df[\"Age\"],y=age_data_df[\"max_age_diff\"])"
   ],
   "outputs": [
    {
     "output_type": "execute_result",
     "data": {
      "text/plain": [
       "<matplotlib.axes._subplots.AxesSubplot at 0x7fb73d57dc50>"
      ]
     },
     "metadata": {},
     "execution_count": 56
    },
    {
     "output_type": "display_data",
     "data": {
      "text/plain": [
       "<Figure size 432x288 with 1 Axes>"
      ],
      "image/png": "[encoded data removed]"
     },
     "metadata": {
      "needs_background": "light"
     }
    }
   ],
   "metadata": {}
  },
  {
   "cell_type": "code",
   "execution_count": null,
   "source": [],
   "outputs": [],
   "metadata": {}
  }
 ],
 "metadata": {
  "orig_nbformat": 4,
  "language_info": {
   "name": "python",
   "version": "3.7.0",
   "mimetype": "text/x-python",
   "codemirror_mode": {
    "name": "ipython",
    "version": 3
   },
   "pygments_lexer": "ipython3",
   "nbconvert_exporter": "python",
   "file_extension": ".py"
  },
  "kernelspec": {
   "name": "python3",
   "display_name": "Python 3.7.0 64-bit ('green_compute': venv)"
  },
  "interpreter": {
   "hash": "96e4927380308772faf387ce1ad6de9eaed4a7d7aadcf2622a8269a7d5f191c8"
  }
 },
 "nbformat": 4,
 "nbformat_minor": 2
}