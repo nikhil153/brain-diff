{
 "cells": [
  {
   "cell_type": "code",
   "execution_count": 1,
   "source": [
    "import sys\n",
    "import numpy as np\n",
    "import pandas as pd\n",
    "import seaborn as sns\n",
    "import nibabel as nib\n",
    "import random\n",
    "import torch\n",
    "import torch.nn.functional as F\n",
    "from torch.utils.data import Dataset, DataLoader, random_split\n",
    "import torch.nn as nn\n",
    "import torch.optim as optim\n",
    "\n",
    "import dask.dataframe as dd\n",
    "\n",
    "sys.path.append(\"../\")\n",
    "from src.utils import *\n",
    "from src.LSN_roi import *\n",
    "\n",
    "from models import dp_loss as dpl\n",
    "from models import dp_utils as dpu\n",
    "\n",
    "from sklearn.model_selection import train_test_split\n",
    "import matplotlib.pyplot as plt"
   ],
   "outputs": [
    {
     "output_type": "stream",
     "name": "stderr",
     "text": [
      "/home/nikhil/anaconda3/envs/green_compute/lib/python3.7/site-packages/torch/cuda/__init__.py:52: UserWarning: CUDA initialization: The NVIDIA driver on your system is too old (found version 9010). Please update your GPU driver by downloading and installing a new version from the URL: http://www.nvidia.com/Download/index.aspx Alternatively, go to: https://pytorch.org to install a PyTorch version that has been compiled with your version of the CUDA driver. (Triggered internally at  /opt/conda/conda-bld/pytorch_1603729006826/work/c10/cuda/CUDAFunctions.cpp:100.)\n",
      "  return torch._C._cuda_getDeviceCount() > 0\n"
     ]
    }
   ],
   "metadata": {}
  },
  {
   "cell_type": "markdown",
   "source": [
    "## Paths"
   ],
   "metadata": {}
  },
  {
   "cell_type": "code",
   "execution_count": 2,
   "source": [
    "project_dir = \"../\"\n",
    "data_dir = \"/home/nikhil/projects/brain_changes/data/ukbb/\"\n",
    "\n",
    "freesurfer_csv = f\"{data_dir}imaging/freesurfer/ukb47552_followup_subset.csv\"\n",
    "\n",
    "train_csv = f\"{project_dir}metadata/metadata_train.csv\"\n",
    "test_csv = f\"{project_dir}metadata/metadata_test.csv\"\n",
    "\n",
    "freesurfer_fields = f\"{project_dir}/metadata/ukbb_freesurfer_fields.txt\"\n",
    "\n",
    "summary_results_dir = \"/home/nikhil/projects/brain_changes/brain-diff/results/summary/\"\n",
    "\n"
   ],
   "outputs": [],
   "metadata": {}
  },
  {
   "cell_type": "markdown",
   "source": [
    "## Filter followup subject using Dask dataframe (pandas will crash)"
   ],
   "metadata": {}
  },
  {
   "cell_type": "code",
   "execution_count": 3,
   "source": [
    "# import dask.dataframe as dd\n",
    "\n",
    "# # Grab eids with ses-3 data\n",
    "# freesurfer_df = pd.read_csv(freesurfer_csv,usecols=[\"eid\",\"26501-3.0\"])\n",
    "# freesurfer_eids = freesurfer_df[~freesurfer_df[\"26501-3.0\"].isna()][\"eid\"]\n",
    "\n",
    "# # Read entire CSV using dask\n",
    "# freesurfer_df = dd.read_csv(freesurfer_csv)\n",
    "# followup_freesurfer_df = freesurfer_df[freesurfer_df[\"eid\"].isin(freesurfer_eids)].compute()\n",
    "\n",
    "# # Save filtered df\n",
    "# followup_freesurfer_df.to_csv(f\"{data_dir}imaging/freesurfer/ukb47552_followup_subset.csv\")"
   ],
   "outputs": [],
   "metadata": {}
  },
  {
   "cell_type": "markdown",
   "source": [
    "## Grab phenotype fields (e.g. Thicknes, Volume, Area)"
   ],
   "metadata": {}
  },
  {
   "cell_type": "code",
   "execution_count": 4,
   "source": [
    "freesurfer_fields_df = pd.read_csv(freesurfer_fields,sep=\"\t\")\n",
    "freesurfer_fields_df[\"phenotype\"] = freesurfer_fields_df[\"Description\"].str.split(\" \",1,expand=True)[0]\n",
    "freesurfer_fields_df[\"phenotype\"] = freesurfer_fields_df[\"phenotype\"].replace({\"Mean\":\"Mean Thickness\"})\n",
    "CT_fields = freesurfer_fields_df[freesurfer_fields_df[\"phenotype\"]==\"Mean Thickness\"][\"Field ID\"]\n",
    "volume_fields = freesurfer_fields_df[freesurfer_fields_df[\"phenotype\"]==\"Volume\"][\"Field ID\"]\n",
    "\n",
    "print(f\"number of CT fields: {len(CT_fields)}, volume fields: {len(volume_fields)}\")"
   ],
   "outputs": [
    {
     "output_type": "stream",
     "name": "stdout",
     "text": [
      "number of CT fields: 62, volume fields: 62\n"
     ]
    }
   ],
   "metadata": {}
  },
  {
   "cell_type": "markdown",
   "source": [
    "## Read DKT volumes "
   ],
   "metadata": {}
  },
  {
   "cell_type": "code",
   "execution_count": 5,
   "source": [
    "pheno_fields = CT_fields # + volume_fields\n",
    "pheno_cols_ses2 = list(pheno_fields.astype(str) + \"-2.0\")\n",
    "pheno_cols_ses3 = list(pheno_fields.astype(str) + \"-3.0\")\n",
    "usecols = [\"eid\"] + pheno_cols_ses2 + pheno_cols_ses3\n",
    "\n",
    "print(f\"reading {len(usecols)} columes\")\n",
    "\n",
    "freesurfer_df = pd.read_csv(freesurfer_csv, usecols=usecols)\n",
    "\n",
    "# Remove eids with missing 2nd or 3rd ses data\n",
    "eid_missing_data = freesurfer_df[freesurfer_df.isna().any(axis=1)][\"eid\"].values\n",
    "print(f\"number participants missing 2nd or 3rd ses freesurfer data: {len(eid_missing_data)}\")\n",
    "\n",
    "freesurfer_df = freesurfer_df[~freesurfer_df[\"eid\"].isin(eid_missing_data)]\n",
    "freesurfer_eids = freesurfer_df[\"eid\"].values\n",
    "\n",
    "print(f\"available freesurfer subjects: {len(freesurfer_eids)}\")\n",
    "\n",
    "\n",
    "# scale data\n",
    "# pheno_max_val = np.max(freesurfer_df[pheno_cols_ses2 + pheno_cols_ses3].values)\n",
    "# print(f\"Max pheno val: {pheno_max_val}\")\n",
    "# freesurfer_df[pheno_cols_ses2 + pheno_cols_ses3] = freesurfer_df[pheno_cols_ses2 + pheno_cols_ses3] / pheno_max_val\n",
    "\n",
    "freesurfer_df.head()"
   ],
   "outputs": [
    {
     "output_type": "stream",
     "name": "stdout",
     "text": [
      "reading 125 columes\n",
      "number participants missing 2nd or 3rd ses freesurfer data: 63\n",
      "available freesurfer subjects: 3237\n"
     ]
    },
    {
     "output_type": "execute_result",
     "data": {
      "text/plain": [
       "       eid  27174-2.0  27174-3.0  27175-2.0  27175-3.0  27176-2.0  27176-3.0  \\\n",
       "0  1000635      2.786      2.874      2.910      2.852      2.275      2.307   \n",
       "1  1008391      3.191      2.875      3.080      3.037      2.273      2.143   \n",
       "2  1010129      2.329      1.870      2.836      2.798      1.995      1.943   \n",
       "3  1010994      2.785      2.581      2.671      2.603      2.060      1.819   \n",
       "4  1013774      2.963      3.191      2.617      2.856      2.035      2.050   \n",
       "\n",
       "   27177-2.0  27177-3.0  27178-2.0  ...  27293-2.0  27293-3.0  27294-2.0  \\\n",
       "0      3.389      3.379      2.836  ...      2.387      2.435      2.967   \n",
       "1      3.004      2.571      2.846  ...      2.588      2.592      3.073   \n",
       "2      3.302      3.193      2.812  ...      2.376      2.395      3.081   \n",
       "3      3.144      3.225      2.793  ...      2.513      2.416      2.919   \n",
       "4      2.751      3.385      2.830  ...      2.274      2.403      3.041   \n",
       "\n",
       "   27294-3.0  27295-2.0  27295-3.0  27296-2.0  27296-3.0  27297-2.0  27297-3.0  \n",
       "0      2.958      2.707      2.628      2.229      2.142      2.875      2.750  \n",
       "1      2.859      2.839      2.770      3.086      3.322      3.255      3.003  \n",
       "2      3.086      2.993      2.945      3.016      3.032      3.193      3.168  \n",
       "3      2.881      2.654      2.581      2.088      2.161      2.912      2.866  \n",
       "4      3.008      2.635      2.737      2.527      2.696      2.983      3.263  \n",
       "\n",
       "[5 rows x 125 columns]"
      ],
      "text/html": [
       "<div>\n",
       "<style scoped>\n",
       "    .dataframe tbody tr th:only-of-type {\n",
       "        vertical-align: middle;\n",
       "    }\n",
       "\n",
       "    .dataframe tbody tr th {\n",
       "        vertical-align: top;\n",
       "    }\n",
       "\n",
       "    .dataframe thead th {\n",
       "        text-align: right;\n",
       "    }\n",
       "</style>\n",
       "<table border=\"1\" class=\"dataframe\">\n",
       "  <thead>\n",
       "    <tr style=\"text-align: right;\">\n",
       "      <th></th>\n",
       "      <th>eid</th>\n",
       "      <th>27174-2.0</th>\n",
       "      <th>27174-3.0</th>\n",
       "      <th>27175-2.0</th>\n",
       "      <th>27175-3.0</th>\n",
       "      <th>27176-2.0</th>\n",
       "      <th>27176-3.0</th>\n",
       "      <th>27177-2.0</th>\n",
       "      <th>27177-3.0</th>\n",
       "      <th>27178-2.0</th>\n",
       "      <th>...</th>\n",
       "      <th>27293-2.0</th>\n",
       "      <th>27293-3.0</th>\n",
       "      <th>27294-2.0</th>\n",
       "      <th>27294-3.0</th>\n",
       "      <th>27295-2.0</th>\n",
       "      <th>27295-3.0</th>\n",
       "      <th>27296-2.0</th>\n",
       "      <th>27296-3.0</th>\n",
       "      <th>27297-2.0</th>\n",
       "      <th>27297-3.0</th>\n",
       "    </tr>\n",
       "  </thead>\n",
       "  <tbody>\n",
       "    <tr>\n",
       "      <th>0</th>\n",
       "      <td>1000635</td>\n",
       "      <td>2.786</td>\n",
       "      <td>2.874</td>\n",
       "      <td>2.910</td>\n",
       "      <td>2.852</td>\n",
       "      <td>2.275</td>\n",
       "      <td>2.307</td>\n",
       "      <td>3.389</td>\n",
       "      <td>3.379</td>\n",
       "      <td>2.836</td>\n",
       "      <td>...</td>\n",
       "      <td>2.387</td>\n",
       "      <td>2.435</td>\n",
       "      <td>2.967</td>\n",
       "      <td>2.958</td>\n",
       "      <td>2.707</td>\n",
       "      <td>2.628</td>\n",
       "      <td>2.229</td>\n",
       "      <td>2.142</td>\n",
       "      <td>2.875</td>\n",
       "      <td>2.750</td>\n",
       "    </tr>\n",
       "    <tr>\n",
       "      <th>1</th>\n",
       "      <td>1008391</td>\n",
       "      <td>3.191</td>\n",
       "      <td>2.875</td>\n",
       "      <td>3.080</td>\n",
       "      <td>3.037</td>\n",
       "      <td>2.273</td>\n",
       "      <td>2.143</td>\n",
       "      <td>3.004</td>\n",
       "      <td>2.571</td>\n",
       "      <td>2.846</td>\n",
       "      <td>...</td>\n",
       "      <td>2.588</td>\n",
       "      <td>2.592</td>\n",
       "      <td>3.073</td>\n",
       "      <td>2.859</td>\n",
       "      <td>2.839</td>\n",
       "      <td>2.770</td>\n",
       "      <td>3.086</td>\n",
       "      <td>3.322</td>\n",
       "      <td>3.255</td>\n",
       "      <td>3.003</td>\n",
       "    </tr>\n",
       "    <tr>\n",
       "      <th>2</th>\n",
       "      <td>1010129</td>\n",
       "      <td>2.329</td>\n",
       "      <td>1.870</td>\n",
       "      <td>2.836</td>\n",
       "      <td>2.798</td>\n",
       "      <td>1.995</td>\n",
       "      <td>1.943</td>\n",
       "      <td>3.302</td>\n",
       "      <td>3.193</td>\n",
       "      <td>2.812</td>\n",
       "      <td>...</td>\n",
       "      <td>2.376</td>\n",
       "      <td>2.395</td>\n",
       "      <td>3.081</td>\n",
       "      <td>3.086</td>\n",
       "      <td>2.993</td>\n",
       "      <td>2.945</td>\n",
       "      <td>3.016</td>\n",
       "      <td>3.032</td>\n",
       "      <td>3.193</td>\n",
       "      <td>3.168</td>\n",
       "    </tr>\n",
       "    <tr>\n",
       "      <th>3</th>\n",
       "      <td>1010994</td>\n",
       "      <td>2.785</td>\n",
       "      <td>2.581</td>\n",
       "      <td>2.671</td>\n",
       "      <td>2.603</td>\n",
       "      <td>2.060</td>\n",
       "      <td>1.819</td>\n",
       "      <td>3.144</td>\n",
       "      <td>3.225</td>\n",
       "      <td>2.793</td>\n",
       "      <td>...</td>\n",
       "      <td>2.513</td>\n",
       "      <td>2.416</td>\n",
       "      <td>2.919</td>\n",
       "      <td>2.881</td>\n",
       "      <td>2.654</td>\n",
       "      <td>2.581</td>\n",
       "      <td>2.088</td>\n",
       "      <td>2.161</td>\n",
       "      <td>2.912</td>\n",
       "      <td>2.866</td>\n",
       "    </tr>\n",
       "    <tr>\n",
       "      <th>4</th>\n",
       "      <td>1013774</td>\n",
       "      <td>2.963</td>\n",
       "      <td>3.191</td>\n",
       "      <td>2.617</td>\n",
       "      <td>2.856</td>\n",
       "      <td>2.035</td>\n",
       "      <td>2.050</td>\n",
       "      <td>2.751</td>\n",
       "      <td>3.385</td>\n",
       "      <td>2.830</td>\n",
       "      <td>...</td>\n",
       "      <td>2.274</td>\n",
       "      <td>2.403</td>\n",
       "      <td>3.041</td>\n",
       "      <td>3.008</td>\n",
       "      <td>2.635</td>\n",
       "      <td>2.737</td>\n",
       "      <td>2.527</td>\n",
       "      <td>2.696</td>\n",
       "      <td>2.983</td>\n",
       "      <td>3.263</td>\n",
       "    </tr>\n",
       "  </tbody>\n",
       "</table>\n",
       "<p>5 rows × 125 columns</p>\n",
       "</div>"
      ]
     },
     "metadata": {},
     "execution_count": 5
    }
   ],
   "metadata": {}
  },
  {
   "cell_type": "code",
   "execution_count": 6,
   "source": [
    "train_df = pd.read_csv(train_csv)\n",
    "train_eids = train_df[\"eid\"]\n",
    "train_eids_avail = set(train_eids) & set(freesurfer_eids)\n",
    "train_df = pd.merge(train_df, freesurfer_df, on=\"eid\", how=\"inner\")\n",
    "\n",
    "test_df = pd.read_csv(test_csv)\n",
    "test_eids = test_df[\"eid\"]\n",
    "test_eids_avail = set(test_eids) & set(freesurfer_eids)\n",
    "test_df = pd.merge(test_df, freesurfer_df, on=\"eid\", how=\"inner\")\n",
    "\n",
    "print(f\"train samples: {len(train_eids)}, freesurfer data available: {len(train_eids_avail)}, overlap: {len(train_df)}\")\n",
    "print(f\"test samples: {len(test_eids)}, freesurfer data available: {len(test_eids_avail)}, overlap: {len(test_df)}\")"
   ],
   "outputs": [
    {
     "output_type": "stream",
     "name": "stdout",
     "text": [
      "train samples: 2145, freesurfer data available: 1909, overlap: 1909\n",
      "test samples: 1057, freesurfer data available: 958, overlap: 958\n"
     ]
    }
   ],
   "metadata": {}
  },
  {
   "cell_type": "markdown",
   "source": [
    "## Data-loaders"
   ],
   "metadata": {}
  },
  {
   "cell_type": "code",
   "execution_count": 7,
   "source": [
    "# n_samples = 50\n",
    "\n",
    "batch_size = 10\n",
    "transform = \"random_swap\" #only for training\n",
    "\n",
    "# usecols = [\"eid\"] + pheno_cols_ses2 + pheno_cols_ses3\n",
    "\n",
    "# data_df = pd.read_csv(freesurfer_csv, usecols=usecols)\n",
    "\n",
    "train_dataset = UKBB_ROI_Dataset(train_df, pheno_cols_ses2, pheno_cols_ses3, transform=transform)\n",
    "train_dataloader = DataLoader(train_dataset, batch_size=batch_size, shuffle=True)\n",
    "\n",
    "test_dataset = UKBB_ROI_Dataset(test_df, pheno_cols_ses2, pheno_cols_ses3, transform=None)\n",
    "test_dataloader = DataLoader(test_dataset, batch_size=1, shuffle=False)\n",
    "\n",
    "# iter(train_dataloader).next()\n",
    "print(f\"len train dataset: {len(train_dataset)}, test dataset: {len(test_dataset)}\")"
   ],
   "outputs": [
    {
     "output_type": "stream",
     "name": "stdout",
     "text": [
      "len train dataset: 1909, test dataset: 958\n"
     ]
    }
   ],
   "metadata": {}
  },
  {
   "cell_type": "markdown",
   "source": [
    "## CUDA"
   ],
   "metadata": {}
  },
  {
   "cell_type": "code",
   "execution_count": 8,
   "source": [
    "device = torch.device(\"cuda:0\" if torch.cuda.is_available() else \"cpu\")\n",
    "\n",
    "if torch.cuda.is_available():\n",
    "    map_location=lambda storage, loc: storage.cuda()\n",
    "else:\n",
    "    map_location='cpu'"
   ],
   "outputs": [],
   "metadata": {}
  },
  {
   "cell_type": "markdown",
   "source": [
    "## Train model "
   ],
   "metadata": {}
  },
  {
   "cell_type": "code",
   "execution_count": 9,
   "source": [
    "n_epochs = 10\n",
    "input_size = len(pheno_cols_ses2)\n",
    "hidden_size = 10\n",
    "lr = 0.005\n",
    "\n",
    "# model = LSN_FF(input_size,hidden_size=hidden_size)\n",
    "model = LSN_FF_Linear(input_size,hidden_size=hidden_size)\n",
    "\n",
    "model.train()\n",
    "\n",
    "optimizer = torch.optim.Adam(model.parameters(), lr=lr) #optim.SGD(model.parameters(), lr=lr, momentum=0.5)                                                                                               \n",
    "criterion = nn.MSELoss()  #nn.L1Loss() #\n",
    "\n",
    "# using subset of train dataloader for debug\n",
    "model, batch_loss_df, epoch_loss_df, preds_df = train(model,train_dataloader,optimizer,criterion,n_epochs)"
   ],
   "outputs": [
    {
     "output_type": "stream",
     "name": "stdout",
     "text": [
      "Starting epoch 1\n",
      "epoch 0 loss: 0.0160\n",
      "Starting epoch 2\n",
      "epoch 1 loss: 0.0062\n",
      "Starting epoch 3\n",
      "epoch 2 loss: 0.0057\n",
      "Starting epoch 4\n",
      "epoch 3 loss: 0.0056\n",
      "Starting epoch 5\n",
      "epoch 4 loss: 0.0053\n",
      "Starting epoch 6\n",
      "epoch 5 loss: 0.0055\n",
      "Starting epoch 7\n",
      "epoch 6 loss: 0.0055\n",
      "Starting epoch 8\n",
      "epoch 7 loss: 0.0054\n",
      "Starting epoch 9\n",
      "epoch 8 loss: 0.0053\n",
      "Starting epoch 10\n",
      "epoch 9 loss: 0.0053\n",
      "epoch 9 loss: 0.0053\n"
     ]
    }
   ],
   "metadata": {}
  },
  {
   "cell_type": "code",
   "execution_count": 10,
   "source": [
    "\n",
    "plt.plot(epoch_loss_df)\n",
    "epoch_loss_df.head()"
   ],
   "outputs": [
    {
     "output_type": "execute_result",
     "data": {
      "text/plain": [
       "   epoch_loss\n",
       "0    0.016038\n",
       "1    0.006158\n",
       "2    0.005705\n",
       "3    0.005581\n",
       "4    0.005334"
      ],
      "text/html": [
       "<div>\n",
       "<style scoped>\n",
       "    .dataframe tbody tr th:only-of-type {\n",
       "        vertical-align: middle;\n",
       "    }\n",
       "\n",
       "    .dataframe tbody tr th {\n",
       "        vertical-align: top;\n",
       "    }\n",
       "\n",
       "    .dataframe thead th {\n",
       "        text-align: right;\n",
       "    }\n",
       "</style>\n",
       "<table border=\"1\" class=\"dataframe\">\n",
       "  <thead>\n",
       "    <tr style=\"text-align: right;\">\n",
       "      <th></th>\n",
       "      <th>epoch_loss</th>\n",
       "    </tr>\n",
       "  </thead>\n",
       "  <tbody>\n",
       "    <tr>\n",
       "      <th>0</th>\n",
       "      <td>0.016038</td>\n",
       "    </tr>\n",
       "    <tr>\n",
       "      <th>1</th>\n",
       "      <td>0.006158</td>\n",
       "    </tr>\n",
       "    <tr>\n",
       "      <th>2</th>\n",
       "      <td>0.005705</td>\n",
       "    </tr>\n",
       "    <tr>\n",
       "      <th>3</th>\n",
       "      <td>0.005581</td>\n",
       "    </tr>\n",
       "    <tr>\n",
       "      <th>4</th>\n",
       "      <td>0.005334</td>\n",
       "    </tr>\n",
       "  </tbody>\n",
       "</table>\n",
       "</div>"
      ]
     },
     "metadata": {},
     "execution_count": 10
    },
    {
     "output_type": "display_data",
     "data": {
      "text/plain": [
       "<Figure size 432x288 with 1 Axes>"
      ],
      "image/png": "[encoded data removed]"
     },
     "metadata": {
      "needs_background": "light"
     }
    }
   ],
   "metadata": {}
  },
  {
   "cell_type": "markdown",
   "source": [
    "## Test perf"
   ],
   "metadata": {}
  },
  {
   "cell_type": "code",
   "execution_count": 11,
   "source": [
    "\n",
    "test_dataloader = DataLoader(train_dataset, batch_size=1, shuffle=False)\n",
    "\n",
    "eid_list, y_test_list, y_pred_list, test_loss1, test_loss2 = test(model, test_dataloader)\n",
    "y_test = np.squeeze(np.vstack(y_test_list))\n",
    "y_pred = np.squeeze(np.vstack(y_pred_list))\n",
    "\n",
    "test_r1 = stats.pearsonr(y_pred[:,0],y_test[:,0])[0]\n",
    "test_r2 = stats.pearsonr(y_pred[:,1],y_test[:,1])[0]   \n",
    "\n",
    "test_age_1 = y_test[:,0]\n",
    "test_age_2 = y_test[:,1]\n",
    "\n",
    "test_brainage_1 = y_pred[:,0] # for two timepoints y is a matrix\n",
    "test_brainage_2 = y_pred[:,1]                                    \n",
    "\n",
    "df = pd.DataFrame()\n",
    "df[\"eid\"] = eid_list\n",
    "df[\"test_age_1\"] = test_age_1\n",
    "df[\"test_age_2\"] = test_age_2\n",
    "df[\"test_brainage_1\"] = test_brainage_1\n",
    "df[\"test_brainage_2\"] = test_brainage_2\n",
    "df[\"test_loss1\"] = test_loss1                    \n",
    "df[\"test_loss2\"] = test_loss2\n",
    "df[\"test_r1\"] = test_r1\n",
    "df[\"test_r2\"] = test_r2\n",
    "\n",
    "# Test loss is L1 not MSE\n",
    "test_loss = df[\"test_loss1\"].mean()\n",
    "print(f\"test_loss: {test_loss}\")"
   ],
   "outputs": [
    {
     "output_type": "stream",
     "name": "stdout",
     "text": [
      "test_loss: 5.908695948317514\n"
     ]
    }
   ],
   "metadata": {}
  },
  {
   "cell_type": "code",
   "execution_count": 12,
   "source": [
    "df"
   ],
   "outputs": [
    {
     "output_type": "execute_result",
     "data": {
      "text/plain": [
       "            eid  test_age_1  test_age_2  test_brainage_1  test_brainage_2  \\\n",
       "0     [4480975]   55.000000   58.000000        63.629276        65.631470   \n",
       "1     [2143397]   58.000000   60.000004        63.318913        65.405525   \n",
       "2     [5536763]   55.000000   57.000000        62.678539        64.713982   \n",
       "3     [5908628]   75.000000   77.000000        64.130455        66.301193   \n",
       "4     [2483372]   58.000000   60.000004        63.655045        65.613533   \n",
       "...         ...         ...         ...              ...              ...   \n",
       "1904  [2936817]   52.999996   55.000000        64.126030        66.278580   \n",
       "1905  [1564835]   50.000000   52.000000        63.779892        65.517387   \n",
       "1906  [4311743]   58.000000   60.000004        63.185322        65.186600   \n",
       "1907  [1428093]   69.000000   71.000000        62.610703        64.990631   \n",
       "1908  [5469497]   71.000000   74.000000        62.887108        64.905670   \n",
       "\n",
       "      test_loss1  test_loss2   test_r1   test_r2  \n",
       "0       8.629276    7.631470  0.357923  0.405303  \n",
       "1       5.318913    5.405521  0.357923  0.405303  \n",
       "2       7.678539    7.713982  0.357923  0.405303  \n",
       "3      10.869545   10.698807  0.357923  0.405303  \n",
       "4       5.655045    5.613529  0.357923  0.405303  \n",
       "...          ...         ...       ...       ...  \n",
       "1904   11.126034   11.278580  0.357923  0.405303  \n",
       "1905   13.779892   13.517387  0.357923  0.405303  \n",
       "1906    5.185322    5.186596  0.357923  0.405303  \n",
       "1907    6.389297    6.009369  0.357923  0.405303  \n",
       "1908    8.112892    9.094330  0.357923  0.405303  \n",
       "\n",
       "[1909 rows x 9 columns]"
      ],
      "text/html": [
       "<div>\n",
       "<style scoped>\n",
       "    .dataframe tbody tr th:only-of-type {\n",
       "        vertical-align: middle;\n",
       "    }\n",
       "\n",
       "    .dataframe tbody tr th {\n",
       "        vertical-align: top;\n",
       "    }\n",
       "\n",
       "    .dataframe thead th {\n",
       "        text-align: right;\n",
       "    }\n",
       "</style>\n",
       "<table border=\"1\" class=\"dataframe\">\n",
       "  <thead>\n",
       "    <tr style=\"text-align: right;\">\n",
       "      <th></th>\n",
       "      <th>eid</th>\n",
       "      <th>test_age_1</th>\n",
       "      <th>test_age_2</th>\n",
       "      <th>test_brainage_1</th>\n",
       "      <th>test_brainage_2</th>\n",
       "      <th>test_loss1</th>\n",
       "      <th>test_loss2</th>\n",
       "      <th>test_r1</th>\n",
       "      <th>test_r2</th>\n",
       "    </tr>\n",
       "  </thead>\n",
       "  <tbody>\n",
       "    <tr>\n",
       "      <th>0</th>\n",
       "      <td>[4480975]</td>\n",
       "      <td>55.000000</td>\n",
       "      <td>58.000000</td>\n",
       "      <td>63.629276</td>\n",
       "      <td>65.631470</td>\n",
       "      <td>8.629276</td>\n",
       "      <td>7.631470</td>\n",
       "      <td>0.357923</td>\n",
       "      <td>0.405303</td>\n",
       "    </tr>\n",
       "    <tr>\n",
       "      <th>1</th>\n",
       "      <td>[2143397]</td>\n",
       "      <td>58.000000</td>\n",
       "      <td>60.000004</td>\n",
       "      <td>63.318913</td>\n",
       "      <td>65.405525</td>\n",
       "      <td>5.318913</td>\n",
       "      <td>5.405521</td>\n",
       "      <td>0.357923</td>\n",
       "      <td>0.405303</td>\n",
       "    </tr>\n",
       "    <tr>\n",
       "      <th>2</th>\n",
       "      <td>[5536763]</td>\n",
       "      <td>55.000000</td>\n",
       "      <td>57.000000</td>\n",
       "      <td>62.678539</td>\n",
       "      <td>64.713982</td>\n",
       "      <td>7.678539</td>\n",
       "      <td>7.713982</td>\n",
       "      <td>0.357923</td>\n",
       "      <td>0.405303</td>\n",
       "    </tr>\n",
       "    <tr>\n",
       "      <th>3</th>\n",
       "      <td>[5908628]</td>\n",
       "      <td>75.000000</td>\n",
       "      <td>77.000000</td>\n",
       "      <td>64.130455</td>\n",
       "      <td>66.301193</td>\n",
       "      <td>10.869545</td>\n",
       "      <td>10.698807</td>\n",
       "      <td>0.357923</td>\n",
       "      <td>0.405303</td>\n",
       "    </tr>\n",
       "    <tr>\n",
       "      <th>4</th>\n",
       "      <td>[2483372]</td>\n",
       "      <td>58.000000</td>\n",
       "      <td>60.000004</td>\n",
       "      <td>63.655045</td>\n",
       "      <td>65.613533</td>\n",
       "      <td>5.655045</td>\n",
       "      <td>5.613529</td>\n",
       "      <td>0.357923</td>\n",
       "      <td>0.405303</td>\n",
       "    </tr>\n",
       "    <tr>\n",
       "      <th>...</th>\n",
       "      <td>...</td>\n",
       "      <td>...</td>\n",
       "      <td>...</td>\n",
       "      <td>...</td>\n",
       "      <td>...</td>\n",
       "      <td>...</td>\n",
       "      <td>...</td>\n",
       "      <td>...</td>\n",
       "      <td>...</td>\n",
       "    </tr>\n",
       "    <tr>\n",
       "      <th>1904</th>\n",
       "      <td>[2936817]</td>\n",
       "      <td>52.999996</td>\n",
       "      <td>55.000000</td>\n",
       "      <td>64.126030</td>\n",
       "      <td>66.278580</td>\n",
       "      <td>11.126034</td>\n",
       "      <td>11.278580</td>\n",
       "      <td>0.357923</td>\n",
       "      <td>0.405303</td>\n",
       "    </tr>\n",
       "    <tr>\n",
       "      <th>1905</th>\n",
       "      <td>[1564835]</td>\n",
       "      <td>50.000000</td>\n",
       "      <td>52.000000</td>\n",
       "      <td>63.779892</td>\n",
       "      <td>65.517387</td>\n",
       "      <td>13.779892</td>\n",
       "      <td>13.517387</td>\n",
       "      <td>0.357923</td>\n",
       "      <td>0.405303</td>\n",
       "    </tr>\n",
       "    <tr>\n",
       "      <th>1906</th>\n",
       "      <td>[4311743]</td>\n",
       "      <td>58.000000</td>\n",
       "      <td>60.000004</td>\n",
       "      <td>63.185322</td>\n",
       "      <td>65.186600</td>\n",
       "      <td>5.185322</td>\n",
       "      <td>5.186596</td>\n",
       "      <td>0.357923</td>\n",
       "      <td>0.405303</td>\n",
       "    </tr>\n",
       "    <tr>\n",
       "      <th>1907</th>\n",
       "      <td>[1428093]</td>\n",
       "      <td>69.000000</td>\n",
       "      <td>71.000000</td>\n",
       "      <td>62.610703</td>\n",
       "      <td>64.990631</td>\n",
       "      <td>6.389297</td>\n",
       "      <td>6.009369</td>\n",
       "      <td>0.357923</td>\n",
       "      <td>0.405303</td>\n",
       "    </tr>\n",
       "    <tr>\n",
       "      <th>1908</th>\n",
       "      <td>[5469497]</td>\n",
       "      <td>71.000000</td>\n",
       "      <td>74.000000</td>\n",
       "      <td>62.887108</td>\n",
       "      <td>64.905670</td>\n",
       "      <td>8.112892</td>\n",
       "      <td>9.094330</td>\n",
       "      <td>0.357923</td>\n",
       "      <td>0.405303</td>\n",
       "    </tr>\n",
       "  </tbody>\n",
       "</table>\n",
       "<p>1909 rows × 9 columns</p>\n",
       "</div>"
      ]
     },
     "metadata": {},
     "execution_count": 12
    }
   ],
   "metadata": {}
  },
  {
   "cell_type": "markdown",
   "source": [
    "## Generate configs for CC runs"
   ],
   "metadata": {}
  },
  {
   "cell_type": "code",
   "execution_count": null,
   "source": [
    "config_df = pd.DataFrame(columns=[\"hidden_size\",\"transform\",\"phenotype\"])\n",
    "hidden_size_list = [10,50,100]\n",
    "transform_list = [None, \"random_swap\"]\n",
    "phenotype_list = [\"CT\"] #,\"volume\",\"both\"\n",
    "\n",
    "i = 0\n",
    "for hidden_size in hidden_size_list:\n",
    "    for transform in transform_list:\n",
    "        for phenotype in phenotype_list:\n",
    "            config_df.loc[i] = [hidden_size,transform,phenotype]\n",
    "            i += 1\n",
    "\n",
    "print(config_df.shape)\n",
    "config_df"
   ],
   "outputs": [],
   "metadata": {}
  },
  {
   "cell_type": "code",
   "execution_count": null,
   "source": [
    "# run_id = \"run_1\"\n",
    "# config_path = f\"../results/LSN_roi/configs/config_{run_id}.csv\"\n",
    "# config_df.to_csv(config_path)"
   ],
   "outputs": [],
   "metadata": {}
  },
  {
   "cell_type": "markdown",
   "source": [
    "## Plot batch runs"
   ],
   "metadata": {}
  },
  {
   "cell_type": "code",
   "execution_count": 16,
   "source": [
    "def collate_results(file_prefix, config_id_list):\n",
    "    results_df = pd.DataFrame()\n",
    "    for config_id in config_id_list:\n",
    "        results_csv = f\"{file_prefix}_{config_id}.csv\"\n",
    "        _df = pd.read_csv(results_csv)\n",
    "        _df[\"config_id\"] = config_id\n",
    "        results_df = results_df.append(_df)\n",
    "\n",
    "    return results_df\n"
   ],
   "outputs": [],
   "metadata": {}
  },
  {
   "cell_type": "code",
   "execution_count": 17,
   "source": [
    "run_id = \"run_3\"\n",
    "config_id_list = np.arange(6)\n",
    "\n",
    "loss_csv = f\"../results/LSN_roi/{run_id}/freesurfer_train_loss_config\"\n",
    "perf_csv = f\"../results/LSN_roi/{run_id}/freesurfer_perf_config\"\n",
    "\n",
    "loss_df = collate_results(loss_csv, config_id_list)\n",
    "perf_df = collate_results(perf_csv, config_id_list)\n",
    "\n",
    "loss_df = loss_df.rename(columns={\"Unnamed: 0\":\"epoch\"})\n",
    "\n",
    "perf_df.head()"
   ],
   "outputs": [
    {
     "output_type": "execute_result",
     "data": {
      "text/plain": [
       "   Unnamed: 0      eid  age_at_ses2  age_at_ses3  brainage_at_ses2  \\\n",
       "0           0  4071544         66.0    68.000000         63.994347   \n",
       "1           1  6005293         61.0    63.000000         62.105793   \n",
       "2           2  5739520         61.0    63.000000         61.967766   \n",
       "3           3  1308382         51.0    52.999996         60.163765   \n",
       "4           4  2991501         58.0    60.000004         55.407970   \n",
       "\n",
       "   brainage_at_ses3  test_loss1  test_loss2   test_r1   test_r2 visit_order  \\\n",
       "0         66.140640    2.005653    1.859360  0.527687  0.525679         B,F   \n",
       "1         64.134090    1.105793    1.134087  0.527687  0.525679         B,F   \n",
       "2         64.306435    0.967766    1.306435  0.527687  0.525679         B,F   \n",
       "3         62.425680    9.163765    9.425682  0.527687  0.525679         B,F   \n",
       "4         57.766140    2.592030    2.233864  0.527687  0.525679         B,F   \n",
       "\n",
       "   config_id  \n",
       "0          0  \n",
       "1          0  \n",
       "2          0  \n",
       "3          0  \n",
       "4          0  "
      ],
      "text/html": [
       "<div>\n",
       "<style scoped>\n",
       "    .dataframe tbody tr th:only-of-type {\n",
       "        vertical-align: middle;\n",
       "    }\n",
       "\n",
       "    .dataframe tbody tr th {\n",
       "        vertical-align: top;\n",
       "    }\n",
       "\n",
       "    .dataframe thead th {\n",
       "        text-align: right;\n",
       "    }\n",
       "</style>\n",
       "<table border=\"1\" class=\"dataframe\">\n",
       "  <thead>\n",
       "    <tr style=\"text-align: right;\">\n",
       "      <th></th>\n",
       "      <th>Unnamed: 0</th>\n",
       "      <th>eid</th>\n",
       "      <th>age_at_ses2</th>\n",
       "      <th>age_at_ses3</th>\n",
       "      <th>brainage_at_ses2</th>\n",
       "      <th>brainage_at_ses3</th>\n",
       "      <th>test_loss1</th>\n",
       "      <th>test_loss2</th>\n",
       "      <th>test_r1</th>\n",
       "      <th>test_r2</th>\n",
       "      <th>visit_order</th>\n",
       "      <th>config_id</th>\n",
       "    </tr>\n",
       "  </thead>\n",
       "  <tbody>\n",
       "    <tr>\n",
       "      <th>0</th>\n",
       "      <td>0</td>\n",
       "      <td>4071544</td>\n",
       "      <td>66.0</td>\n",
       "      <td>68.000000</td>\n",
       "      <td>63.994347</td>\n",
       "      <td>66.140640</td>\n",
       "      <td>2.005653</td>\n",
       "      <td>1.859360</td>\n",
       "      <td>0.527687</td>\n",
       "      <td>0.525679</td>\n",
       "      <td>B,F</td>\n",
       "      <td>0</td>\n",
       "    </tr>\n",
       "    <tr>\n",
       "      <th>1</th>\n",
       "      <td>1</td>\n",
       "      <td>6005293</td>\n",
       "      <td>61.0</td>\n",
       "      <td>63.000000</td>\n",
       "      <td>62.105793</td>\n",
       "      <td>64.134090</td>\n",
       "      <td>1.105793</td>\n",
       "      <td>1.134087</td>\n",
       "      <td>0.527687</td>\n",
       "      <td>0.525679</td>\n",
       "      <td>B,F</td>\n",
       "      <td>0</td>\n",
       "    </tr>\n",
       "    <tr>\n",
       "      <th>2</th>\n",
       "      <td>2</td>\n",
       "      <td>5739520</td>\n",
       "      <td>61.0</td>\n",
       "      <td>63.000000</td>\n",
       "      <td>61.967766</td>\n",
       "      <td>64.306435</td>\n",
       "      <td>0.967766</td>\n",
       "      <td>1.306435</td>\n",
       "      <td>0.527687</td>\n",
       "      <td>0.525679</td>\n",
       "      <td>B,F</td>\n",
       "      <td>0</td>\n",
       "    </tr>\n",
       "    <tr>\n",
       "      <th>3</th>\n",
       "      <td>3</td>\n",
       "      <td>1308382</td>\n",
       "      <td>51.0</td>\n",
       "      <td>52.999996</td>\n",
       "      <td>60.163765</td>\n",
       "      <td>62.425680</td>\n",
       "      <td>9.163765</td>\n",
       "      <td>9.425682</td>\n",
       "      <td>0.527687</td>\n",
       "      <td>0.525679</td>\n",
       "      <td>B,F</td>\n",
       "      <td>0</td>\n",
       "    </tr>\n",
       "    <tr>\n",
       "      <th>4</th>\n",
       "      <td>4</td>\n",
       "      <td>2991501</td>\n",
       "      <td>58.0</td>\n",
       "      <td>60.000004</td>\n",
       "      <td>55.407970</td>\n",
       "      <td>57.766140</td>\n",
       "      <td>2.592030</td>\n",
       "      <td>2.233864</td>\n",
       "      <td>0.527687</td>\n",
       "      <td>0.525679</td>\n",
       "      <td>B,F</td>\n",
       "      <td>0</td>\n",
       "    </tr>\n",
       "  </tbody>\n",
       "</table>\n",
       "</div>"
      ]
     },
     "metadata": {},
     "execution_count": 17
    }
   ],
   "metadata": {}
  },
  {
   "cell_type": "markdown",
   "source": [
    "## Plot learning curves"
   ],
   "metadata": {}
  },
  {
   "cell_type": "code",
   "execution_count": 18,
   "source": [
    "g = sns.lineplot(x=\"epoch\", y=\"epoch_loss\", data=loss_df, hue=\"config_id\", palette=\"Set1\")"
   ],
   "outputs": [
    {
     "output_type": "display_data",
     "data": {
      "text/plain": [
       "<Figure size 432x288 with 1 Axes>"
      ],
      "image/png": "[encoded data removed]"
     },
     "metadata": {
      "needs_background": "light"
     }
    }
   ],
   "metadata": {}
  },
  {
   "cell_type": "markdown",
   "source": [
    "## Plot prediction perf"
   ],
   "metadata": {}
  },
  {
   "cell_type": "code",
   "execution_count": 19,
   "source": [
    "plot_df = perf_df.copy()\n",
    "plot_df[\"test_loss\"] = 0.5 * (plot_df[\"test_loss1\"] + plot_df[\"test_loss2\"])\n",
    "\n",
    "print(plot_df.groupby([\"config_id\", \"visit_order\"]).mean()[\"test_loss\"])\n",
    "\n",
    "sns.set(font_scale=2)\n",
    "with sns.axes_style(\"whitegrid\"):\n",
    "    g = sns.catplot(y=\"test_loss\",x=\"config_id\",hue=\"visit_order\", height=3, aspect=3, kind=\"point\", \n",
    "                    sharey=False, data=plot_df)"
   ],
   "outputs": [
    {
     "output_type": "stream",
     "name": "stdout",
     "text": [
      "config_id  visit_order\n",
      "0          B,F            5.213407\n",
      "           F,B            5.834642\n",
      "1          B,F            5.281069\n",
      "           F,B            5.308126\n",
      "2          B,F            5.174167\n",
      "           F,B            5.808204\n",
      "3          B,F            5.043404\n",
      "           F,B            5.118056\n",
      "4          B,F            6.562731\n",
      "           F,B            6.932990\n",
      "5          B,F            5.582094\n",
      "           F,B            5.653630\n",
      "Name: test_loss, dtype: float64\n"
     ]
    },
    {
     "output_type": "display_data",
     "data": {
      "text/plain": [
       "<Figure size 776.35x216 with 1 Axes>"
      ],
      "image/png": "[encoded data removed]"
     },
     "metadata": {}
    }
   ],
   "metadata": {}
  },
  {
   "cell_type": "code",
   "execution_count": 20,
   "source": [
    "best_configs = [2,3]\n",
    "plot_df = plot_df[plot_df[\"config_id\"].isin(best_configs)]\n",
    "\n",
    "sns.set(font_scale=2)\n",
    "with sns.axes_style(\"whitegrid\"):\n",
    "    g = sns.catplot(y=\"test_loss\",x=\"config_id\",hue=\"visit_order\", height=3, aspect=3, kind=\"box\", \n",
    "                    sharey=False, data=plot_df)"
   ],
   "outputs": [
    {
     "output_type": "display_data",
     "data": {
      "text/plain": [
       "<Figure size 776.35x216 with 1 Axes>"
      ],
      "image/png": "[encoded data removed]"
     },
     "metadata": {}
    }
   ],
   "metadata": {}
  },
  {
   "cell_type": "code",
   "execution_count": 21,
   "source": [
    "# config 0: no data_aug, config 1: data aug\n",
    "perf_df = perf_df[(perf_df[\"config_id\"].isin(best_configs)) & (perf_df[\"visit_order\"]==\"B,F\")].copy()\n",
    "perf_df.loc[perf_df[\"config_id\"]==best_configs[0], \"data_aug\"] = False\n",
    "perf_df.loc[perf_df[\"config_id\"]==best_configs[1], \"data_aug\"] = True\n",
    "\n",
    "perf_df[\"model\"] = \"LSN\"\n",
    "perf_df[\"baseline_err\"] = perf_df[\"brainage_at_ses2\"] - perf_df[\"age_at_ses2\"]\n",
    "perf_df[\"followup_err\"] = perf_df[\"brainage_at_ses3\"] - perf_df[\"age_at_ses3\"]\n",
    "perf_df[\"brainage_delta\"] = perf_df[\"brainage_at_ses3\"] - perf_df[\"brainage_at_ses2\"]\n",
    "perf_df[\"chronoage_delta\"] = perf_df[\"age_at_ses3\"] - perf_df[\"age_at_ses2\"]\n",
    "\n",
    "perf_df[\"delta_err\"] = perf_df[\"brainage_delta\"] - perf_df[\"chronoage_delta\"]\n",
    "\n",
    "perf_df[\"Benjamin_Button\"] = perf_df[\"brainage_at_ses3\"] < perf_df[\"brainage_at_ses2\"]\n",
    "\n",
    "n_BBs = perf_df[\"Benjamin_Button\"].sum()\n",
    "print(f\"n BBs: {n_BBs} ({100*n_BBs/len(plot_df):4.3f}%)\")\n",
    "\n",
    "perf_df_melt = perf_df.melt(id_vars=[\"eid\", \"model\", \"data_aug\", \"visit_order\", \"age_at_ses2\", \"brainage_at_ses2\", \"age_at_ses3\", \"brainage_at_ses3\", \"chronoage_delta\", \"brainage_delta\"], \n",
    "              value_vars=['baseline_err', 'followup_err', 'delta_err'],\n",
    "              var_name='err_type', value_name='error')\n",
    "\n",
    "perf_df.head()"
   ],
   "outputs": [
    {
     "output_type": "stream",
     "name": "stdout",
     "text": [
      "n BBs: 150 (3.914%)\n"
     ]
    },
    {
     "output_type": "execute_result",
     "data": {
      "text/plain": [
       "   Unnamed: 0      eid  age_at_ses2  age_at_ses3  brainage_at_ses2  \\\n",
       "0           0  4071544         66.0    68.000000         65.073430   \n",
       "1           1  6005293         61.0    63.000000         61.515106   \n",
       "2           2  5739520         61.0    63.000000         62.135940   \n",
       "3           3  1308382         51.0    52.999996         59.930058   \n",
       "4           4  2991501         58.0    60.000004         55.315720   \n",
       "\n",
       "   brainage_at_ses3  test_loss1  test_loss2   test_r1   test_r2 visit_order  \\\n",
       "0         67.391680    0.926567    0.608322  0.533192  0.530965         B,F   \n",
       "1         63.933628    0.515106    0.933628  0.533192  0.530965         B,F   \n",
       "2         64.490720    1.135941    1.490723  0.533192  0.530965         B,F   \n",
       "3         62.508900    8.930058    9.508904  0.533192  0.530965         B,F   \n",
       "4         58.173706    2.684280    1.826298  0.533192  0.530965         B,F   \n",
       "\n",
       "   config_id data_aug model  baseline_err  followup_err  brainage_delta  \\\n",
       "0          2    False   LSN     -0.926570     -0.608320        2.318250   \n",
       "1          2    False   LSN      0.515106      0.933628        2.418522   \n",
       "2          2    False   LSN      1.135940      1.490720        2.354780   \n",
       "3          2    False   LSN      8.930058      9.508904        2.578842   \n",
       "4          2    False   LSN     -2.684280     -1.826298        2.857986   \n",
       "\n",
       "   chronoage_delta  delta_err  Benjamin_Button  \n",
       "0         2.000000   0.318250            False  \n",
       "1         2.000000   0.418522            False  \n",
       "2         2.000000   0.354780            False  \n",
       "3         1.999996   0.578846            False  \n",
       "4         2.000004   0.857982            False  "
      ],
      "text/html": [
       "<div>\n",
       "<style scoped>\n",
       "    .dataframe tbody tr th:only-of-type {\n",
       "        vertical-align: middle;\n",
       "    }\n",
       "\n",
       "    .dataframe tbody tr th {\n",
       "        vertical-align: top;\n",
       "    }\n",
       "\n",
       "    .dataframe thead th {\n",
       "        text-align: right;\n",
       "    }\n",
       "</style>\n",
       "<table border=\"1\" class=\"dataframe\">\n",
       "  <thead>\n",
       "    <tr style=\"text-align: right;\">\n",
       "      <th></th>\n",
       "      <th>Unnamed: 0</th>\n",
       "      <th>eid</th>\n",
       "      <th>age_at_ses2</th>\n",
       "      <th>age_at_ses3</th>\n",
       "      <th>brainage_at_ses2</th>\n",
       "      <th>brainage_at_ses3</th>\n",
       "      <th>test_loss1</th>\n",
       "      <th>test_loss2</th>\n",
       "      <th>test_r1</th>\n",
       "      <th>test_r2</th>\n",
       "      <th>visit_order</th>\n",
       "      <th>config_id</th>\n",
       "      <th>data_aug</th>\n",
       "      <th>model</th>\n",
       "      <th>baseline_err</th>\n",
       "      <th>followup_err</th>\n",
       "      <th>brainage_delta</th>\n",
       "      <th>chronoage_delta</th>\n",
       "      <th>delta_err</th>\n",
       "      <th>Benjamin_Button</th>\n",
       "    </tr>\n",
       "  </thead>\n",
       "  <tbody>\n",
       "    <tr>\n",
       "      <th>0</th>\n",
       "      <td>0</td>\n",
       "      <td>4071544</td>\n",
       "      <td>66.0</td>\n",
       "      <td>68.000000</td>\n",
       "      <td>65.073430</td>\n",
       "      <td>67.391680</td>\n",
       "      <td>0.926567</td>\n",
       "      <td>0.608322</td>\n",
       "      <td>0.533192</td>\n",
       "      <td>0.530965</td>\n",
       "      <td>B,F</td>\n",
       "      <td>2</td>\n",
       "      <td>False</td>\n",
       "      <td>LSN</td>\n",
       "      <td>-0.926570</td>\n",
       "      <td>-0.608320</td>\n",
       "      <td>2.318250</td>\n",
       "      <td>2.000000</td>\n",
       "      <td>0.318250</td>\n",
       "      <td>False</td>\n",
       "    </tr>\n",
       "    <tr>\n",
       "      <th>1</th>\n",
       "      <td>1</td>\n",
       "      <td>6005293</td>\n",
       "      <td>61.0</td>\n",
       "      <td>63.000000</td>\n",
       "      <td>61.515106</td>\n",
       "      <td>63.933628</td>\n",
       "      <td>0.515106</td>\n",
       "      <td>0.933628</td>\n",
       "      <td>0.533192</td>\n",
       "      <td>0.530965</td>\n",
       "      <td>B,F</td>\n",
       "      <td>2</td>\n",
       "      <td>False</td>\n",
       "      <td>LSN</td>\n",
       "      <td>0.515106</td>\n",
       "      <td>0.933628</td>\n",
       "      <td>2.418522</td>\n",
       "      <td>2.000000</td>\n",
       "      <td>0.418522</td>\n",
       "      <td>False</td>\n",
       "    </tr>\n",
       "    <tr>\n",
       "      <th>2</th>\n",
       "      <td>2</td>\n",
       "      <td>5739520</td>\n",
       "      <td>61.0</td>\n",
       "      <td>63.000000</td>\n",
       "      <td>62.135940</td>\n",
       "      <td>64.490720</td>\n",
       "      <td>1.135941</td>\n",
       "      <td>1.490723</td>\n",
       "      <td>0.533192</td>\n",
       "      <td>0.530965</td>\n",
       "      <td>B,F</td>\n",
       "      <td>2</td>\n",
       "      <td>False</td>\n",
       "      <td>LSN</td>\n",
       "      <td>1.135940</td>\n",
       "      <td>1.490720</td>\n",
       "      <td>2.354780</td>\n",
       "      <td>2.000000</td>\n",
       "      <td>0.354780</td>\n",
       "      <td>False</td>\n",
       "    </tr>\n",
       "    <tr>\n",
       "      <th>3</th>\n",
       "      <td>3</td>\n",
       "      <td>1308382</td>\n",
       "      <td>51.0</td>\n",
       "      <td>52.999996</td>\n",
       "      <td>59.930058</td>\n",
       "      <td>62.508900</td>\n",
       "      <td>8.930058</td>\n",
       "      <td>9.508904</td>\n",
       "      <td>0.533192</td>\n",
       "      <td>0.530965</td>\n",
       "      <td>B,F</td>\n",
       "      <td>2</td>\n",
       "      <td>False</td>\n",
       "      <td>LSN</td>\n",
       "      <td>8.930058</td>\n",
       "      <td>9.508904</td>\n",
       "      <td>2.578842</td>\n",
       "      <td>1.999996</td>\n",
       "      <td>0.578846</td>\n",
       "      <td>False</td>\n",
       "    </tr>\n",
       "    <tr>\n",
       "      <th>4</th>\n",
       "      <td>4</td>\n",
       "      <td>2991501</td>\n",
       "      <td>58.0</td>\n",
       "      <td>60.000004</td>\n",
       "      <td>55.315720</td>\n",
       "      <td>58.173706</td>\n",
       "      <td>2.684280</td>\n",
       "      <td>1.826298</td>\n",
       "      <td>0.533192</td>\n",
       "      <td>0.530965</td>\n",
       "      <td>B,F</td>\n",
       "      <td>2</td>\n",
       "      <td>False</td>\n",
       "      <td>LSN</td>\n",
       "      <td>-2.684280</td>\n",
       "      <td>-1.826298</td>\n",
       "      <td>2.857986</td>\n",
       "      <td>2.000004</td>\n",
       "      <td>0.857982</td>\n",
       "      <td>False</td>\n",
       "    </tr>\n",
       "  </tbody>\n",
       "</table>\n",
       "</div>"
      ]
     },
     "metadata": {},
     "execution_count": 21
    }
   ],
   "metadata": {}
  },
  {
   "cell_type": "code",
   "execution_count": 22,
   "source": [
    "plot_df = perf_df_melt.copy()\n",
    "\n",
    "plot_df[\"abs_error\"] = np.abs(plot_df[\"error\"]) \n",
    "\n",
    "print(plot_df.groupby([\"err_type\",\"data_aug\"]).mean()[\"abs_error\"])\n",
    "\n",
    "sns.set(font_scale=2)\n",
    "with sns.axes_style(\"whitegrid\"):\n",
    "    g = sns.catplot(x=\"err_type\",y=\"abs_error\", hue=\"data_aug\", kind=\"bar\", data=plot_df,aspect=2)"
   ],
   "outputs": [
    {
     "output_type": "stream",
     "name": "stdout",
     "text": [
      "err_type      data_aug\n",
      "baseline_err  False       5.192908\n",
      "              True        5.018465\n",
      "delta_err     False       0.541286\n",
      "              True        1.735667\n",
      "followup_err  False       5.155427\n",
      "              True        5.068343\n",
      "Name: abs_error, dtype: float64\n"
     ]
    },
    {
     "output_type": "display_data",
     "data": {
      "text/plain": [
       "<Figure size 852.7x360 with 1 Axes>"
      ],
      "image/png": "[encoded data removed]"
     },
     "metadata": {}
    }
   ],
   "metadata": {}
  },
  {
   "cell_type": "code",
   "execution_count": 23,
   "source": [
    "save_summary_results = False\n",
    "if save_summary_results:\n",
    "    perf_df_melt.to_csv(f\"{summary_results_dir}LSN_model_two_visit_train_two_visit_subset_test_two_visit_subset.csv\")"
   ],
   "outputs": [],
   "metadata": {}
  },
  {
   "cell_type": "markdown",
   "source": [
    "## Legacy plots"
   ],
   "metadata": {}
  },
  {
   "cell_type": "code",
   "execution_count": null,
   "source": [
    "plot_df = perf_df.copy()\n",
    "plot_df = plot_df[plot_df[\"config_id\"].isin([2,3])]\n",
    "\n",
    "plot_df[\"test_MAE\"] = 0.5 * (plot_df[\"test_MAE1\"] + plot_df[\"test_MAE1\"])\n",
    "plot_df[\"brainage_diff\"] = plot_df[\"test_brainage_2\"] - plot_df[\"test_brainage_1\"]\n",
    "plot_df[\"chronoage_diff\"] = plot_df[\"test_age_2\"] - plot_df[\"test_age_1\"]\n",
    "\n",
    "with sns.axes_style(\"whitegrid\"):\n",
    "    fig, ax = plt.subplots(figsize=(20,10))\n",
    "    g = sns.scatterplot(x=\"eid\",y=\"brainage_diff\",hue=\"visit_order\", style=\"config_id\",data=plot_df, ax=ax)"
   ],
   "outputs": [],
   "metadata": {}
  },
  {
   "cell_type": "code",
   "execution_count": null,
   "source": [
    "plot_df1 = plot_df[plot_df[\"visit_order\"]==\"B,F\"][[\"eid\",\"config_id\",\"brainage_diff\"]]\n",
    "plot_df2 = plot_df[plot_df[\"visit_order\"]==\"F,B\"][[\"eid\",\"config_id\",\"brainage_diff\"]]\n",
    "plot_df_long = pd.merge(plot_df1,plot_df2,on=[\"eid\",\"config_id\"])\n",
    "plot_df_long = plot_df_long.rename(columns={\"brainage_diff_x\":\"brainage_diff for B,F\", \"brainage_diff_y\":\"brainage_diff for F,B\"})\n",
    "\n",
    "with sns.axes_style(\"whitegrid\"):\n",
    "    g = sns.jointplot(x=\"brainage_diff for B,F\", y=\"brainage_diff for F,B\", hue=\"config_id\", data=plot_df_long)"
   ],
   "outputs": [],
   "metadata": {}
  },
  {
   "cell_type": "markdown",
   "source": [
    "# Vector similarity"
   ],
   "metadata": {}
  },
  {
   "cell_type": "code",
   "execution_count": null,
   "source": [
    "perf_df.head()"
   ],
   "outputs": [],
   "metadata": {}
  },
  {
   "cell_type": "code",
   "execution_count": null,
   "source": [
    "from sklearn.metrics.pairwise import cosine_similarity\n",
    "from scipy.spatial import distance\n",
    "\n",
    "chrno_age = perf_df[[\"test_age_1\",\"test_age_2\"]].values\n",
    "brain_age = perf_df[[\"test_brainage_1\",\"test_brainage_2\"]].values\n",
    "\n",
    "sim_list = []\n",
    "for i in range(len(chrno_age)):\n",
    "    cos_sim = 1 - distance.cosine(chrno_age[i],brain_age[i])\n",
    "    sim_list.append(cos_sim)"
   ],
   "outputs": [],
   "metadata": {}
  },
  {
   "cell_type": "code",
   "execution_count": null,
   "source": [
    "plot_df = perf_df.copy()\n",
    "plot_df[\"cosine_sim\"] = sim_list\n",
    "\n",
    "sns.set(font_scale=2)\n",
    "with sns.axes_style(\"whitegrid\"):\n",
    "    g = sns.catplot(y=\"cosine_sim\",x=\"config_id\",hue=\"visit_order\", height=3, aspect=3, kind=\"point\", \n",
    "                    sharey=False, data=plot_df)"
   ],
   "outputs": [],
   "metadata": {}
  },
  {
   "cell_type": "code",
   "execution_count": null,
   "source": [
    "sns.set(font_scale=2)\n",
    "with sns.axes_style(\"whitegrid\"):\n",
    "    g = sns.catplot(y=\"cosine_sim\",x=\"config_id\",hue=\"visit_order\", height=3, aspect=3, kind=\"box\", \n",
    "                    sharey=False, data=plot_df)"
   ],
   "outputs": [],
   "metadata": {}
  },
  {
   "cell_type": "code",
   "execution_count": null,
   "source": [],
   "outputs": [],
   "metadata": {}
  }
 ],
 "metadata": {
  "orig_nbformat": 4,
  "language_info": {
   "name": "python",
   "version": "3.7.9",
   "mimetype": "text/x-python",
   "codemirror_mode": {
    "name": "ipython",
    "version": 3
   },
   "pygments_lexer": "ipython3",
   "nbconvert_exporter": "python",
   "file_extension": ".py"
  },
  "kernelspec": {
   "name": "python3",
   "display_name": "Python 3.7.9 64-bit ('green_compute': conda)"
  },
  "interpreter": {
   "hash": "e5f8cee7ddba11edeefb1347c6536a4ac2b361bd4eba89a8b32d7cb85bbef9ea"
  }
 },
 "nbformat": 4,
 "nbformat_minor": 2
}