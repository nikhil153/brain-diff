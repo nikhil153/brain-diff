{
 "cells": [
  {
   "cell_type": "code",
   "execution_count": 1,
   "source": [
    "import sys\n",
    "import numpy as np\n",
    "import pandas as pd\n",
    "import seaborn as sns\n",
    "import nibabel as nib\n",
    "\n",
    "import torch\n",
    "import torch.nn.functional as F\n",
    "from torch.utils.data import Dataset, DataLoader, random_split\n",
    "import torch.nn as nn\n",
    "import torch.optim as optim\n",
    "\n",
    "sys.path.append(\"../\")\n",
    "from src.LSN import *\n",
    "\n",
    "from models import dp_loss as dpl\n",
    "from models import dp_utils as dpu\n",
    "\n",
    "from sklearn.model_selection import train_test_split\n",
    "import matplotlib.pyplot as plt"
   ],
   "outputs": [],
   "metadata": {}
  },
  {
   "cell_type": "markdown",
   "source": [
    "## Paths"
   ],
   "metadata": {}
  },
  {
   "cell_type": "code",
   "execution_count": 4,
   "source": [
    "project_dir = \"../\"\n",
    "data_dir = \"/home/nikhil/projects/brain_changes/data/ukbb/\"\n",
    "\n",
    "freesurfer_csv = f\"{data_dir}imaging/freesurfer/ukb47552_followup_subset.csv\"\n",
    "\n",
    "train_csv = f\"{project_dir}metadata/metadata_train.csv\"\n",
    "test_csv = f\"{project_dir}metadata/metadata_test.csv\"\n",
    "\n",
    "freesurfer_fields = f\"{project_dir}/metadata/ukbb_freesurfer_fields.txt\"\n"
   ],
   "outputs": [],
   "metadata": {}
  },
  {
   "cell_type": "markdown",
   "source": [
    "## Filter followup subject using Dask dataframe (pandas will crash)"
   ],
   "metadata": {}
  },
  {
   "cell_type": "code",
   "execution_count": 26,
   "source": [
    "# import dask.dataframe as dd\n",
    "\n",
    "# # Grab eids with ses-3 data\n",
    "# freesurfer_df = pd.read_csv(freesurfer_csv,usecols=[\"eid\",\"26501-3.0\"])\n",
    "# freesurfer_eids = freesurfer_df[~freesurfer_df[\"26501-3.0\"].isna()][\"eid\"]\n",
    "\n",
    "# # Read entire CSV using dask\n",
    "# freesurfer_df = dd.read_csv(freesurfer_csv)\n",
    "# followup_freesurfer_df = freesurfer_df[freesurfer_df[\"eid\"].isin(freesurfer_eids)].compute()\n",
    "\n",
    "# # Save filtered df\n",
    "# followup_freesurfer_df.to_csv(f\"{data_dir}imaging/freesurfer/ukb47552_followup_subset.csv\")"
   ],
   "outputs": [],
   "metadata": {}
  },
  {
   "cell_type": "markdown",
   "source": [
    "## Grab phenotype fields (e.g. Thicknes, Volume, Area)"
   ],
   "metadata": {}
  },
  {
   "cell_type": "code",
   "execution_count": 33,
   "source": [
    "freesurfer_fields_df = pd.read_csv(freesurfer_fields,sep=\"\t\")\n",
    "freesurfer_fields_df[\"phenotype\"] = freesurfer_fields_df[\"Description\"].str.split(\" \",1,expand=True)[0]\n",
    "freesurfer_fields_df[\"phenotype\"] = freesurfer_fields_df[\"phenotype\"].replace({\"Mean\":\"Mean Thickness\"})\n",
    "CT_fields = freesurfer_fields_df[freesurfer_fields_df[\"phenotype\"]==\"Mean Thickness\"][\"Field ID\"]\n",
    "volume_fields = freesurfer_fields_df[freesurfer_fields_df[\"phenotype\"]==\"Volume\"][\"Field ID\"]\n",
    "\n",
    "print(f\"number of CT fields: {len(CT_fields)}, volume fields: {len(volume_fields)}\")"
   ],
   "outputs": [
    {
     "output_type": "stream",
     "name": "stdout",
     "text": [
      "number of CT fields: 62, volume fields: 62\n"
     ]
    }
   ],
   "metadata": {}
  },
  {
   "cell_type": "markdown",
   "source": [
    "## Read DKT volumes "
   ],
   "metadata": {}
  },
  {
   "cell_type": "code",
   "execution_count": 37,
   "source": [
    "pheno_fields = CT_fields # + volume_fields\n",
    "pheno_cols_ses2 = list(pheno_fields.astype(str) + \"-2.0\")\n",
    "pheno_cols_ses3 = list(pheno_fields.astype(str) + \"-3.0\")\n",
    "usecols = [\"eid\"] + pheno_cols_ses2 + pheno_cols_ses3\n",
    "\n",
    "print(f\"reading {len(usecols)} columes\")\n",
    "\n",
    "freesurfer_df = pd.read_csv(freesurfer_csv, usecols=usecols)\n",
    "freesurfer_eids = freesurfer_df[\"eid\"].values\n",
    "\n",
    "freesurfer_df.head()"
   ],
   "outputs": [
    {
     "output_type": "stream",
     "name": "stdout",
     "text": [
      "reading 125 columes\n"
     ]
    },
    {
     "output_type": "execute_result",
     "data": {
      "text/plain": [
       "       eid  27174-2.0  27174-3.0  27175-2.0  27175-3.0  27176-2.0  27176-3.0  \\\n",
       "0  1000635      2.786      2.874      2.910      2.852      2.275      2.307   \n",
       "1  1008391      3.191      2.875      3.080      3.037      2.273      2.143   \n",
       "2  1010129      2.329      1.870      2.836      2.798      1.995      1.943   \n",
       "3  1010994      2.785      2.581      2.671      2.603      2.060      1.819   \n",
       "4  1013774      2.963      3.191      2.617      2.856      2.035      2.050   \n",
       "\n",
       "   27177-2.0  27177-3.0  27178-2.0  ...  27293-2.0  27293-3.0  27294-2.0  \\\n",
       "0      3.389      3.379      2.836  ...      2.387      2.435      2.967   \n",
       "1      3.004      2.571      2.846  ...      2.588      2.592      3.073   \n",
       "2      3.302      3.193      2.812  ...      2.376      2.395      3.081   \n",
       "3      3.144      3.225      2.793  ...      2.513      2.416      2.919   \n",
       "4      2.751      3.385      2.830  ...      2.274      2.403      3.041   \n",
       "\n",
       "   27294-3.0  27295-2.0  27295-3.0  27296-2.0  27296-3.0  27297-2.0  27297-3.0  \n",
       "0      2.958      2.707      2.628      2.229      2.142      2.875      2.750  \n",
       "1      2.859      2.839      2.770      3.086      3.322      3.255      3.003  \n",
       "2      3.086      2.993      2.945      3.016      3.032      3.193      3.168  \n",
       "3      2.881      2.654      2.581      2.088      2.161      2.912      2.866  \n",
       "4      3.008      2.635      2.737      2.527      2.696      2.983      3.263  \n",
       "\n",
       "[5 rows x 125 columns]"
      ],
      "text/html": [
       "<div>\n",
       "<style scoped>\n",
       "    .dataframe tbody tr th:only-of-type {\n",
       "        vertical-align: middle;\n",
       "    }\n",
       "\n",
       "    .dataframe tbody tr th {\n",
       "        vertical-align: top;\n",
       "    }\n",
       "\n",
       "    .dataframe thead th {\n",
       "        text-align: right;\n",
       "    }\n",
       "</style>\n",
       "<table border=\"1\" class=\"dataframe\">\n",
       "  <thead>\n",
       "    <tr style=\"text-align: right;\">\n",
       "      <th></th>\n",
       "      <th>eid</th>\n",
       "      <th>27174-2.0</th>\n",
       "      <th>27174-3.0</th>\n",
       "      <th>27175-2.0</th>\n",
       "      <th>27175-3.0</th>\n",
       "      <th>27176-2.0</th>\n",
       "      <th>27176-3.0</th>\n",
       "      <th>27177-2.0</th>\n",
       "      <th>27177-3.0</th>\n",
       "      <th>27178-2.0</th>\n",
       "      <th>...</th>\n",
       "      <th>27293-2.0</th>\n",
       "      <th>27293-3.0</th>\n",
       "      <th>27294-2.0</th>\n",
       "      <th>27294-3.0</th>\n",
       "      <th>27295-2.0</th>\n",
       "      <th>27295-3.0</th>\n",
       "      <th>27296-2.0</th>\n",
       "      <th>27296-3.0</th>\n",
       "      <th>27297-2.0</th>\n",
       "      <th>27297-3.0</th>\n",
       "    </tr>\n",
       "  </thead>\n",
       "  <tbody>\n",
       "    <tr>\n",
       "      <th>0</th>\n",
       "      <td>1000635</td>\n",
       "      <td>2.786</td>\n",
       "      <td>2.874</td>\n",
       "      <td>2.910</td>\n",
       "      <td>2.852</td>\n",
       "      <td>2.275</td>\n",
       "      <td>2.307</td>\n",
       "      <td>3.389</td>\n",
       "      <td>3.379</td>\n",
       "      <td>2.836</td>\n",
       "      <td>...</td>\n",
       "      <td>2.387</td>\n",
       "      <td>2.435</td>\n",
       "      <td>2.967</td>\n",
       "      <td>2.958</td>\n",
       "      <td>2.707</td>\n",
       "      <td>2.628</td>\n",
       "      <td>2.229</td>\n",
       "      <td>2.142</td>\n",
       "      <td>2.875</td>\n",
       "      <td>2.750</td>\n",
       "    </tr>\n",
       "    <tr>\n",
       "      <th>1</th>\n",
       "      <td>1008391</td>\n",
       "      <td>3.191</td>\n",
       "      <td>2.875</td>\n",
       "      <td>3.080</td>\n",
       "      <td>3.037</td>\n",
       "      <td>2.273</td>\n",
       "      <td>2.143</td>\n",
       "      <td>3.004</td>\n",
       "      <td>2.571</td>\n",
       "      <td>2.846</td>\n",
       "      <td>...</td>\n",
       "      <td>2.588</td>\n",
       "      <td>2.592</td>\n",
       "      <td>3.073</td>\n",
       "      <td>2.859</td>\n",
       "      <td>2.839</td>\n",
       "      <td>2.770</td>\n",
       "      <td>3.086</td>\n",
       "      <td>3.322</td>\n",
       "      <td>3.255</td>\n",
       "      <td>3.003</td>\n",
       "    </tr>\n",
       "    <tr>\n",
       "      <th>2</th>\n",
       "      <td>1010129</td>\n",
       "      <td>2.329</td>\n",
       "      <td>1.870</td>\n",
       "      <td>2.836</td>\n",
       "      <td>2.798</td>\n",
       "      <td>1.995</td>\n",
       "      <td>1.943</td>\n",
       "      <td>3.302</td>\n",
       "      <td>3.193</td>\n",
       "      <td>2.812</td>\n",
       "      <td>...</td>\n",
       "      <td>2.376</td>\n",
       "      <td>2.395</td>\n",
       "      <td>3.081</td>\n",
       "      <td>3.086</td>\n",
       "      <td>2.993</td>\n",
       "      <td>2.945</td>\n",
       "      <td>3.016</td>\n",
       "      <td>3.032</td>\n",
       "      <td>3.193</td>\n",
       "      <td>3.168</td>\n",
       "    </tr>\n",
       "    <tr>\n",
       "      <th>3</th>\n",
       "      <td>1010994</td>\n",
       "      <td>2.785</td>\n",
       "      <td>2.581</td>\n",
       "      <td>2.671</td>\n",
       "      <td>2.603</td>\n",
       "      <td>2.060</td>\n",
       "      <td>1.819</td>\n",
       "      <td>3.144</td>\n",
       "      <td>3.225</td>\n",
       "      <td>2.793</td>\n",
       "      <td>...</td>\n",
       "      <td>2.513</td>\n",
       "      <td>2.416</td>\n",
       "      <td>2.919</td>\n",
       "      <td>2.881</td>\n",
       "      <td>2.654</td>\n",
       "      <td>2.581</td>\n",
       "      <td>2.088</td>\n",
       "      <td>2.161</td>\n",
       "      <td>2.912</td>\n",
       "      <td>2.866</td>\n",
       "    </tr>\n",
       "    <tr>\n",
       "      <th>4</th>\n",
       "      <td>1013774</td>\n",
       "      <td>2.963</td>\n",
       "      <td>3.191</td>\n",
       "      <td>2.617</td>\n",
       "      <td>2.856</td>\n",
       "      <td>2.035</td>\n",
       "      <td>2.050</td>\n",
       "      <td>2.751</td>\n",
       "      <td>3.385</td>\n",
       "      <td>2.830</td>\n",
       "      <td>...</td>\n",
       "      <td>2.274</td>\n",
       "      <td>2.403</td>\n",
       "      <td>3.041</td>\n",
       "      <td>3.008</td>\n",
       "      <td>2.635</td>\n",
       "      <td>2.737</td>\n",
       "      <td>2.527</td>\n",
       "      <td>2.696</td>\n",
       "      <td>2.983</td>\n",
       "      <td>3.263</td>\n",
       "    </tr>\n",
       "  </tbody>\n",
       "</table>\n",
       "<p>5 rows × 125 columns</p>\n",
       "</div>"
      ]
     },
     "metadata": {},
     "execution_count": 37
    }
   ],
   "metadata": {}
  },
  {
   "cell_type": "code",
   "execution_count": 38,
   "source": [
    "train_df = pd.read_csv(train_csv)\n",
    "train_eids = train_df[\"eid\"]\n",
    "train_eids_avail = set(train_eids) & set(freesurfer_eids)\n",
    "\n",
    "test_df = pd.read_csv(test_csv)\n",
    "test_eids = test_df[\"eid\"]\n",
    "test_eids_avail = set(test_eids) & set(freesurfer_eids)\n",
    "\n",
    "print(f\"train samples: {len(train_eids)}, freesurfer data available: {len(train_eids_avail)}\")\n",
    "print(f\"test samples: {len(test_eids)}, freesurfer data available: {len(test_eids_avail)}\")"
   ],
   "outputs": [
    {
     "output_type": "stream",
     "name": "stdout",
     "text": [
      "train samples: 2145, freesurfer data available: 1942\n",
      "test samples: 1057, freesurfer data available: 978\n"
     ]
    }
   ],
   "metadata": {}
  },
  {
   "cell_type": "code",
   "execution_count": null,
   "source": [],
   "outputs": [],
   "metadata": {}
  },
  {
   "cell_type": "code",
   "execution_count": 47,
   "source": [
    "class UKBB_ROI_Dataset(Dataset):\n",
    "    ''' Simulation dataset\n",
    "    '''\n",
    "    def __init__(self, metadata_csv, data_csv, pheno_cols_ses2, pheno_cols_ses3, transform=None):\n",
    "        self.metadata_csv = metadata_csv\n",
    "        self.data_csv = data_csv \n",
    "        self.pheno_cols_ses2 = pheno_cols_ses2\n",
    "        self.pheno_cols_ses3 = pheno_cols_ses3\n",
    "        \n",
    "    def __len__(self):\n",
    "        n_samples = len(pd.read_csv(self.metadata_csv))\n",
    "        return n_samples\n",
    "\n",
    "    def __getitem__(self, idx):\n",
    "        ukbb_metadata = pd.read_csv(self.metadata_csv)\n",
    "        eid = ukbb_metadata.loc[idx,\"eid\"]\n",
    "        age_ses2 = ukbb_metadata[ukbb_metadata[\"eid\"]==eid][\"age_at_ses2\"].values[0]\n",
    "        age_ses3 = ukbb_metadata[ukbb_metadata[\"eid\"]==eid][\"age_at_ses3\"].values[0]\n",
    "        \n",
    "        usecols = [\"eid\"] + self.pheno_cols_ses2 + self.pheno_cols_ses3\n",
    "        data_df = pd.read_csv(self.data_csv, usecols=usecols)\n",
    "        input1 = data_df[data_df[\"eid\"]==eid][self.pheno_cols_ses2].values\n",
    "        input2 = data_df[data_df[\"eid\"]==eid][self.pheno_cols_ses3].values\n",
    "        \n",
    "        input1 = np.expand_dims(input1,0)\n",
    "        input2 = np.expand_dims(input2,0)\n",
    "\n",
    "        output1 = age_ses2\n",
    "        output2 = age_ses3\n",
    "        output1 = np.expand_dims(output1,0)\n",
    "        output2 = np.expand_dims(output2,0)\n",
    "\n",
    "        return (torch.tensor(input1,dtype=torch.float32), torch.tensor(input2,dtype=torch.float32)), \\\n",
    "            (torch.tensor(output1,dtype=torch.float32), torch.tensor(output2,dtype=torch.float32))"
   ],
   "outputs": [],
   "metadata": {}
  },
  {
   "cell_type": "code",
   "execution_count": 48,
   "source": [
    "ukbb_dataset = UKBB_ROI_Dataset(train_csv, freesurfer_csv, pheno_cols_ses2, pheno_cols_ses3, transform=None)\n",
    "train_dataloader = DataLoader(ukbb_dataset, batch_size=1, shuffle=True)"
   ],
   "outputs": [],
   "metadata": {}
  },
  {
   "cell_type": "code",
   "execution_count": 49,
   "source": [
    "iter(train_dataloader).next()"
   ],
   "outputs": [
    {
     "output_type": "execute_result",
     "data": {
      "text/plain": [
       "[[tensor([[[[3.0210, 2.4450, 3.1200, 2.8450, 1.9480, 1.8870, 3.1920, 3.3510,\n",
       "             2.9070, 2.7670, 2.6990, 2.7110, 3.0920, 3.1750, 3.3170, 3.3080,\n",
       "             2.3980, 2.4660, 2.2230, 2.2310, 2.7030, 2.7580, 1.9570, 1.9210,\n",
       "             2.6510, 2.7150, 2.9410, 3.0840, 2.5100, 2.7000, 2.9240, 3.0870,\n",
       "             2.9210, 3.0380, 2.8220, 3.1390, 2.6780, 2.6940, 1.6710, 1.6490,\n",
       "             2.4060, 2.3530, 2.6490, 2.6740, 2.8820, 2.8020, 2.5960, 2.6560,\n",
       "             2.9720, 2.8730, 2.7340, 2.6850, 2.9230, 2.9420, 2.4720, 2.5120,\n",
       "             3.1000, 3.1350, 2.9810, 2.8420, 2.5810, 2.7270]]]]),\n",
       "  tensor([[[[3.2750, 2.5590, 3.0660, 2.8080, 2.1310, 2.0050, 3.3720, 3.1520,\n",
       "             2.9940, 2.8750, 2.7260, 2.8450, 3.2460, 3.2060, 3.2840, 3.1940,\n",
       "             2.6960, 2.5500, 2.4170, 2.3270, 2.9900, 2.7220, 2.2170, 2.1020,\n",
       "             2.7760, 2.8120, 3.1340, 3.1900, 2.5340, 2.5440, 3.1660, 3.3210,\n",
       "             2.8020, 3.0140, 2.8450, 3.1170, 2.6840, 2.7720, 1.9830, 1.8710,\n",
       "             2.4250, 2.4920, 2.8550, 2.7160, 2.7750, 2.9300, 2.7590, 2.7550,\n",
       "             2.9680, 2.9380, 2.7000, 2.6560, 2.9580, 2.9820, 2.5390, 2.6370,\n",
       "             3.1060, 3.1780, 2.9310, 2.9610, 2.4490, 2.6770]]]])],\n",
       " [tensor([[62.]]), tensor([[64.]])]]"
      ]
     },
     "metadata": {},
     "execution_count": 49
    }
   ],
   "metadata": {}
  },
  {
   "cell_type": "markdown",
   "source": [
    "## Data-loaders"
   ],
   "metadata": {}
  },
  {
   "cell_type": "markdown",
   "source": [
    "## TODO\n",
    "### Data Aug:  In every epoch, the training input is 1) randomly shifted by 0, 1 or 2 voxels along every axis; 2) has a probability of 50% to be mirrored about the sagittal plane."
   ],
   "metadata": {}
  },
  {
   "cell_type": "code",
   "execution_count": 3,
   "source": [
    "batch_size = 1\n",
    "\n",
    "ukbb_dataset = UKBBDataset(img_dir, img_subdirs, metadata_csv)\n",
    "train_dataloader = DataLoader(ukbb_dataset, batch_size=batch_size, shuffle=True)"
   ],
   "outputs": [],
   "metadata": {}
  },
  {
   "cell_type": "markdown",
   "source": [
    "## TwinSFCN"
   ],
   "metadata": {}
  },
  {
   "cell_type": "code",
   "execution_count": 4,
   "source": [
    "device = torch.device(\"cuda:0\" if torch.cuda.is_available() else \"cpu\")\n",
    "\n",
    "model = twinSFCN() # alternative toy model: LSN()\n",
    "\n",
    "model = torch.nn.DataParallel(model)\n",
    "\n",
    "if torch.cuda.is_available():\n",
    "    map_location=lambda storage, loc: storage.cuda()\n",
    "else:\n",
    "    map_location='cpu'\n",
    "    \n",
    "model.load_state_dict(torch.load(sfcn_ckpt, map_location=torch.device('cpu')))\n",
    "\n",
    "optimizer = optim.SGD(model.parameters(), lr=0.01, momentum=0.9)"
   ],
   "outputs": [],
   "metadata": {}
  },
  {
   "cell_type": "markdown",
   "source": [
    "## Train model "
   ],
   "metadata": {}
  },
  {
   "cell_type": "code",
   "execution_count": 5,
   "source": [
    "num_epochs = 10\n",
    "\n",
    "loss_list = []\n",
    "for epoch in range(num_epochs):\n",
    "    running_loss = 0.0\n",
    "    model.train()\n",
    "    print(\"Starting epoch \" + str(epoch+1))\n",
    "    for inputs, outputs in train_dataloader:\n",
    "        img1 = inputs[0]\n",
    "        img2 = inputs[1]\n",
    "        age_at_ses2 = outputs[0]\n",
    "        age_at_ses3 = outputs[1]\n",
    "\n",
    "        # Forward\n",
    "        img1 = img1.to(device)\n",
    "        img2 = img2.to(device)\n",
    "        age_at_ses2 = age_at_ses2.to(device)\n",
    "        age_at_ses3 = age_at_ses3.to(device)\n",
    "\n",
    "        # zero the parameter gradients\n",
    "        optimizer.zero_grad()\n",
    "\n",
    "        # forward + backward + optimize\n",
    "        preds = model(img1, img2)\n",
    "\n",
    "        loss = dpl.twin_KLDivLoss(preds[0][0],preds[1][0],age_at_ses2,age_at_ses3) #criterion(outputs, labels)\n",
    "        \n",
    "        loss.backward()\n",
    "        optimizer.step()\n",
    "\n",
    "        # print statistics\n",
    "        running_loss += loss.item()\n",
    "        loss_list.append(loss.item())\n",
    "    \n",
    "    epoch_loss = running_loss/len(train_dataloader)\n",
    "    print(f\"epoch loss: {epoch_loss:3.2f}\")"
   ],
   "outputs": [
    {
     "output_type": "stream",
     "name": "stdout",
     "text": [
      "Starting epoch 1\n",
      "(1, 160, 192, 160), (1, 160, 192, 160), (53.0, 55.0)\n",
      "(1, 160, 192, 160), (1, 160, 192, 160), (70.0, 72.0)\n",
      "epoch loss: 162.82\n",
      "Starting epoch 2\n",
      "(1, 160, 192, 160), (1, 160, 192, 160), (53.0, 55.0)\n",
      "(1, 160, 192, 160), (1, 160, 192, 160), (70.0, 72.0)\n",
      "epoch loss: 130.97\n",
      "Starting epoch 3\n",
      "(1, 160, 192, 160), (1, 160, 192, 160), (53.0, 55.0)\n",
      "(1, 160, 192, 160), (1, 160, 192, 160), (70.0, 72.0)\n",
      "epoch loss: 144.40\n",
      "Starting epoch 4\n",
      "(1, 160, 192, 160), (1, 160, 192, 160), (53.0, 55.0)\n",
      "(1, 160, 192, 160), (1, 160, 192, 160), (70.0, 72.0)\n",
      "epoch loss: 110.25\n",
      "Starting epoch 5\n",
      "(1, 160, 192, 160), (1, 160, 192, 160), (53.0, 55.0)\n",
      "(1, 160, 192, 160), (1, 160, 192, 160), (70.0, 72.0)\n",
      "epoch loss: 134.35\n",
      "Starting epoch 6\n",
      "(1, 160, 192, 160), (1, 160, 192, 160), (70.0, 72.0)\n",
      "(1, 160, 192, 160), (1, 160, 192, 160), (53.0, 55.0)\n",
      "epoch loss: 136.08\n",
      "Starting epoch 7\n",
      "(1, 160, 192, 160), (1, 160, 192, 160), (70.0, 72.0)\n",
      "(1, 160, 192, 160), (1, 160, 192, 160), (53.0, 55.0)\n",
      "epoch loss: 113.17\n",
      "Starting epoch 8\n",
      "(1, 160, 192, 160), (1, 160, 192, 160), (70.0, 72.0)\n",
      "(1, 160, 192, 160), (1, 160, 192, 160), (53.0, 55.0)\n",
      "epoch loss: 125.62\n",
      "Starting epoch 9\n",
      "(1, 160, 192, 160), (1, 160, 192, 160), (70.0, 72.0)\n",
      "(1, 160, 192, 160), (1, 160, 192, 160), (53.0, 55.0)\n",
      "epoch loss: 106.94\n",
      "Starting epoch 10\n",
      "(1, 160, 192, 160), (1, 160, 192, 160), (53.0, 55.0)\n",
      "(1, 160, 192, 160), (1, 160, 192, 160), (70.0, 72.0)\n",
      "epoch loss: 125.02\n"
     ]
    }
   ],
   "metadata": {}
  },
  {
   "cell_type": "code",
   "execution_count": 7,
   "source": [
    "sns.lineplot(x=range(20),y=loss_list,marker='o')"
   ],
   "outputs": [
    {
     "output_type": "execute_result",
     "data": {
      "text/plain": [
       "<matplotlib.axes._subplots.AxesSubplot at 0x7f89df0a1c18>"
      ]
     },
     "metadata": {},
     "execution_count": 7
    },
    {
     "output_type": "display_data",
     "data": {
      "text/plain": [
       "<Figure size 432x288 with 1 Axes>"
      ],
      "image/png": "[encoded data removed]"
     },
     "metadata": {
      "needs_background": "light"
     }
    }
   ],
   "metadata": {}
  }
 ],
 "metadata": {
  "orig_nbformat": 4,
  "language_info": {
   "name": "python",
   "version": "3.7.0",
   "mimetype": "text/x-python",
   "codemirror_mode": {
    "name": "ipython",
    "version": 3
   },
   "pygments_lexer": "ipython3",
   "nbconvert_exporter": "python",
   "file_extension": ".py"
  },
  "kernelspec": {
   "name": "python3",
   "display_name": "Python 3.7.0 64-bit ('green_compute': venv)"
  },
  "interpreter": {
   "hash": "96e4927380308772faf387ce1ad6de9eaed4a7d7aadcf2622a8269a7d5f191c8"
  }
 },
 "nbformat": 4,
 "nbformat_minor": 2
}