{
 "cells": [
  {
   "cell_type": "code",
   "execution_count": 1,
   "source": [
    "import numpy as np\n",
    "import pandas as pd\n",
    "import seaborn as sns\n",
    "import matplotlib.pyplot as plt\n"
   ],
   "outputs": [],
   "metadata": {}
  },
  {
   "cell_type": "code",
   "execution_count": 2,
   "source": [
    "## Tabular Data\n",
    "data_dir = \"/home/nikhil/projects/brain_changes/data/ukbb/\"\n",
    "\n",
    "tab_csv = f\"{data_dir}tabular/ukb46307.csv\"\n",
    "\n",
    "tab_follow_up_csv = f\"{data_dir}tabular/tab_follow_up.csv\"\n",
    "\n",
    "follow_up_subjects = \"./ukbb_brain-age_ses-3_subjects.txt\""
   ],
   "outputs": [],
   "metadata": {}
  },
  {
   "cell_type": "markdown",
   "source": [
    "## Select few columns (cannot read entire CSV in memory)"
   ],
   "metadata": {}
  },
  {
   "cell_type": "code",
   "execution_count": 3,
   "source": [
    "read_neurohub_manifest = False\n",
    "save_ukbb_followup_subset = False\n",
    "\n",
    "if read_neurohub_manifest:\n",
    "    column_codes = {\n",
    "        \"eid\":\"eid\", \n",
    "        \"31-0.0\":\"sex\",\n",
    "        \"34-0.0\":\"birth_year\",\n",
    "        \"21022-0.0\": \"age_at_recruitment\",\n",
    "        \"21003-2.0\": \"age_at_ses2\",\n",
    "        \"21003-3.0\": \"age_at_ses3\",\n",
    "        \"21000-0.0\":\"ethnicity\", \n",
    "        \"20252-2.0\":\"T1-ses2\",\n",
    "        \"20252-3.0\":\"T1-ses3\"}\n",
    "\n",
    "    ukbb_tab_df = pd.read_csv(tab_csv, index_col=[\"eid\"], usecols=column_codes.keys())\n",
    "\n",
    "    ukbb_tab_df = ukbb_tab_df.rename(columns=column_codes)\n",
    "\n",
    "    ## Cross-ref with currently available subjects from Neurohub\n",
    "    follow_up_subjects_list = list(np.hstack(pd.read_csv(follow_up_subjects,header=None).values))\n",
    "\n",
    "    # Make sure subjects have imaging data from ses2 and ses3\n",
    "    ukbb_tab_df = ukbb_tab_df[(~ukbb_tab_df[\"T1-ses2\"].isna()) & (~ukbb_tab_df[\"T1-ses3\"].isna())]\n",
    "\n",
    "    ukbb_tab_followup_df = ukbb_tab_df[ukbb_tab_df.index.isin(follow_up_subjects_list)]\n",
    "\n",
    "    ## Save ukbb follow-up data csv to save time reading entire tabular data csv \n",
    "    if save_ukbb_followup_subset: \n",
    "        ukbb_tab_followup_df.to_csv(tab_follow_up_csv)\n",
    "\n",
    "else:\n",
    "    ukbb_tab_followup_df = pd.read_csv(tab_follow_up_csv)\n",
    "\n",
    "\n",
    "\n",
    "print(f'Number of available follow up subjects: {len(ukbb_tab_followup_df)}')\n",
    "\n",
    "ukbb_tab_followup_df.head()"
   ],
   "outputs": [
    {
     "output_type": "stream",
     "name": "stdout",
     "text": [
      "Number of available follow up subjects: 3202\n"
     ]
    },
    {
     "output_type": "execute_result",
     "data": {
      "text/plain": [
       "       eid  sex  birth_year    T1-ses2    T1-ses3  ethnicity  age_at_ses2  \\\n",
       "0  1000635  1.0      1950.0  20252_2_0  20252_3_0     1001.0         67.0   \n",
       "1  1004084  1.0      1947.0  20252_2_0  20252_3_0     1001.0         70.0   \n",
       "2  1008391  1.0      1955.0  20252_2_0  20252_3_0     1001.0         62.0   \n",
       "3  1010063  0.0      1964.0  20252_2_0  20252_3_0     1001.0         53.0   \n",
       "4  1010129  0.0      1947.0  20252_2_0  20252_3_0     1001.0         69.0   \n",
       "\n",
       "   age_at_ses3  age_at_recruitment  \n",
       "0         69.0                58.0  \n",
       "1         72.0                60.0  \n",
       "2         65.0                54.0  \n",
       "3         55.0                45.0  \n",
       "4         71.0                60.0  "
      ],
      "text/html": [
       "<div>\n",
       "<style scoped>\n",
       "    .dataframe tbody tr th:only-of-type {\n",
       "        vertical-align: middle;\n",
       "    }\n",
       "\n",
       "    .dataframe tbody tr th {\n",
       "        vertical-align: top;\n",
       "    }\n",
       "\n",
       "    .dataframe thead th {\n",
       "        text-align: right;\n",
       "    }\n",
       "</style>\n",
       "<table border=\"1\" class=\"dataframe\">\n",
       "  <thead>\n",
       "    <tr style=\"text-align: right;\">\n",
       "      <th></th>\n",
       "      <th>eid</th>\n",
       "      <th>sex</th>\n",
       "      <th>birth_year</th>\n",
       "      <th>T1-ses2</th>\n",
       "      <th>T1-ses3</th>\n",
       "      <th>ethnicity</th>\n",
       "      <th>age_at_ses2</th>\n",
       "      <th>age_at_ses3</th>\n",
       "      <th>age_at_recruitment</th>\n",
       "    </tr>\n",
       "  </thead>\n",
       "  <tbody>\n",
       "    <tr>\n",
       "      <th>0</th>\n",
       "      <td>1000635</td>\n",
       "      <td>1.0</td>\n",
       "      <td>1950.0</td>\n",
       "      <td>20252_2_0</td>\n",
       "      <td>20252_3_0</td>\n",
       "      <td>1001.0</td>\n",
       "      <td>67.0</td>\n",
       "      <td>69.0</td>\n",
       "      <td>58.0</td>\n",
       "    </tr>\n",
       "    <tr>\n",
       "      <th>1</th>\n",
       "      <td>1004084</td>\n",
       "      <td>1.0</td>\n",
       "      <td>1947.0</td>\n",
       "      <td>20252_2_0</td>\n",
       "      <td>20252_3_0</td>\n",
       "      <td>1001.0</td>\n",
       "      <td>70.0</td>\n",
       "      <td>72.0</td>\n",
       "      <td>60.0</td>\n",
       "    </tr>\n",
       "    <tr>\n",
       "      <th>2</th>\n",
       "      <td>1008391</td>\n",
       "      <td>1.0</td>\n",
       "      <td>1955.0</td>\n",
       "      <td>20252_2_0</td>\n",
       "      <td>20252_3_0</td>\n",
       "      <td>1001.0</td>\n",
       "      <td>62.0</td>\n",
       "      <td>65.0</td>\n",
       "      <td>54.0</td>\n",
       "    </tr>\n",
       "    <tr>\n",
       "      <th>3</th>\n",
       "      <td>1010063</td>\n",
       "      <td>0.0</td>\n",
       "      <td>1964.0</td>\n",
       "      <td>20252_2_0</td>\n",
       "      <td>20252_3_0</td>\n",
       "      <td>1001.0</td>\n",
       "      <td>53.0</td>\n",
       "      <td>55.0</td>\n",
       "      <td>45.0</td>\n",
       "    </tr>\n",
       "    <tr>\n",
       "      <th>4</th>\n",
       "      <td>1010129</td>\n",
       "      <td>0.0</td>\n",
       "      <td>1947.0</td>\n",
       "      <td>20252_2_0</td>\n",
       "      <td>20252_3_0</td>\n",
       "      <td>1001.0</td>\n",
       "      <td>69.0</td>\n",
       "      <td>71.0</td>\n",
       "      <td>60.0</td>\n",
       "    </tr>\n",
       "  </tbody>\n",
       "</table>\n",
       "</div>"
      ]
     },
     "metadata": {},
     "execution_count": 3
    }
   ],
   "metadata": {}
  },
  {
   "cell_type": "markdown",
   "source": [
    "## plots"
   ],
   "metadata": {}
  },
  {
   "cell_type": "code",
   "execution_count": 7,
   "source": [
    "plot_df = ukbb_tab_followup_df.copy()\n",
    "plot_df[\"age_at_ses2\"] = plot_df[\"age_at_ses2\"].astype(int)\n",
    "plot_df[\"age_at_ses3\"] = plot_df[\"age_at_ses3\"].astype(int)\n",
    "plot_df[\"age_diff\"] = plot_df[\"age_at_ses3\"] - plot_df[\"age_at_ses2\"]\n",
    "palette = 'husl'\n",
    "sns.set(font_scale=1.5)\n",
    "with sns.axes_style(\"whitegrid\"):\n",
    "    g = sns.catplot(x=\"age_at_ses2\", hue=\"age_diff\", kind='count',\n",
    "    aspect=4, height=5, palette = palette, data=plot_df)\n"
   ],
   "outputs": [
    {
     "output_type": "display_data",
     "data": {
      "text/plain": [
       "<Figure size 1517.58x360 with 1 Axes>"
      ],
      "image/png": "[encoded data removed]"
     },
     "metadata": {}
    }
   ],
   "metadata": {}
  },
  {
   "cell_type": "markdown",
   "source": [],
   "metadata": {}
  }
 ],
 "metadata": {
  "orig_nbformat": 4,
  "language_info": {
   "name": "python",
   "version": "3.7.0",
   "mimetype": "text/x-python",
   "codemirror_mode": {
    "name": "ipython",
    "version": 3
   },
   "pygments_lexer": "ipython3",
   "nbconvert_exporter": "python",
   "file_extension": ".py"
  },
  "kernelspec": {
   "name": "python3",
   "display_name": "Python 3.7.0 64-bit ('green_compute': venv)"
  },
  "interpreter": {
   "hash": "96e4927380308772faf387ce1ad6de9eaed4a7d7aadcf2622a8269a7d5f191c8"
  }
 },
 "nbformat": 4,
 "nbformat_minor": 2
}