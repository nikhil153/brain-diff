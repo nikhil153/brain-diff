{
 "cells": [
  {
   "cell_type": "markdown",
   "source": [
    "# Notebook to test [SFCN model](https://github.com/ha-ha-ha-han/UKBiobank_deep_pretrain) for brain age prediction\n",
    "\n",
    "## Currently using a sample ukbb subject "
   ],
   "metadata": {}
  },
  {
   "cell_type": "code",
   "execution_count": null,
   "source": [
    "import numpy as np\n",
    "import pandas as pd\n",
    "import seaborn as sns\n",
    "from models.sfcn import *\n",
    "from models import dp_loss as dpl\n",
    "from models import dp_utils as dpu\n",
    "\n",
    "import nibabel as nib\n",
    "\n",
    "import torch\n",
    "import torch.nn.functional as F\n",
    "import matplotlib.pyplot as plt"
   ],
   "outputs": [],
   "metadata": {}
  },
  {
   "cell_type": "markdown",
   "source": [
    "## Paths"
   ],
   "metadata": {}
  },
  {
   "cell_type": "code",
   "execution_count": null,
   "source": [
    "project_dir = \"../\"\n",
    "models_dir = f\"{project_dir}/models/\"\n",
    "\n",
    "data_dir = \"/home/nikhil/projects/brain_changes/data/ukbb/\"\n",
    "    \n",
    "# This is to be modified with the path of saved weights\n",
    "p_ = f\"{models_dir}/run_20190719_00_epoch_best_mae.p\""
   ],
   "outputs": [],
   "metadata": {}
  },
  {
   "cell_type": "markdown",
   "source": [
    "## Load Model"
   ],
   "metadata": {}
  },
  {
   "cell_type": "code",
   "execution_count": null,
   "source": [
    "model = SFCN()\n",
    "model = torch.nn.DataParallel(model)\n",
    "\n",
    "if torch.cuda.is_available():\n",
    "    map_location=lambda storage, loc: storage.cuda()\n",
    "else:\n",
    "    map_location='cpu'\n",
    "    \n",
    "model.load_state_dict(torch.load(p_, map_location=torch.device('cpu')))"
   ],
   "outputs": [],
   "metadata": {}
  },
  {
   "cell_type": "markdown",
   "source": [
    "## Load sample data\n",
    "### Either random or UKBB sample subject\n",
    "\n",
    "### eid\tsex\tbirth_year\tT1-ses2\tT1-ses3\tethnicity\tage_at_ses2\tage_at_ses3\tage_at_recruitment\n",
    "\t\t\t\t\t\t\t\t\n",
    "- 1004084\t1.0\t1947.0\t20252_2_0\t20252_3_0\t1001.0\t70.0\t72.0\t60.0\n",
    "- 1010063\t0.0\t1964.0\t20252_2_0\t20252_3_0\t1001.0\t53.0\t55.0\t45.\n",
    "\n"
   ],
   "metadata": {}
  },
  {
   "cell_type": "code",
   "execution_count": null,
   "source": [
    "use_random_scan = False\n",
    "\n",
    "subject_age_dict = {\"sub-1010063\": 53, \n",
    "                    \"sub-1004084\": 70}\n",
    "\n",
    "\n",
    "if use_random_scan: \n",
    "    print(\"Generating a random scan...\")\n",
    "    data = np.ones([182, 218, 182]).astype(np.float)\n",
    "    #data = np.random.rand(182, 218, 182)\n",
    "    label = np.array([71.3,]) # Assuming the random subject is 71.3-year-old.\n",
    "\n",
    "else:\n",
    "    # Sample subject needs to be in the MNI space\n",
    "    subject_id = \"sub-1004084\" #\"sub-1010063\" #\"sub-1004084\"\n",
    "    scan_session = \"ses-2\"\n",
    "\n",
    "    print(f\"Using a sample scan from ukbb: {subject_id}\")\n",
    "    subject_dir = f\"{data_dir}imaging/ukbb_test_subject/{subject_id}/{scan_session}/non-bids/T1/\"\n",
    "    T1_mni = f\"{subject_dir}T1_brain_to_MNI.nii.gz\"\n",
    "\n",
    "    ukbb_follow_up_csv = f\"{data_dir}tabular/tab_follow_up.csv\"\n",
    "    ukbb_metadata = pd.read_csv(ukbb_follow_up_csv)\n",
    "\n",
    "    data = nib.load(T1_mni).get_fdata()\n",
    "    print(f\"image shape: {data.shape}\")\n",
    "    print(f\"image mean: {np.mean(data.ravel())}\")\n",
    "\n",
    "    # Age at scanning\n",
    "    age = subject_age_dict[subject_id]\n",
    "    label = np.array([age,])\n",
    "\n",
    "\n",
    "# Transforming the age to soft label (probability distribution)\n",
    "# Changing this range will shift the predicted age because prediction is treated as classification problem with n_classes = n_bins\n",
    "bin_range = [42,82]\n",
    "\n",
    "bin_step = 1\n",
    "sigma = 1\n",
    "y, bc = dpu.num2vect(label, bin_range, bin_step, sigma)\n",
    "y = torch.tensor(y, dtype=torch.float32)\n",
    "print(f'Label shape: {y.shape}')"
   ],
   "outputs": [],
   "metadata": {}
  },
  {
   "cell_type": "code",
   "execution_count": null,
   "source": [
    "def get_brain_age(input_data, model, bc):\n",
    "    \"\"\" Function to get brain age from T1w MRI (linear reg to MNI space) and SFCN model checkpoint\n",
    "    \"\"\"\n",
    "    model.eval() \n",
    "    with torch.no_grad():\n",
    "        output = model.module(input_data)\n",
    "\n",
    "    # Output, loss, visualisation\n",
    "    x = output[0].reshape([1, -1])\n",
    "\n",
    "    x = x.numpy().reshape(-1)\n",
    "    prob = np.exp(x)\n",
    "    pred = prob@bc\n",
    "\n",
    "    return prob, pred\n",
    "\n",
    "def preproc_images(img, crop_shape=(160, 192, 160)):\n",
    "    \"\"\" Function to preprocess T1w scan as expected by SFCN\n",
    "    \"\"\"\n",
    "    img = img/img.mean()\n",
    "    img = dpu.crop_center(img, crop_shape)\n",
    "\n",
    "    # Move the img from numpy to torch tensor\n",
    "    sp = (1,1)+img.shape\n",
    "    img = img.reshape(sp)\n",
    "    input_data = torch.tensor(img, dtype=torch.float32)\n",
    "\n",
    "    return input_data\n",
    "        "
   ],
   "outputs": [],
   "metadata": {}
  },
  {
   "cell_type": "code",
   "execution_count": null,
   "source": [
    "input_data = preproc_images(data)\n",
    "prob, pred = get_brain_age(input_data, model, bc)\n",
    "\n",
    "print(f\"pred: {pred}, label = {label}\")"
   ],
   "outputs": [],
   "metadata": {}
  },
  {
   "cell_type": "code",
   "execution_count": null,
   "source": [
    "input_data = preproc_images(data)\n",
    "prob, pred = get_brain_age(input_data, model, bc)\n",
    "\n",
    "print(f\"pred: {pred}, label = {label}\")"
   ],
   "outputs": [],
   "metadata": {}
  },
  {
   "cell_type": "markdown",
   "source": [
    "## Plots"
   ],
   "metadata": {}
  },
  {
   "cell_type": "code",
   "execution_count": null,
   "source": [
    "plt.bar(bc, y)\n",
    "plt.title('Soft label')\n",
    "plt.show()\n",
    "\n",
    "plt.bar(bc, prob)\n",
    "plt.title(f'Prediction: age={pred:.2f}\\nloss={loss}')\n",
    "plt.show()"
   ],
   "outputs": [],
   "metadata": {}
  },
  {
   "cell_type": "code",
   "execution_count": null,
   "source": [],
   "outputs": [],
   "metadata": {}
  }
 ],
 "metadata": {
  "orig_nbformat": 4,
  "language_info": {
   "name": "python",
   "version": "3.7.0",
   "mimetype": "text/x-python",
   "codemirror_mode": {
    "name": "ipython",
    "version": 3
   },
   "pygments_lexer": "ipython3",
   "nbconvert_exporter": "python",
   "file_extension": ".py"
  },
  "kernelspec": {
   "name": "python3",
   "display_name": "Python 3.7.0 64-bit ('green_compute': venv)"
  },
  "interpreter": {
   "hash": "96e4927380308772faf387ce1ad6de9eaed4a7d7aadcf2622a8269a7d5f191c8"
  }
 },
 "nbformat": 4,
 "nbformat_minor": 2
}