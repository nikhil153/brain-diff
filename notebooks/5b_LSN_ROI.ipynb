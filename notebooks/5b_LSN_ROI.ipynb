{
 "cells": [
  {
   "cell_type": "code",
   "execution_count": 1,
   "source": [
    "import sys\n",
    "import numpy as np\n",
    "import pandas as pd\n",
    "import seaborn as sns\n",
    "import nibabel as nib\n",
    "import random\n",
    "import torch\n",
    "import torch.nn.functional as F\n",
    "from torch.utils.data import Dataset, DataLoader, random_split\n",
    "import torch.nn as nn\n",
    "import torch.optim as optim\n",
    "\n",
    "import dask.dataframe as dd\n",
    "\n",
    "sys.path.append(\"../\")\n",
    "from src.utils import *\n",
    "from src.LSN_roi import *\n",
    "\n",
    "from models import dp_loss as dpl\n",
    "from models import dp_utils as dpu\n",
    "\n",
    "from sklearn.model_selection import train_test_split\n",
    "import matplotlib.pyplot as plt"
   ],
   "outputs": [],
   "metadata": {}
  },
  {
   "cell_type": "markdown",
   "source": [
    "## Paths"
   ],
   "metadata": {}
  },
  {
   "cell_type": "code",
   "execution_count": 2,
   "source": [
    "project_dir = \"../\"\n",
    "data_dir = \"/home/nikhil/projects/brain_changes/data/ukbb/\"\n",
    "\n",
    "freesurfer_csv = f\"{data_dir}imaging/freesurfer/ukb47552_followup_subset.csv\"\n",
    "\n",
    "train_csv = f\"{project_dir}metadata/metadata_train.csv\"\n",
    "test_csv = f\"{project_dir}metadata/metadata_test.csv\"\n",
    "\n",
    "freesurfer_fields = f\"{project_dir}/metadata/ukbb_freesurfer_fields.txt\"\n"
   ],
   "outputs": [],
   "metadata": {}
  },
  {
   "cell_type": "markdown",
   "source": [
    "## Filter followup subject using Dask dataframe (pandas will crash)"
   ],
   "metadata": {}
  },
  {
   "cell_type": "code",
   "execution_count": 3,
   "source": [
    "# import dask.dataframe as dd\n",
    "\n",
    "# # Grab eids with ses-3 data\n",
    "# freesurfer_df = pd.read_csv(freesurfer_csv,usecols=[\"eid\",\"26501-3.0\"])\n",
    "# freesurfer_eids = freesurfer_df[~freesurfer_df[\"26501-3.0\"].isna()][\"eid\"]\n",
    "\n",
    "# # Read entire CSV using dask\n",
    "# freesurfer_df = dd.read_csv(freesurfer_csv)\n",
    "# followup_freesurfer_df = freesurfer_df[freesurfer_df[\"eid\"].isin(freesurfer_eids)].compute()\n",
    "\n",
    "# # Save filtered df\n",
    "# followup_freesurfer_df.to_csv(f\"{data_dir}imaging/freesurfer/ukb47552_followup_subset.csv\")"
   ],
   "outputs": [],
   "metadata": {}
  },
  {
   "cell_type": "markdown",
   "source": [
    "## Grab phenotype fields (e.g. Thicknes, Volume, Area)"
   ],
   "metadata": {}
  },
  {
   "cell_type": "code",
   "execution_count": 4,
   "source": [
    "freesurfer_fields_df = pd.read_csv(freesurfer_fields,sep=\"\t\")\n",
    "freesurfer_fields_df[\"phenotype\"] = freesurfer_fields_df[\"Description\"].str.split(\" \",1,expand=True)[0]\n",
    "freesurfer_fields_df[\"phenotype\"] = freesurfer_fields_df[\"phenotype\"].replace({\"Mean\":\"Mean Thickness\"})\n",
    "CT_fields = freesurfer_fields_df[freesurfer_fields_df[\"phenotype\"]==\"Mean Thickness\"][\"Field ID\"]\n",
    "volume_fields = freesurfer_fields_df[freesurfer_fields_df[\"phenotype\"]==\"Volume\"][\"Field ID\"]\n",
    "\n",
    "print(f\"number of CT fields: {len(CT_fields)}, volume fields: {len(volume_fields)}\")"
   ],
   "outputs": [
    {
     "output_type": "stream",
     "name": "stdout",
     "text": [
      "number of CT fields: 62, volume fields: 62\n"
     ]
    }
   ],
   "metadata": {}
  },
  {
   "cell_type": "markdown",
   "source": [
    "## Read DKT volumes "
   ],
   "metadata": {}
  },
  {
   "cell_type": "code",
   "execution_count": 5,
   "source": [
    "pheno_fields = CT_fields # + volume_fields\n",
    "pheno_cols_ses2 = list(pheno_fields.astype(str) + \"-2.0\")\n",
    "pheno_cols_ses3 = list(pheno_fields.astype(str) + \"-3.0\")\n",
    "usecols = [\"eid\"] + pheno_cols_ses2 + pheno_cols_ses3\n",
    "\n",
    "print(f\"reading {len(usecols)} columes\")\n",
    "\n",
    "freesurfer_df = pd.read_csv(freesurfer_csv, usecols=usecols)\n",
    "\n",
    "# Remove eids with missing 2nd or 3rd ses data\n",
    "eid_missing_data = freesurfer_df[freesurfer_df.isna().any(axis=1)][\"eid\"].values\n",
    "print(f\"number participants missing 2nd or 3rd ses freesurfer data: {len(eid_missing_data)}\")\n",
    "\n",
    "freesurfer_eids = freesurfer_df[~freesurfer_df[\"eid\"].isin(eid_missing_data)][\"eid\"].values\n",
    "\n",
    "freesurfer_df.head()"
   ],
   "outputs": [
    {
     "output_type": "stream",
     "name": "stdout",
     "text": [
      "reading 125 columes\n",
      "number participants missing 2nd or 3rd ses freesurfer data: 63\n"
     ]
    },
    {
     "output_type": "execute_result",
     "data": {
      "text/plain": [
       "       eid  27174-2.0  27174-3.0  27175-2.0  27175-3.0  27176-2.0  27176-3.0  \\\n",
       "0  1000635      2.786      2.874      2.910      2.852      2.275      2.307   \n",
       "1  1008391      3.191      2.875      3.080      3.037      2.273      2.143   \n",
       "2  1010129      2.329      1.870      2.836      2.798      1.995      1.943   \n",
       "3  1010994      2.785      2.581      2.671      2.603      2.060      1.819   \n",
       "4  1013774      2.963      3.191      2.617      2.856      2.035      2.050   \n",
       "\n",
       "   27177-2.0  27177-3.0  27178-2.0  ...  27293-2.0  27293-3.0  27294-2.0  \\\n",
       "0      3.389      3.379      2.836  ...      2.387      2.435      2.967   \n",
       "1      3.004      2.571      2.846  ...      2.588      2.592      3.073   \n",
       "2      3.302      3.193      2.812  ...      2.376      2.395      3.081   \n",
       "3      3.144      3.225      2.793  ...      2.513      2.416      2.919   \n",
       "4      2.751      3.385      2.830  ...      2.274      2.403      3.041   \n",
       "\n",
       "   27294-3.0  27295-2.0  27295-3.0  27296-2.0  27296-3.0  27297-2.0  27297-3.0  \n",
       "0      2.958      2.707      2.628      2.229      2.142      2.875      2.750  \n",
       "1      2.859      2.839      2.770      3.086      3.322      3.255      3.003  \n",
       "2      3.086      2.993      2.945      3.016      3.032      3.193      3.168  \n",
       "3      2.881      2.654      2.581      2.088      2.161      2.912      2.866  \n",
       "4      3.008      2.635      2.737      2.527      2.696      2.983      3.263  \n",
       "\n",
       "[5 rows x 125 columns]"
      ],
      "text/html": [
       "<div>\n",
       "<style scoped>\n",
       "    .dataframe tbody tr th:only-of-type {\n",
       "        vertical-align: middle;\n",
       "    }\n",
       "\n",
       "    .dataframe tbody tr th {\n",
       "        vertical-align: top;\n",
       "    }\n",
       "\n",
       "    .dataframe thead th {\n",
       "        text-align: right;\n",
       "    }\n",
       "</style>\n",
       "<table border=\"1\" class=\"dataframe\">\n",
       "  <thead>\n",
       "    <tr style=\"text-align: right;\">\n",
       "      <th></th>\n",
       "      <th>eid</th>\n",
       "      <th>27174-2.0</th>\n",
       "      <th>27174-3.0</th>\n",
       "      <th>27175-2.0</th>\n",
       "      <th>27175-3.0</th>\n",
       "      <th>27176-2.0</th>\n",
       "      <th>27176-3.0</th>\n",
       "      <th>27177-2.0</th>\n",
       "      <th>27177-3.0</th>\n",
       "      <th>27178-2.0</th>\n",
       "      <th>...</th>\n",
       "      <th>27293-2.0</th>\n",
       "      <th>27293-3.0</th>\n",
       "      <th>27294-2.0</th>\n",
       "      <th>27294-3.0</th>\n",
       "      <th>27295-2.0</th>\n",
       "      <th>27295-3.0</th>\n",
       "      <th>27296-2.0</th>\n",
       "      <th>27296-3.0</th>\n",
       "      <th>27297-2.0</th>\n",
       "      <th>27297-3.0</th>\n",
       "    </tr>\n",
       "  </thead>\n",
       "  <tbody>\n",
       "    <tr>\n",
       "      <th>0</th>\n",
       "      <td>1000635</td>\n",
       "      <td>2.786</td>\n",
       "      <td>2.874</td>\n",
       "      <td>2.910</td>\n",
       "      <td>2.852</td>\n",
       "      <td>2.275</td>\n",
       "      <td>2.307</td>\n",
       "      <td>3.389</td>\n",
       "      <td>3.379</td>\n",
       "      <td>2.836</td>\n",
       "      <td>...</td>\n",
       "      <td>2.387</td>\n",
       "      <td>2.435</td>\n",
       "      <td>2.967</td>\n",
       "      <td>2.958</td>\n",
       "      <td>2.707</td>\n",
       "      <td>2.628</td>\n",
       "      <td>2.229</td>\n",
       "      <td>2.142</td>\n",
       "      <td>2.875</td>\n",
       "      <td>2.750</td>\n",
       "    </tr>\n",
       "    <tr>\n",
       "      <th>1</th>\n",
       "      <td>1008391</td>\n",
       "      <td>3.191</td>\n",
       "      <td>2.875</td>\n",
       "      <td>3.080</td>\n",
       "      <td>3.037</td>\n",
       "      <td>2.273</td>\n",
       "      <td>2.143</td>\n",
       "      <td>3.004</td>\n",
       "      <td>2.571</td>\n",
       "      <td>2.846</td>\n",
       "      <td>...</td>\n",
       "      <td>2.588</td>\n",
       "      <td>2.592</td>\n",
       "      <td>3.073</td>\n",
       "      <td>2.859</td>\n",
       "      <td>2.839</td>\n",
       "      <td>2.770</td>\n",
       "      <td>3.086</td>\n",
       "      <td>3.322</td>\n",
       "      <td>3.255</td>\n",
       "      <td>3.003</td>\n",
       "    </tr>\n",
       "    <tr>\n",
       "      <th>2</th>\n",
       "      <td>1010129</td>\n",
       "      <td>2.329</td>\n",
       "      <td>1.870</td>\n",
       "      <td>2.836</td>\n",
       "      <td>2.798</td>\n",
       "      <td>1.995</td>\n",
       "      <td>1.943</td>\n",
       "      <td>3.302</td>\n",
       "      <td>3.193</td>\n",
       "      <td>2.812</td>\n",
       "      <td>...</td>\n",
       "      <td>2.376</td>\n",
       "      <td>2.395</td>\n",
       "      <td>3.081</td>\n",
       "      <td>3.086</td>\n",
       "      <td>2.993</td>\n",
       "      <td>2.945</td>\n",
       "      <td>3.016</td>\n",
       "      <td>3.032</td>\n",
       "      <td>3.193</td>\n",
       "      <td>3.168</td>\n",
       "    </tr>\n",
       "    <tr>\n",
       "      <th>3</th>\n",
       "      <td>1010994</td>\n",
       "      <td>2.785</td>\n",
       "      <td>2.581</td>\n",
       "      <td>2.671</td>\n",
       "      <td>2.603</td>\n",
       "      <td>2.060</td>\n",
       "      <td>1.819</td>\n",
       "      <td>3.144</td>\n",
       "      <td>3.225</td>\n",
       "      <td>2.793</td>\n",
       "      <td>...</td>\n",
       "      <td>2.513</td>\n",
       "      <td>2.416</td>\n",
       "      <td>2.919</td>\n",
       "      <td>2.881</td>\n",
       "      <td>2.654</td>\n",
       "      <td>2.581</td>\n",
       "      <td>2.088</td>\n",
       "      <td>2.161</td>\n",
       "      <td>2.912</td>\n",
       "      <td>2.866</td>\n",
       "    </tr>\n",
       "    <tr>\n",
       "      <th>4</th>\n",
       "      <td>1013774</td>\n",
       "      <td>2.963</td>\n",
       "      <td>3.191</td>\n",
       "      <td>2.617</td>\n",
       "      <td>2.856</td>\n",
       "      <td>2.035</td>\n",
       "      <td>2.050</td>\n",
       "      <td>2.751</td>\n",
       "      <td>3.385</td>\n",
       "      <td>2.830</td>\n",
       "      <td>...</td>\n",
       "      <td>2.274</td>\n",
       "      <td>2.403</td>\n",
       "      <td>3.041</td>\n",
       "      <td>3.008</td>\n",
       "      <td>2.635</td>\n",
       "      <td>2.737</td>\n",
       "      <td>2.527</td>\n",
       "      <td>2.696</td>\n",
       "      <td>2.983</td>\n",
       "      <td>3.263</td>\n",
       "    </tr>\n",
       "  </tbody>\n",
       "</table>\n",
       "<p>5 rows × 125 columns</p>\n",
       "</div>"
      ]
     },
     "metadata": {},
     "execution_count": 5
    }
   ],
   "metadata": {}
  },
  {
   "cell_type": "code",
   "execution_count": 6,
   "source": [
    "train_df = pd.read_csv(train_csv)\n",
    "train_eids = train_df[\"eid\"]\n",
    "train_eids_avail = set(train_eids) & set(freesurfer_eids)\n",
    "train_df = train_df[train_df[\"eid\"].isin(train_eids_avail)].reset_index()\n",
    "\n",
    "test_df = pd.read_csv(test_csv)\n",
    "test_eids = test_df[\"eid\"]\n",
    "test_eids_avail = set(test_eids) & set(freesurfer_eids)\n",
    "test_df = test_df[test_df[\"eid\"].isin(test_eids_avail)].reset_index()\n",
    "\n",
    "print(f\"train samples: {len(train_eids)}, freesurfer data available: {len(train_eids_avail)}\")\n",
    "print(f\"test samples: {len(test_eids)}, freesurfer data available: {len(test_eids_avail)}\")"
   ],
   "outputs": [
    {
     "output_type": "stream",
     "name": "stdout",
     "text": [
      "train samples: 2145, freesurfer data available: 1909\n",
      "test samples: 1057, freesurfer data available: 958\n"
     ]
    }
   ],
   "metadata": {}
  },
  {
   "cell_type": "markdown",
   "source": [
    "## Data-loaders"
   ],
   "metadata": {}
  },
  {
   "cell_type": "code",
   "execution_count": 7,
   "source": [
    "# n_samples = 50\n",
    "\n",
    "batch_size = 100\n",
    "transform = \"random_swap\"\n",
    "\n",
    "usecols = [\"eid\"] + pheno_cols_ses2 + pheno_cols_ses3\n",
    "\n",
    "data_df = pd.read_csv(freesurfer_csv, usecols=usecols)\n",
    "\n",
    "train_dataset = UKBB_ROI_Dataset(train_df, data_df, pheno_cols_ses2, pheno_cols_ses3, transform=transform)\n",
    "train_dataloader = DataLoader(train_dataset, batch_size=batch_size, shuffle=True)\n",
    "\n",
    "test_dataset = UKBB_ROI_Dataset(test_df, data_df, pheno_cols_ses2, pheno_cols_ses3, transform=None)\n",
    "test_dataloader = DataLoader(test_dataset, batch_size=1, shuffle=False)\n",
    "\n",
    "# iter(train_dataloader).next()\n",
    "print(f\"len train dataset: {len(train_dataset)}, test dataset: {len(test_dataset)}\")"
   ],
   "outputs": [
    {
     "output_type": "stream",
     "name": "stdout",
     "text": [
      "len train dataset: 1909, test dataset: 958\n"
     ]
    }
   ],
   "metadata": {}
  },
  {
   "cell_type": "markdown",
   "source": [
    "## CUDA"
   ],
   "metadata": {}
  },
  {
   "cell_type": "code",
   "execution_count": 8,
   "source": [
    "device = torch.device(\"cuda:0\" if torch.cuda.is_available() else \"cpu\")\n",
    "\n",
    "if torch.cuda.is_available():\n",
    "    map_location=lambda storage, loc: storage.cuda()\n",
    "else:\n",
    "    map_location='cpu'"
   ],
   "outputs": [],
   "metadata": {}
  },
  {
   "cell_type": "markdown",
   "source": [
    "## Train model "
   ],
   "metadata": {}
  },
  {
   "cell_type": "code",
   "execution_count": 9,
   "source": [
    "n_epochs = 1\n",
    "input_size = len(pheno_cols_ses2)\n",
    "hidden_size = 25\n",
    "lr = 0.001\n",
    "\n",
    "model = LSN_FF(input_size,hidden_size=hidden_size) # alternative toy model: LSN()\n",
    "model.train()\n",
    "\n",
    "optimizer = optim.SGD(model.parameters(), lr=lr, momentum=0.5)                                                                                               \n",
    "criterion = nn.MSELoss()                        \n",
    "\n",
    "# using subset of train dataloader for debug\n",
    "model, batch_loss_df, epoch_loss_df = train(model,train_dataloader,optimizer,criterion,n_epochs)"
   ],
   "outputs": [
    {
     "output_type": "stream",
     "name": "stdout",
     "text": [
      "Starting epoch 1\n",
      "epoch 0 loss: 0.2941\n"
     ]
    }
   ],
   "metadata": {}
  },
  {
   "cell_type": "code",
   "execution_count": 10,
   "source": [
    "# train time: 373s before dask\n",
    "\n",
    "plt.plot(epoch_loss_df)\n",
    "epoch_loss_df"
   ],
   "outputs": [
    {
     "output_type": "execute_result",
     "data": {
      "text/plain": [
       "   epoch_loss\n",
       "0    0.294067"
      ],
      "text/html": [
       "<div>\n",
       "<style scoped>\n",
       "    .dataframe tbody tr th:only-of-type {\n",
       "        vertical-align: middle;\n",
       "    }\n",
       "\n",
       "    .dataframe tbody tr th {\n",
       "        vertical-align: top;\n",
       "    }\n",
       "\n",
       "    .dataframe thead th {\n",
       "        text-align: right;\n",
       "    }\n",
       "</style>\n",
       "<table border=\"1\" class=\"dataframe\">\n",
       "  <thead>\n",
       "    <tr style=\"text-align: right;\">\n",
       "      <th></th>\n",
       "      <th>epoch_loss</th>\n",
       "    </tr>\n",
       "  </thead>\n",
       "  <tbody>\n",
       "    <tr>\n",
       "      <th>0</th>\n",
       "      <td>0.294067</td>\n",
       "    </tr>\n",
       "  </tbody>\n",
       "</table>\n",
       "</div>"
      ]
     },
     "metadata": {},
     "execution_count": 10
    },
    {
     "output_type": "display_data",
     "data": {
      "text/plain": [
       "<Figure size 432x288 with 1 Axes>"
      ],
      "image/png": "[encoded data removed]"
     },
     "metadata": {
      "needs_background": "light"
     }
    }
   ],
   "metadata": {}
  },
  {
   "cell_type": "markdown",
   "source": [
    "## Test perf"
   ],
   "metadata": {}
  },
  {
   "cell_type": "code",
   "execution_count": 11,
   "source": [
    "y_test = test_df[[\"age_at_ses2\", \"age_at_ses3\"]].values #[:n_samples]\n",
    "\n",
    "model.eval()\n",
    "\n",
    "batch_pred_list, test_MAE1, test_MAE2 = test(model, test_dataloader)\n",
    "y_pred = np.squeeze(np.vstack(batch_pred_list))\n",
    "\n",
    "test_r1 = stats.pearsonr(y_pred[:,0],y_test[:,0])[0]\n",
    "test_r2 = stats.pearsonr(y_pred[:,1],y_test[:,1])[0]   \n",
    "\n",
    "test_age_1 = y_test[:,0]\n",
    "test_age_2 = y_test[:,1]\n",
    "\n",
    "test_brainage_1 = y_pred[:,0] # for two timepoints y is a matrix\n",
    "test_brainage_2 = y_pred[:,1]                                    \n",
    "\n",
    "df = pd.DataFrame()\n",
    "df[\"eid\"] = np.arange(len(y_test))\n",
    "df[\"test_age_1\"] = test_age_1\n",
    "df[\"test_age_2\"] = test_age_2\n",
    "df[\"test_brainage_1\"] = test_brainage_1\n",
    "df[\"test_brainage_2\"] = test_brainage_2\n",
    "df[\"test_MAE1\"] = test_MAE1                    \n",
    "df[\"test_MAE2\"] = test_MAE2\n",
    "df[\"test_r1\"] = test_r1\n",
    "df[\"test_r2\"] = test_r2"
   ],
   "outputs": [
    {
     "output_type": "stream",
     "name": "stderr",
     "text": [
      "/home/nikhil/projects/green_comp_neuro/green_compute/lib/python3.7/site-packages/scipy/stats/stats.py:3399: PearsonRConstantInputWarning: An input array is constant; the correlation coefficent is not defined.\n",
      "  warnings.warn(PearsonRConstantInputWarning())\n"
     ]
    }
   ],
   "metadata": {}
  },
  {
   "cell_type": "code",
   "execution_count": 12,
   "source": [
    "df"
   ],
   "outputs": [
    {
     "output_type": "execute_result",
     "data": {
      "text/plain": [
       "     eid  test_age_1  test_age_2  test_brainage_1  test_brainage_2  test_MAE1  \\\n",
       "0      0        66.0        68.0        24.305588              0.0  41.694412   \n",
       "1      1        61.0        63.0        24.184656              0.0  36.815346   \n",
       "2      2        61.0        63.0        24.624374              0.0  36.375626   \n",
       "3      3        51.0        53.0        24.900249              0.0  26.099751   \n",
       "4      4        58.0        60.0        25.079588              0.0  32.920410   \n",
       "..   ...         ...         ...              ...              ...        ...   \n",
       "953  953        67.0        69.0        25.110487              0.0  41.889511   \n",
       "954  954        77.0        79.0        24.664156              0.0  52.335846   \n",
       "955  955        52.0        55.0        25.207457              0.0  26.792543   \n",
       "956  956        66.0        68.0        25.046482              0.0  40.953518   \n",
       "957  957        69.0        72.0        24.789318              0.0  44.210682   \n",
       "\n",
       "     test_MAE2   test_r1  test_r2  \n",
       "0    68.000000 -0.284071      NaN  \n",
       "1    63.000000 -0.284071      NaN  \n",
       "2    63.000000 -0.284071      NaN  \n",
       "3    52.999996 -0.284071      NaN  \n",
       "4    60.000004 -0.284071      NaN  \n",
       "..         ...       ...      ...  \n",
       "953  69.000000 -0.284071      NaN  \n",
       "954  79.000000 -0.284071      NaN  \n",
       "955  55.000000 -0.284071      NaN  \n",
       "956  68.000000 -0.284071      NaN  \n",
       "957  72.000000 -0.284071      NaN  \n",
       "\n",
       "[958 rows x 9 columns]"
      ],
      "text/html": [
       "<div>\n",
       "<style scoped>\n",
       "    .dataframe tbody tr th:only-of-type {\n",
       "        vertical-align: middle;\n",
       "    }\n",
       "\n",
       "    .dataframe tbody tr th {\n",
       "        vertical-align: top;\n",
       "    }\n",
       "\n",
       "    .dataframe thead th {\n",
       "        text-align: right;\n",
       "    }\n",
       "</style>\n",
       "<table border=\"1\" class=\"dataframe\">\n",
       "  <thead>\n",
       "    <tr style=\"text-align: right;\">\n",
       "      <th></th>\n",
       "      <th>eid</th>\n",
       "      <th>test_age_1</th>\n",
       "      <th>test_age_2</th>\n",
       "      <th>test_brainage_1</th>\n",
       "      <th>test_brainage_2</th>\n",
       "      <th>test_MAE1</th>\n",
       "      <th>test_MAE2</th>\n",
       "      <th>test_r1</th>\n",
       "      <th>test_r2</th>\n",
       "    </tr>\n",
       "  </thead>\n",
       "  <tbody>\n",
       "    <tr>\n",
       "      <th>0</th>\n",
       "      <td>0</td>\n",
       "      <td>66.0</td>\n",
       "      <td>68.0</td>\n",
       "      <td>24.305588</td>\n",
       "      <td>0.0</td>\n",
       "      <td>41.694412</td>\n",
       "      <td>68.000000</td>\n",
       "      <td>-0.284071</td>\n",
       "      <td>NaN</td>\n",
       "    </tr>\n",
       "    <tr>\n",
       "      <th>1</th>\n",
       "      <td>1</td>\n",
       "      <td>61.0</td>\n",
       "      <td>63.0</td>\n",
       "      <td>24.184656</td>\n",
       "      <td>0.0</td>\n",
       "      <td>36.815346</td>\n",
       "      <td>63.000000</td>\n",
       "      <td>-0.284071</td>\n",
       "      <td>NaN</td>\n",
       "    </tr>\n",
       "    <tr>\n",
       "      <th>2</th>\n",
       "      <td>2</td>\n",
       "      <td>61.0</td>\n",
       "      <td>63.0</td>\n",
       "      <td>24.624374</td>\n",
       "      <td>0.0</td>\n",
       "      <td>36.375626</td>\n",
       "      <td>63.000000</td>\n",
       "      <td>-0.284071</td>\n",
       "      <td>NaN</td>\n",
       "    </tr>\n",
       "    <tr>\n",
       "      <th>3</th>\n",
       "      <td>3</td>\n",
       "      <td>51.0</td>\n",
       "      <td>53.0</td>\n",
       "      <td>24.900249</td>\n",
       "      <td>0.0</td>\n",
       "      <td>26.099751</td>\n",
       "      <td>52.999996</td>\n",
       "      <td>-0.284071</td>\n",
       "      <td>NaN</td>\n",
       "    </tr>\n",
       "    <tr>\n",
       "      <th>4</th>\n",
       "      <td>4</td>\n",
       "      <td>58.0</td>\n",
       "      <td>60.0</td>\n",
       "      <td>25.079588</td>\n",
       "      <td>0.0</td>\n",
       "      <td>32.920410</td>\n",
       "      <td>60.000004</td>\n",
       "      <td>-0.284071</td>\n",
       "      <td>NaN</td>\n",
       "    </tr>\n",
       "    <tr>\n",
       "      <th>...</th>\n",
       "      <td>...</td>\n",
       "      <td>...</td>\n",
       "      <td>...</td>\n",
       "      <td>...</td>\n",
       "      <td>...</td>\n",
       "      <td>...</td>\n",
       "      <td>...</td>\n",
       "      <td>...</td>\n",
       "      <td>...</td>\n",
       "    </tr>\n",
       "    <tr>\n",
       "      <th>953</th>\n",
       "      <td>953</td>\n",
       "      <td>67.0</td>\n",
       "      <td>69.0</td>\n",
       "      <td>25.110487</td>\n",
       "      <td>0.0</td>\n",
       "      <td>41.889511</td>\n",
       "      <td>69.000000</td>\n",
       "      <td>-0.284071</td>\n",
       "      <td>NaN</td>\n",
       "    </tr>\n",
       "    <tr>\n",
       "      <th>954</th>\n",
       "      <td>954</td>\n",
       "      <td>77.0</td>\n",
       "      <td>79.0</td>\n",
       "      <td>24.664156</td>\n",
       "      <td>0.0</td>\n",
       "      <td>52.335846</td>\n",
       "      <td>79.000000</td>\n",
       "      <td>-0.284071</td>\n",
       "      <td>NaN</td>\n",
       "    </tr>\n",
       "    <tr>\n",
       "      <th>955</th>\n",
       "      <td>955</td>\n",
       "      <td>52.0</td>\n",
       "      <td>55.0</td>\n",
       "      <td>25.207457</td>\n",
       "      <td>0.0</td>\n",
       "      <td>26.792543</td>\n",
       "      <td>55.000000</td>\n",
       "      <td>-0.284071</td>\n",
       "      <td>NaN</td>\n",
       "    </tr>\n",
       "    <tr>\n",
       "      <th>956</th>\n",
       "      <td>956</td>\n",
       "      <td>66.0</td>\n",
       "      <td>68.0</td>\n",
       "      <td>25.046482</td>\n",
       "      <td>0.0</td>\n",
       "      <td>40.953518</td>\n",
       "      <td>68.000000</td>\n",
       "      <td>-0.284071</td>\n",
       "      <td>NaN</td>\n",
       "    </tr>\n",
       "    <tr>\n",
       "      <th>957</th>\n",
       "      <td>957</td>\n",
       "      <td>69.0</td>\n",
       "      <td>72.0</td>\n",
       "      <td>24.789318</td>\n",
       "      <td>0.0</td>\n",
       "      <td>44.210682</td>\n",
       "      <td>72.000000</td>\n",
       "      <td>-0.284071</td>\n",
       "      <td>NaN</td>\n",
       "    </tr>\n",
       "  </tbody>\n",
       "</table>\n",
       "<p>958 rows × 9 columns</p>\n",
       "</div>"
      ]
     },
     "metadata": {},
     "execution_count": 12
    }
   ],
   "metadata": {}
  },
  {
   "cell_type": "markdown",
   "source": [
    "## Generate configs for CC runs"
   ],
   "metadata": {}
  },
  {
   "cell_type": "code",
   "execution_count": 13,
   "source": [
    "config_df = pd.DataFrame(columns=[\"hidden_size\",\"transform\",\"phenotype\"])\n",
    "hidden_size_list = [10,50,100]\n",
    "transform_list = [None, \"random_swap\"]\n",
    "phenotype_list = [\"CT\",\"volume\",\"both\"]\n",
    "\n",
    "i = 0\n",
    "for hidden_size in hidden_size_list:\n",
    "    for transform in transform_list:\n",
    "        for phenotype in phenotype_list:\n",
    "            config_df.loc[i] = [hidden_size,transform,phenotype]\n",
    "            i += 1\n",
    "\n",
    "config_df.head()"
   ],
   "outputs": [
    {
     "output_type": "execute_result",
     "data": {
      "text/plain": [
       "  hidden_size    transform phenotype\n",
       "0          10         None        CT\n",
       "1          10         None    volume\n",
       "2          10         None      both\n",
       "3          10  random_swap        CT\n",
       "4          10  random_swap    volume"
      ],
      "text/html": [
       "<div>\n",
       "<style scoped>\n",
       "    .dataframe tbody tr th:only-of-type {\n",
       "        vertical-align: middle;\n",
       "    }\n",
       "\n",
       "    .dataframe tbody tr th {\n",
       "        vertical-align: top;\n",
       "    }\n",
       "\n",
       "    .dataframe thead th {\n",
       "        text-align: right;\n",
       "    }\n",
       "</style>\n",
       "<table border=\"1\" class=\"dataframe\">\n",
       "  <thead>\n",
       "    <tr style=\"text-align: right;\">\n",
       "      <th></th>\n",
       "      <th>hidden_size</th>\n",
       "      <th>transform</th>\n",
       "      <th>phenotype</th>\n",
       "    </tr>\n",
       "  </thead>\n",
       "  <tbody>\n",
       "    <tr>\n",
       "      <th>0</th>\n",
       "      <td>10</td>\n",
       "      <td>None</td>\n",
       "      <td>CT</td>\n",
       "    </tr>\n",
       "    <tr>\n",
       "      <th>1</th>\n",
       "      <td>10</td>\n",
       "      <td>None</td>\n",
       "      <td>volume</td>\n",
       "    </tr>\n",
       "    <tr>\n",
       "      <th>2</th>\n",
       "      <td>10</td>\n",
       "      <td>None</td>\n",
       "      <td>both</td>\n",
       "    </tr>\n",
       "    <tr>\n",
       "      <th>3</th>\n",
       "      <td>10</td>\n",
       "      <td>random_swap</td>\n",
       "      <td>CT</td>\n",
       "    </tr>\n",
       "    <tr>\n",
       "      <th>4</th>\n",
       "      <td>10</td>\n",
       "      <td>random_swap</td>\n",
       "      <td>volume</td>\n",
       "    </tr>\n",
       "  </tbody>\n",
       "</table>\n",
       "</div>"
      ]
     },
     "metadata": {},
     "execution_count": 13
    }
   ],
   "metadata": {}
  },
  {
   "cell_type": "code",
   "execution_count": 12,
   "source": [
    "# run_id = run_1\n",
    "# config_path = f\"../results/LSN_roi/configs/config_{run_id}.csv\"\n",
    "# config_df.to_csv(config_path)"
   ],
   "outputs": [],
   "metadata": {}
  },
  {
   "cell_type": "code",
   "execution_count": null,
   "source": [],
   "outputs": [],
   "metadata": {}
  }
 ],
 "metadata": {
  "orig_nbformat": 4,
  "language_info": {
   "name": "python",
   "version": "3.7.0",
   "mimetype": "text/x-python",
   "codemirror_mode": {
    "name": "ipython",
    "version": 3
   },
   "pygments_lexer": "ipython3",
   "nbconvert_exporter": "python",
   "file_extension": ".py"
  },
  "kernelspec": {
   "name": "python3",
   "display_name": "Python 3.7.0 64-bit ('green_compute': venv)"
  },
  "interpreter": {
   "hash": "96e4927380308772faf387ce1ad6de9eaed4a7d7aadcf2622a8269a7d5f191c8"
  }
 },
 "nbformat": 4,
 "nbformat_minor": 2
}