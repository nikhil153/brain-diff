{
 "cells": [
  {
   "cell_type": "code",
   "execution_count": 1,
   "source": [
    "import numpy as np\n",
    "import pandas as pd\n",
    "import seaborn as sns\n",
    "import nibabel as nib\n",
    "\n",
    "import torch\n",
    "import torch.nn.functional as F\n",
    "from torch.utils.data import Dataset, DataLoader, random_split\n",
    "import torch.nn as nn\n",
    "import torch.optim as optim\n",
    "\n",
    "from LSN import *\n",
    "from models import dp_loss as dpl\n",
    "from models import dp_utils as dpu\n",
    "\n",
    "import matplotlib.pyplot as plt"
   ],
   "outputs": [],
   "metadata": {}
  },
  {
   "cell_type": "markdown",
   "source": [
    "## Paths"
   ],
   "metadata": {}
  },
  {
   "cell_type": "code",
   "execution_count": 2,
   "source": [
    "data_dir = \"/home/nikhil/projects/brain_changes/data/ukbb/\"\n",
    "img_dir = f\"{data_dir}imaging/ukbb_test_subject/\"\n",
    "img_subdirs = [\"ses-2/non-bids/T1/\",\"ses-2/non-bids/T1/\"]\n",
    "metadata_csv = f\"{data_dir}tabular/ukbb_test_subject_metadata.csv\"\n",
    "sfcn_ckpt = \"models/run_20190719_00_epoch_best_mae.p\"\n"
   ],
   "outputs": [],
   "metadata": {}
  },
  {
   "cell_type": "markdown",
   "source": [
    "## Data-loaders"
   ],
   "metadata": {}
  },
  {
   "cell_type": "code",
   "execution_count": 3,
   "source": [
    "batch_size = 1\n",
    "\n",
    "ukbb_dataset = UKBBDataset(img_dir, img_subdirs, metadata_csv)\n",
    "train_dataloader = DataLoader(ukbb_dataset, batch_size=batch_size, shuffle=True)"
   ],
   "outputs": [],
   "metadata": {}
  },
  {
   "cell_type": "markdown",
   "source": [
    "## TwinSFCN"
   ],
   "metadata": {}
  },
  {
   "cell_type": "code",
   "execution_count": 4,
   "source": [
    "device = torch.device(\"cuda:0\" if torch.cuda.is_available() else \"cpu\")\n",
    "\n",
    "model = twinSFCN() # alternative toy model: LSN()\n",
    "\n",
    "model = torch.nn.DataParallel(model)\n",
    "\n",
    "if torch.cuda.is_available():\n",
    "    map_location=lambda storage, loc: storage.cuda()\n",
    "else:\n",
    "    map_location='cpu'\n",
    "    \n",
    "model.load_state_dict(torch.load(sfcn_ckpt, map_location=torch.device('cpu')))\n",
    "\n",
    "optimizer = optim.SGD(model.parameters(), lr=0.01, momentum=0.9)"
   ],
   "outputs": [],
   "metadata": {}
  },
  {
   "cell_type": "markdown",
   "source": [
    "## Train model "
   ],
   "metadata": {}
  },
  {
   "cell_type": "code",
   "execution_count": 5,
   "source": [
    "num_epochs = 10\n",
    "\n",
    "loss_list = []\n",
    "for epoch in range(num_epochs):\n",
    "    running_loss = 0.0\n",
    "    model.train()\n",
    "    print(\"Starting epoch \" + str(epoch+1))\n",
    "    for inputs, outputs in train_dataloader:\n",
    "        img1 = inputs[0]\n",
    "        img2 = inputs[1]\n",
    "        age_at_ses2 = outputs[0]\n",
    "        age_at_ses3 = outputs[1]\n",
    "\n",
    "        # Forward\n",
    "        img1 = img1.to(device)\n",
    "        img2 = img2.to(device)\n",
    "        age_at_ses2 = age_at_ses2.to(device)\n",
    "        age_at_ses3 = age_at_ses3.to(device)\n",
    "\n",
    "        # zero the parameter gradients\n",
    "        optimizer.zero_grad()\n",
    "\n",
    "        # forward + backward + optimize\n",
    "        preds = model(img1, img2)\n",
    "\n",
    "        loss = dpl.twin_KLDivLoss(preds[0][0],preds[1][0],age_at_ses2,age_at_ses3) #criterion(outputs, labels)\n",
    "        \n",
    "        loss.backward()\n",
    "        optimizer.step()\n",
    "\n",
    "        # print statistics\n",
    "        running_loss += loss.item()\n",
    "        loss_list.append(loss.item())\n",
    "    \n",
    "    epoch_loss = running_loss/len(train_dataloader)\n",
    "    print(f\"epoch loss: {epoch_loss:3.2f}\")"
   ],
   "outputs": [
    {
     "output_type": "stream",
     "name": "stdout",
     "text": [
      "Starting epoch 1\n",
      "(1, 160, 192, 160), (1, 160, 192, 160), (53.0, 55.0)\n",
      "(1, 160, 192, 160), (1, 160, 192, 160), (70.0, 72.0)\n",
      "epoch loss: 162.82\n",
      "Starting epoch 2\n",
      "(1, 160, 192, 160), (1, 160, 192, 160), (53.0, 55.0)\n",
      "(1, 160, 192, 160), (1, 160, 192, 160), (70.0, 72.0)\n",
      "epoch loss: 130.97\n",
      "Starting epoch 3\n",
      "(1, 160, 192, 160), (1, 160, 192, 160), (53.0, 55.0)\n",
      "(1, 160, 192, 160), (1, 160, 192, 160), (70.0, 72.0)\n",
      "epoch loss: 144.40\n",
      "Starting epoch 4\n",
      "(1, 160, 192, 160), (1, 160, 192, 160), (53.0, 55.0)\n",
      "(1, 160, 192, 160), (1, 160, 192, 160), (70.0, 72.0)\n",
      "epoch loss: 110.25\n",
      "Starting epoch 5\n",
      "(1, 160, 192, 160), (1, 160, 192, 160), (53.0, 55.0)\n",
      "(1, 160, 192, 160), (1, 160, 192, 160), (70.0, 72.0)\n",
      "epoch loss: 134.35\n",
      "Starting epoch 6\n",
      "(1, 160, 192, 160), (1, 160, 192, 160), (70.0, 72.0)\n",
      "(1, 160, 192, 160), (1, 160, 192, 160), (53.0, 55.0)\n",
      "epoch loss: 136.08\n",
      "Starting epoch 7\n",
      "(1, 160, 192, 160), (1, 160, 192, 160), (70.0, 72.0)\n",
      "(1, 160, 192, 160), (1, 160, 192, 160), (53.0, 55.0)\n",
      "epoch loss: 113.17\n",
      "Starting epoch 8\n",
      "(1, 160, 192, 160), (1, 160, 192, 160), (70.0, 72.0)\n",
      "(1, 160, 192, 160), (1, 160, 192, 160), (53.0, 55.0)\n",
      "epoch loss: 125.62\n",
      "Starting epoch 9\n",
      "(1, 160, 192, 160), (1, 160, 192, 160), (70.0, 72.0)\n",
      "(1, 160, 192, 160), (1, 160, 192, 160), (53.0, 55.0)\n",
      "epoch loss: 106.94\n",
      "Starting epoch 10\n",
      "(1, 160, 192, 160), (1, 160, 192, 160), (53.0, 55.0)\n",
      "(1, 160, 192, 160), (1, 160, 192, 160), (70.0, 72.0)\n",
      "epoch loss: 125.02\n"
     ]
    }
   ],
   "metadata": {}
  },
  {
   "cell_type": "code",
   "execution_count": 7,
   "source": [
    "sns.lineplot(x=range(20),y=loss_list,marker='o')"
   ],
   "outputs": [
    {
     "output_type": "execute_result",
     "data": {
      "text/plain": [
       "<matplotlib.axes._subplots.AxesSubplot at 0x7f89df0a1c18>"
      ]
     },
     "metadata": {},
     "execution_count": 7
    },
    {
     "output_type": "display_data",
     "data": {
      "text/plain": [
       "<Figure size 432x288 with 1 Axes>"
      ],
      "image/png": "[encoded data removed]"
     },
     "metadata": {
      "needs_background": "light"
     }
    }
   ],
   "metadata": {}
  },
  {
   "cell_type": "code",
   "execution_count": null,
   "source": [],
   "outputs": [],
   "metadata": {}
  }
 ],
 "metadata": {
  "orig_nbformat": 4,
  "language_info": {
   "name": "python",
   "version": "3.7.0",
   "mimetype": "text/x-python",
   "codemirror_mode": {
    "name": "ipython",
    "version": 3
   },
   "pygments_lexer": "ipython3",
   "nbconvert_exporter": "python",
   "file_extension": ".py"
  },
  "kernelspec": {
   "name": "python3",
   "display_name": "Python 3.7.0 64-bit ('green_compute': venv)"
  },
  "interpreter": {
   "hash": "96e4927380308772faf387ce1ad6de9eaed4a7d7aadcf2622a8269a7d5f191c8"
  }
 },
 "nbformat": 4,
 "nbformat_minor": 2
}